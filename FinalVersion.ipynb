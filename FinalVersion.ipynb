{
 "cells": [
  {
   "attachments": {},
   "cell_type": "markdown",
   "metadata": {},
   "source": [
    "# INFO-F422 -  Statistical Foundations of Machine Learning Project \n",
    "\n",
    "### Talhaoui Yassin - __[yassin.talhaoui@ulb.be](mailto:yassin.talhaoui@ulb.be)__\n",
    "### Oumahi Abdelmoumen - __[abdelmoumen.oumahi@ulb.be](mailto:abdelmoumen.oumahi@ulb.be)__\n",
    "\n",
    "## Richter's Predictor: Modeling Earthquake Damage"
   ]
  },
  {
   "attachments": {},
   "cell_type": "markdown",
   "metadata": {},
   "source": [
    "## Placement of the seed and the different packages that will be used"
   ]
  },
  {
   "cell_type": "code",
   "execution_count": 2,
   "metadata": {
    "vscode": {
     "languageId": "r"
    }
   },
   "outputs": [],
   "source": [
    "set.seed(123)"
   ]
  },
  {
   "cell_type": "code",
   "execution_count": null,
   "metadata": {
    "vscode": {
     "languageId": "r"
    }
   },
   "outputs": [],
   "source": [
    "install.packages(\"caret\")\n",
    "install.packages(\"tidyverse\")\n",
    "install.packages(\"corrplot\")\n",
    "install.packages(\"rpart\")\n",
    "install.packages(\"rpart.plot\")\n",
    "install.packages(\"matrixStats\")\n",
    "install.packages(\"MLmetrics\")"
   ]
  },
  {
   "cell_type": "code",
   "execution_count": 3,
   "metadata": {
    "vscode": {
     "languageId": "r"
    }
   },
   "outputs": [
    {
     "name": "stderr",
     "output_type": "stream",
     "text": [
      "Le chargement a n'ecessit'e le package : ggplot2\n",
      "\n",
      "Le chargement a n'ecessit'e le package : lattice\n",
      "\n",
      "-- \u001b[1mAttaching core tidyverse packages\u001b[22m ------------------------ tidyverse 2.0.0 --\n",
      "\u001b[32mv\u001b[39m \u001b[34mdplyr    \u001b[39m 1.1.2     \u001b[32mv\u001b[39m \u001b[34mreadr    \u001b[39m 2.1.4\n",
      "\u001b[32mv\u001b[39m \u001b[34mforcats  \u001b[39m 1.0.0     \u001b[32mv\u001b[39m \u001b[34mstringr  \u001b[39m 1.5.0\n",
      "\u001b[32mv\u001b[39m \u001b[34mlubridate\u001b[39m 1.9.2     \u001b[32mv\u001b[39m \u001b[34mtibble   \u001b[39m 3.2.1\n",
      "\u001b[32mv\u001b[39m \u001b[34mpurrr    \u001b[39m 1.0.1     \u001b[32mv\u001b[39m \u001b[34mtidyr    \u001b[39m 1.3.0\n",
      "-- \u001b[1mConflicts\u001b[22m ------------------------------------------ tidyverse_conflicts() --\n",
      "\u001b[31mx\u001b[39m \u001b[34mdplyr\u001b[39m::\u001b[32mfilter()\u001b[39m masks \u001b[34mstats\u001b[39m::filter()\n",
      "\u001b[31mx\u001b[39m \u001b[34mdplyr\u001b[39m::\u001b[32mlag()\u001b[39m    masks \u001b[34mstats\u001b[39m::lag()\n",
      "\u001b[31mx\u001b[39m \u001b[34mpurrr\u001b[39m::\u001b[32mlift()\u001b[39m   masks \u001b[34mcaret\u001b[39m::lift()\n",
      "\u001b[36mi\u001b[39m Use the conflicted package (\u001b[3m\u001b[34m<http://conflicted.r-lib.org/>\u001b[39m\u001b[23m) to force all conflicts to become errors\n",
      "corrplot 0.92 loaded\n",
      "\n",
      "\n",
      "Attachement du package : 'matrixStats'\n",
      "\n",
      "\n",
      "L'objet suivant est masqu'e depuis 'package:dplyr':\n",
      "\n",
      "    count\n",
      "\n",
      "\n",
      "\n",
      "Attachement du package : 'MLmetrics'\n",
      "\n",
      "\n",
      "Les objets suivants sont masqu'es depuis 'package:caret':\n",
      "\n",
      "    MAE, RMSE\n",
      "\n",
      "\n",
      "L'objet suivant est masqu'e depuis 'package:base':\n",
      "\n",
      "    Recall\n",
      "\n",
      "\n"
     ]
    }
   ],
   "source": [
    "library(caret)\n",
    "library(tidyverse)\n",
    "library(corrplot)\n",
    "library(rpart)\n",
    "library(rpart.plot)\n",
    "library(matrixStats)\n",
    "library(MLmetrics)"
   ]
  },
  {
   "attachments": {},
   "cell_type": "markdown",
   "metadata": {},
   "source": [
    "## QUESTION 1"
   ]
  },
  {
   "attachments": {},
   "cell_type": "markdown",
   "metadata": {},
   "source": [
    "Update : During the preprocessing we will apply the same modification to the train and test dataset because for the following questions it will impose us in general the name of the variable will be the same as for the train except that we will add a T (to indicate that it concerns the test dataset)"
   ]
  },
  {
   "attachments": {},
   "cell_type": "markdown",
   "metadata": {},
   "source": [
    "Loading of different datasets and first overview of the data"
   ]
  },
  {
   "cell_type": "code",
   "execution_count": 4,
   "metadata": {
    "vscode": {
     "languageId": "r"
    }
   },
   "outputs": [
    {
     "data": {
      "text/html": [
       "<style>\n",
       ".list-inline {list-style: none; margin:0; padding: 0}\n",
       ".list-inline>li {display: inline-block}\n",
       ".list-inline>li:not(:last-child)::after {content: \"\\00b7\"; padding: 0 .5ex}\n",
       "</style>\n",
       "<ol class=list-inline><li>260601</li><li>39</li></ol>\n"
      ],
      "text/latex": [
       "\\begin{enumerate*}\n",
       "\\item 260601\n",
       "\\item 39\n",
       "\\end{enumerate*}\n"
      ],
      "text/markdown": [
       "1. 260601\n",
       "2. 39\n",
       "\n",
       "\n"
      ],
      "text/plain": [
       "[1] 260601     39"
      ]
     },
     "metadata": {},
     "output_type": "display_data"
    },
    {
     "data": {
      "text/html": [
       "<style>\n",
       ".list-inline {list-style: none; margin:0; padding: 0}\n",
       ".list-inline>li {display: inline-block}\n",
       ".list-inline>li:not(:last-child)::after {content: \"\\00b7\"; padding: 0 .5ex}\n",
       "</style>\n",
       "<ol class=list-inline><li>260601</li><li>2</li></ol>\n"
      ],
      "text/latex": [
       "\\begin{enumerate*}\n",
       "\\item 260601\n",
       "\\item 2\n",
       "\\end{enumerate*}\n"
      ],
      "text/markdown": [
       "1. 260601\n",
       "2. 2\n",
       "\n",
       "\n"
      ],
      "text/plain": [
       "[1] 260601      2"
      ]
     },
     "metadata": {},
     "output_type": "display_data"
    },
    {
     "data": {
      "text/html": [
       "<style>\n",
       ".list-inline {list-style: none; margin:0; padding: 0}\n",
       ".list-inline>li {display: inline-block}\n",
       ".list-inline>li:not(:last-child)::after {content: \"\\00b7\"; padding: 0 .5ex}\n",
       "</style>\n",
       "<ol class=list-inline><li>86868</li><li>39</li></ol>\n"
      ],
      "text/latex": [
       "\\begin{enumerate*}\n",
       "\\item 86868\n",
       "\\item 39\n",
       "\\end{enumerate*}\n"
      ],
      "text/markdown": [
       "1. 86868\n",
       "2. 39\n",
       "\n",
       "\n"
      ],
      "text/plain": [
       "[1] 86868    39"
      ]
     },
     "metadata": {},
     "output_type": "display_data"
    },
    {
     "data": {
      "text/html": [
       "<style>\n",
       ".list-inline {list-style: none; margin:0; padding: 0}\n",
       ".list-inline>li {display: inline-block}\n",
       ".list-inline>li:not(:last-child)::after {content: \"\\00b7\"; padding: 0 .5ex}\n",
       "</style>\n",
       "<ol class=list-inline><li>260601</li><li>40</li></ol>\n"
      ],
      "text/latex": [
       "\\begin{enumerate*}\n",
       "\\item 260601\n",
       "\\item 40\n",
       "\\end{enumerate*}\n"
      ],
      "text/markdown": [
       "1. 260601\n",
       "2. 40\n",
       "\n",
       "\n"
      ],
      "text/plain": [
       "[1] 260601     40"
      ]
     },
     "metadata": {},
     "output_type": "display_data"
    }
   ],
   "source": [
    "train <- read.csv(\"Richters_Predictor_Modeling_Earthquake_Damage_-_Train_Values.csv\")\n",
    "label <- read.csv(\"Richters_Predictor_Modeling_Earthquake_Damage_-_Train_Labels.csv\")\n",
    "test <- read.csv(\"Richters_Predictor_Modeling_Earthquake_Damage_-_Test_Values.csv\")\n",
    "trainMerged <- inner_join(train, label, by='building_id')\n",
    "dim(train)\n",
    "dim(label)\n",
    "dim(test)\n",
    "dim(trainMerged)"
   ]
  },
  {
   "attachments": {},
   "cell_type": "markdown",
   "metadata": {},
   "source": [
    "The dimensions are in accordance with the one stated on the DivenData website"
   ]
  },
  {
   "cell_type": "code",
   "execution_count": 5,
   "metadata": {
    "vscode": {
     "languageId": "r"
    }
   },
   "outputs": [
    {
     "data": {
      "text/html": [
       "<table class=\"dataframe\">\n",
       "<caption>A data.frame: 6 x 39</caption>\n",
       "<thead>\n",
       "\t<tr><th></th><th scope=col>building_id</th><th scope=col>geo_level_1_id</th><th scope=col>geo_level_2_id</th><th scope=col>geo_level_3_id</th><th scope=col>count_floors_pre_eq</th><th scope=col>age</th><th scope=col>area_percentage</th><th scope=col>height_percentage</th><th scope=col>land_surface_condition</th><th scope=col>foundation_type</th><th scope=col>...</th><th scope=col>has_secondary_use_agriculture</th><th scope=col>has_secondary_use_hotel</th><th scope=col>has_secondary_use_rental</th><th scope=col>has_secondary_use_institution</th><th scope=col>has_secondary_use_school</th><th scope=col>has_secondary_use_industry</th><th scope=col>has_secondary_use_health_post</th><th scope=col>has_secondary_use_gov_office</th><th scope=col>has_secondary_use_use_police</th><th scope=col>has_secondary_use_other</th></tr>\n",
       "\t<tr><th></th><th scope=col>&lt;int&gt;</th><th scope=col>&lt;int&gt;</th><th scope=col>&lt;int&gt;</th><th scope=col>&lt;int&gt;</th><th scope=col>&lt;int&gt;</th><th scope=col>&lt;int&gt;</th><th scope=col>&lt;int&gt;</th><th scope=col>&lt;int&gt;</th><th scope=col>&lt;chr&gt;</th><th scope=col>&lt;chr&gt;</th><th scope=col>...</th><th scope=col>&lt;int&gt;</th><th scope=col>&lt;int&gt;</th><th scope=col>&lt;int&gt;</th><th scope=col>&lt;int&gt;</th><th scope=col>&lt;int&gt;</th><th scope=col>&lt;int&gt;</th><th scope=col>&lt;int&gt;</th><th scope=col>&lt;int&gt;</th><th scope=col>&lt;int&gt;</th><th scope=col>&lt;int&gt;</th></tr>\n",
       "</thead>\n",
       "<tbody>\n",
       "\t<tr><th scope=row>1</th><td>802906</td><td> 6</td><td>487</td><td>12198</td><td>2</td><td>30</td><td>6</td><td>5</td><td>t</td><td>r</td><td>...</td><td>0</td><td>0</td><td>0</td><td>0</td><td>0</td><td>0</td><td>0</td><td>0</td><td>0</td><td>0</td></tr>\n",
       "\t<tr><th scope=row>2</th><td> 28830</td><td> 8</td><td>900</td><td> 2812</td><td>2</td><td>10</td><td>8</td><td>7</td><td>o</td><td>r</td><td>...</td><td>0</td><td>0</td><td>0</td><td>0</td><td>0</td><td>0</td><td>0</td><td>0</td><td>0</td><td>0</td></tr>\n",
       "\t<tr><th scope=row>3</th><td> 94947</td><td>21</td><td>363</td><td> 8973</td><td>2</td><td>10</td><td>5</td><td>5</td><td>t</td><td>r</td><td>...</td><td>0</td><td>0</td><td>0</td><td>0</td><td>0</td><td>0</td><td>0</td><td>0</td><td>0</td><td>0</td></tr>\n",
       "\t<tr><th scope=row>4</th><td>590882</td><td>22</td><td>418</td><td>10694</td><td>2</td><td>10</td><td>6</td><td>5</td><td>t</td><td>r</td><td>...</td><td>0</td><td>0</td><td>0</td><td>0</td><td>0</td><td>0</td><td>0</td><td>0</td><td>0</td><td>0</td></tr>\n",
       "\t<tr><th scope=row>5</th><td>201944</td><td>11</td><td>131</td><td> 1488</td><td>3</td><td>30</td><td>8</td><td>9</td><td>t</td><td>r</td><td>...</td><td>0</td><td>0</td><td>0</td><td>0</td><td>0</td><td>0</td><td>0</td><td>0</td><td>0</td><td>0</td></tr>\n",
       "\t<tr><th scope=row>6</th><td>333020</td><td> 8</td><td>558</td><td> 6089</td><td>2</td><td>10</td><td>9</td><td>5</td><td>t</td><td>r</td><td>...</td><td>1</td><td>0</td><td>0</td><td>0</td><td>0</td><td>0</td><td>0</td><td>0</td><td>0</td><td>0</td></tr>\n",
       "</tbody>\n",
       "</table>\n"
      ],
      "text/latex": [
       "A data.frame: 6 x 39\n",
       "\\begin{tabular}{r|lllllllllllllllllllll}\n",
       "  & building\\_id & geo\\_level\\_1\\_id & geo\\_level\\_2\\_id & geo\\_level\\_3\\_id & count\\_floors\\_pre\\_eq & age & area\\_percentage & height\\_percentage & land\\_surface\\_condition & foundation\\_type & ... & has\\_secondary\\_use\\_agriculture & has\\_secondary\\_use\\_hotel & has\\_secondary\\_use\\_rental & has\\_secondary\\_use\\_institution & has\\_secondary\\_use\\_school & has\\_secondary\\_use\\_industry & has\\_secondary\\_use\\_health\\_post & has\\_secondary\\_use\\_gov\\_office & has\\_secondary\\_use\\_use\\_police & has\\_secondary\\_use\\_other\\\\\n",
       "  & <int> & <int> & <int> & <int> & <int> & <int> & <int> & <int> & <chr> & <chr> & ... & <int> & <int> & <int> & <int> & <int> & <int> & <int> & <int> & <int> & <int>\\\\\n",
       "\\hline\n",
       "\t1 & 802906 &  6 & 487 & 12198 & 2 & 30 & 6 & 5 & t & r & ... & 0 & 0 & 0 & 0 & 0 & 0 & 0 & 0 & 0 & 0\\\\\n",
       "\t2 &  28830 &  8 & 900 &  2812 & 2 & 10 & 8 & 7 & o & r & ... & 0 & 0 & 0 & 0 & 0 & 0 & 0 & 0 & 0 & 0\\\\\n",
       "\t3 &  94947 & 21 & 363 &  8973 & 2 & 10 & 5 & 5 & t & r & ... & 0 & 0 & 0 & 0 & 0 & 0 & 0 & 0 & 0 & 0\\\\\n",
       "\t4 & 590882 & 22 & 418 & 10694 & 2 & 10 & 6 & 5 & t & r & ... & 0 & 0 & 0 & 0 & 0 & 0 & 0 & 0 & 0 & 0\\\\\n",
       "\t5 & 201944 & 11 & 131 &  1488 & 3 & 30 & 8 & 9 & t & r & ... & 0 & 0 & 0 & 0 & 0 & 0 & 0 & 0 & 0 & 0\\\\\n",
       "\t6 & 333020 &  8 & 558 &  6089 & 2 & 10 & 9 & 5 & t & r & ... & 1 & 0 & 0 & 0 & 0 & 0 & 0 & 0 & 0 & 0\\\\\n",
       "\\end{tabular}\n"
      ],
      "text/markdown": [
       "\n",
       "A data.frame: 6 x 39\n",
       "\n",
       "| <!--/--> | building_id &lt;int&gt; | geo_level_1_id &lt;int&gt; | geo_level_2_id &lt;int&gt; | geo_level_3_id &lt;int&gt; | count_floors_pre_eq &lt;int&gt; | age &lt;int&gt; | area_percentage &lt;int&gt; | height_percentage &lt;int&gt; | land_surface_condition &lt;chr&gt; | foundation_type &lt;chr&gt; | ... ... | has_secondary_use_agriculture &lt;int&gt; | has_secondary_use_hotel &lt;int&gt; | has_secondary_use_rental &lt;int&gt; | has_secondary_use_institution &lt;int&gt; | has_secondary_use_school &lt;int&gt; | has_secondary_use_industry &lt;int&gt; | has_secondary_use_health_post &lt;int&gt; | has_secondary_use_gov_office &lt;int&gt; | has_secondary_use_use_police &lt;int&gt; | has_secondary_use_other &lt;int&gt; |\n",
       "|---|---|---|---|---|---|---|---|---|---|---|---|---|---|---|---|---|---|---|---|---|---|\n",
       "| 1 | 802906 |  6 | 487 | 12198 | 2 | 30 | 6 | 5 | t | r | ... | 0 | 0 | 0 | 0 | 0 | 0 | 0 | 0 | 0 | 0 |\n",
       "| 2 |  28830 |  8 | 900 |  2812 | 2 | 10 | 8 | 7 | o | r | ... | 0 | 0 | 0 | 0 | 0 | 0 | 0 | 0 | 0 | 0 |\n",
       "| 3 |  94947 | 21 | 363 |  8973 | 2 | 10 | 5 | 5 | t | r | ... | 0 | 0 | 0 | 0 | 0 | 0 | 0 | 0 | 0 | 0 |\n",
       "| 4 | 590882 | 22 | 418 | 10694 | 2 | 10 | 6 | 5 | t | r | ... | 0 | 0 | 0 | 0 | 0 | 0 | 0 | 0 | 0 | 0 |\n",
       "| 5 | 201944 | 11 | 131 |  1488 | 3 | 30 | 8 | 9 | t | r | ... | 0 | 0 | 0 | 0 | 0 | 0 | 0 | 0 | 0 | 0 |\n",
       "| 6 | 333020 |  8 | 558 |  6089 | 2 | 10 | 9 | 5 | t | r | ... | 1 | 0 | 0 | 0 | 0 | 0 | 0 | 0 | 0 | 0 |\n",
       "\n"
      ],
      "text/plain": [
       "  building_id geo_level_1_id geo_level_2_id geo_level_3_id count_floors_pre_eq\n",
       "1 802906       6             487            12198          2                  \n",
       "2  28830       8             900             2812          2                  \n",
       "3  94947      21             363             8973          2                  \n",
       "4 590882      22             418            10694          2                  \n",
       "5 201944      11             131             1488          3                  \n",
       "6 333020       8             558             6089          2                  \n",
       "  age area_percentage height_percentage land_surface_condition foundation_type\n",
       "1 30  6               5                 t                      r              \n",
       "2 10  8               7                 o                      r              \n",
       "3 10  5               5                 t                      r              \n",
       "4 10  6               5                 t                      r              \n",
       "5 30  8               9                 t                      r              \n",
       "6 10  9               5                 t                      r              \n",
       "  ... has_secondary_use_agriculture has_secondary_use_hotel\n",
       "1 ... 0                             0                      \n",
       "2 ... 0                             0                      \n",
       "3 ... 0                             0                      \n",
       "4 ... 0                             0                      \n",
       "5 ... 0                             0                      \n",
       "6 ... 1                             0                      \n",
       "  has_secondary_use_rental has_secondary_use_institution\n",
       "1 0                        0                            \n",
       "2 0                        0                            \n",
       "3 0                        0                            \n",
       "4 0                        0                            \n",
       "5 0                        0                            \n",
       "6 0                        0                            \n",
       "  has_secondary_use_school has_secondary_use_industry\n",
       "1 0                        0                         \n",
       "2 0                        0                         \n",
       "3 0                        0                         \n",
       "4 0                        0                         \n",
       "5 0                        0                         \n",
       "6 0                        0                         \n",
       "  has_secondary_use_health_post has_secondary_use_gov_office\n",
       "1 0                             0                           \n",
       "2 0                             0                           \n",
       "3 0                             0                           \n",
       "4 0                             0                           \n",
       "5 0                             0                           \n",
       "6 0                             0                           \n",
       "  has_secondary_use_use_police has_secondary_use_other\n",
       "1 0                            0                      \n",
       "2 0                            0                      \n",
       "3 0                            0                      \n",
       "4 0                            0                      \n",
       "5 0                            0                      \n",
       "6 0                            0                      "
      ]
     },
     "metadata": {},
     "output_type": "display_data"
    },
    {
     "data": {
      "text/html": [
       "<table class=\"dataframe\">\n",
       "<caption>A data.frame: 6 x 40</caption>\n",
       "<thead>\n",
       "\t<tr><th></th><th scope=col>building_id</th><th scope=col>geo_level_1_id</th><th scope=col>geo_level_2_id</th><th scope=col>geo_level_3_id</th><th scope=col>count_floors_pre_eq</th><th scope=col>age</th><th scope=col>area_percentage</th><th scope=col>height_percentage</th><th scope=col>land_surface_condition</th><th scope=col>foundation_type</th><th scope=col>...</th><th scope=col>has_secondary_use_hotel</th><th scope=col>has_secondary_use_rental</th><th scope=col>has_secondary_use_institution</th><th scope=col>has_secondary_use_school</th><th scope=col>has_secondary_use_industry</th><th scope=col>has_secondary_use_health_post</th><th scope=col>has_secondary_use_gov_office</th><th scope=col>has_secondary_use_use_police</th><th scope=col>has_secondary_use_other</th><th scope=col>damage_grade</th></tr>\n",
       "\t<tr><th></th><th scope=col>&lt;int&gt;</th><th scope=col>&lt;int&gt;</th><th scope=col>&lt;int&gt;</th><th scope=col>&lt;int&gt;</th><th scope=col>&lt;int&gt;</th><th scope=col>&lt;int&gt;</th><th scope=col>&lt;int&gt;</th><th scope=col>&lt;int&gt;</th><th scope=col>&lt;chr&gt;</th><th scope=col>&lt;chr&gt;</th><th scope=col>...</th><th scope=col>&lt;int&gt;</th><th scope=col>&lt;int&gt;</th><th scope=col>&lt;int&gt;</th><th scope=col>&lt;int&gt;</th><th scope=col>&lt;int&gt;</th><th scope=col>&lt;int&gt;</th><th scope=col>&lt;int&gt;</th><th scope=col>&lt;int&gt;</th><th scope=col>&lt;int&gt;</th><th scope=col>&lt;int&gt;</th></tr>\n",
       "</thead>\n",
       "<tbody>\n",
       "\t<tr><th scope=row>1</th><td>802906</td><td> 6</td><td>487</td><td>12198</td><td>2</td><td>30</td><td>6</td><td>5</td><td>t</td><td>r</td><td>...</td><td>0</td><td>0</td><td>0</td><td>0</td><td>0</td><td>0</td><td>0</td><td>0</td><td>0</td><td>3</td></tr>\n",
       "\t<tr><th scope=row>2</th><td> 28830</td><td> 8</td><td>900</td><td> 2812</td><td>2</td><td>10</td><td>8</td><td>7</td><td>o</td><td>r</td><td>...</td><td>0</td><td>0</td><td>0</td><td>0</td><td>0</td><td>0</td><td>0</td><td>0</td><td>0</td><td>2</td></tr>\n",
       "\t<tr><th scope=row>3</th><td> 94947</td><td>21</td><td>363</td><td> 8973</td><td>2</td><td>10</td><td>5</td><td>5</td><td>t</td><td>r</td><td>...</td><td>0</td><td>0</td><td>0</td><td>0</td><td>0</td><td>0</td><td>0</td><td>0</td><td>0</td><td>3</td></tr>\n",
       "\t<tr><th scope=row>4</th><td>590882</td><td>22</td><td>418</td><td>10694</td><td>2</td><td>10</td><td>6</td><td>5</td><td>t</td><td>r</td><td>...</td><td>0</td><td>0</td><td>0</td><td>0</td><td>0</td><td>0</td><td>0</td><td>0</td><td>0</td><td>2</td></tr>\n",
       "\t<tr><th scope=row>5</th><td>201944</td><td>11</td><td>131</td><td> 1488</td><td>3</td><td>30</td><td>8</td><td>9</td><td>t</td><td>r</td><td>...</td><td>0</td><td>0</td><td>0</td><td>0</td><td>0</td><td>0</td><td>0</td><td>0</td><td>0</td><td>3</td></tr>\n",
       "\t<tr><th scope=row>6</th><td>333020</td><td> 8</td><td>558</td><td> 6089</td><td>2</td><td>10</td><td>9</td><td>5</td><td>t</td><td>r</td><td>...</td><td>0</td><td>0</td><td>0</td><td>0</td><td>0</td><td>0</td><td>0</td><td>0</td><td>0</td><td>2</td></tr>\n",
       "</tbody>\n",
       "</table>\n"
      ],
      "text/latex": [
       "A data.frame: 6 x 40\n",
       "\\begin{tabular}{r|lllllllllllllllllllll}\n",
       "  & building\\_id & geo\\_level\\_1\\_id & geo\\_level\\_2\\_id & geo\\_level\\_3\\_id & count\\_floors\\_pre\\_eq & age & area\\_percentage & height\\_percentage & land\\_surface\\_condition & foundation\\_type & ... & has\\_secondary\\_use\\_hotel & has\\_secondary\\_use\\_rental & has\\_secondary\\_use\\_institution & has\\_secondary\\_use\\_school & has\\_secondary\\_use\\_industry & has\\_secondary\\_use\\_health\\_post & has\\_secondary\\_use\\_gov\\_office & has\\_secondary\\_use\\_use\\_police & has\\_secondary\\_use\\_other & damage\\_grade\\\\\n",
       "  & <int> & <int> & <int> & <int> & <int> & <int> & <int> & <int> & <chr> & <chr> & ... & <int> & <int> & <int> & <int> & <int> & <int> & <int> & <int> & <int> & <int>\\\\\n",
       "\\hline\n",
       "\t1 & 802906 &  6 & 487 & 12198 & 2 & 30 & 6 & 5 & t & r & ... & 0 & 0 & 0 & 0 & 0 & 0 & 0 & 0 & 0 & 3\\\\\n",
       "\t2 &  28830 &  8 & 900 &  2812 & 2 & 10 & 8 & 7 & o & r & ... & 0 & 0 & 0 & 0 & 0 & 0 & 0 & 0 & 0 & 2\\\\\n",
       "\t3 &  94947 & 21 & 363 &  8973 & 2 & 10 & 5 & 5 & t & r & ... & 0 & 0 & 0 & 0 & 0 & 0 & 0 & 0 & 0 & 3\\\\\n",
       "\t4 & 590882 & 22 & 418 & 10694 & 2 & 10 & 6 & 5 & t & r & ... & 0 & 0 & 0 & 0 & 0 & 0 & 0 & 0 & 0 & 2\\\\\n",
       "\t5 & 201944 & 11 & 131 &  1488 & 3 & 30 & 8 & 9 & t & r & ... & 0 & 0 & 0 & 0 & 0 & 0 & 0 & 0 & 0 & 3\\\\\n",
       "\t6 & 333020 &  8 & 558 &  6089 & 2 & 10 & 9 & 5 & t & r & ... & 0 & 0 & 0 & 0 & 0 & 0 & 0 & 0 & 0 & 2\\\\\n",
       "\\end{tabular}\n"
      ],
      "text/markdown": [
       "\n",
       "A data.frame: 6 x 40\n",
       "\n",
       "| <!--/--> | building_id &lt;int&gt; | geo_level_1_id &lt;int&gt; | geo_level_2_id &lt;int&gt; | geo_level_3_id &lt;int&gt; | count_floors_pre_eq &lt;int&gt; | age &lt;int&gt; | area_percentage &lt;int&gt; | height_percentage &lt;int&gt; | land_surface_condition &lt;chr&gt; | foundation_type &lt;chr&gt; | ... ... | has_secondary_use_hotel &lt;int&gt; | has_secondary_use_rental &lt;int&gt; | has_secondary_use_institution &lt;int&gt; | has_secondary_use_school &lt;int&gt; | has_secondary_use_industry &lt;int&gt; | has_secondary_use_health_post &lt;int&gt; | has_secondary_use_gov_office &lt;int&gt; | has_secondary_use_use_police &lt;int&gt; | has_secondary_use_other &lt;int&gt; | damage_grade &lt;int&gt; |\n",
       "|---|---|---|---|---|---|---|---|---|---|---|---|---|---|---|---|---|---|---|---|---|---|\n",
       "| 1 | 802906 |  6 | 487 | 12198 | 2 | 30 | 6 | 5 | t | r | ... | 0 | 0 | 0 | 0 | 0 | 0 | 0 | 0 | 0 | 3 |\n",
       "| 2 |  28830 |  8 | 900 |  2812 | 2 | 10 | 8 | 7 | o | r | ... | 0 | 0 | 0 | 0 | 0 | 0 | 0 | 0 | 0 | 2 |\n",
       "| 3 |  94947 | 21 | 363 |  8973 | 2 | 10 | 5 | 5 | t | r | ... | 0 | 0 | 0 | 0 | 0 | 0 | 0 | 0 | 0 | 3 |\n",
       "| 4 | 590882 | 22 | 418 | 10694 | 2 | 10 | 6 | 5 | t | r | ... | 0 | 0 | 0 | 0 | 0 | 0 | 0 | 0 | 0 | 2 |\n",
       "| 5 | 201944 | 11 | 131 |  1488 | 3 | 30 | 8 | 9 | t | r | ... | 0 | 0 | 0 | 0 | 0 | 0 | 0 | 0 | 0 | 3 |\n",
       "| 6 | 333020 |  8 | 558 |  6089 | 2 | 10 | 9 | 5 | t | r | ... | 0 | 0 | 0 | 0 | 0 | 0 | 0 | 0 | 0 | 2 |\n",
       "\n"
      ],
      "text/plain": [
       "  building_id geo_level_1_id geo_level_2_id geo_level_3_id count_floors_pre_eq\n",
       "1 802906       6             487            12198          2                  \n",
       "2  28830       8             900             2812          2                  \n",
       "3  94947      21             363             8973          2                  \n",
       "4 590882      22             418            10694          2                  \n",
       "5 201944      11             131             1488          3                  \n",
       "6 333020       8             558             6089          2                  \n",
       "  age area_percentage height_percentage land_surface_condition foundation_type\n",
       "1 30  6               5                 t                      r              \n",
       "2 10  8               7                 o                      r              \n",
       "3 10  5               5                 t                      r              \n",
       "4 10  6               5                 t                      r              \n",
       "5 30  8               9                 t                      r              \n",
       "6 10  9               5                 t                      r              \n",
       "  ... has_secondary_use_hotel has_secondary_use_rental\n",
       "1 ... 0                       0                       \n",
       "2 ... 0                       0                       \n",
       "3 ... 0                       0                       \n",
       "4 ... 0                       0                       \n",
       "5 ... 0                       0                       \n",
       "6 ... 0                       0                       \n",
       "  has_secondary_use_institution has_secondary_use_school\n",
       "1 0                             0                       \n",
       "2 0                             0                       \n",
       "3 0                             0                       \n",
       "4 0                             0                       \n",
       "5 0                             0                       \n",
       "6 0                             0                       \n",
       "  has_secondary_use_industry has_secondary_use_health_post\n",
       "1 0                          0                            \n",
       "2 0                          0                            \n",
       "3 0                          0                            \n",
       "4 0                          0                            \n",
       "5 0                          0                            \n",
       "6 0                          0                            \n",
       "  has_secondary_use_gov_office has_secondary_use_use_police\n",
       "1 0                            0                           \n",
       "2 0                            0                           \n",
       "3 0                            0                           \n",
       "4 0                            0                           \n",
       "5 0                            0                           \n",
       "6 0                            0                           \n",
       "  has_secondary_use_other damage_grade\n",
       "1 0                       3           \n",
       "2 0                       2           \n",
       "3 0                       3           \n",
       "4 0                       2           \n",
       "5 0                       3           \n",
       "6 0                       2           "
      ]
     },
     "metadata": {},
     "output_type": "display_data"
    },
    {
     "data": {
      "text/html": [
       "<table class=\"dataframe\">\n",
       "<caption>A data.frame: 6 x 2</caption>\n",
       "<thead>\n",
       "\t<tr><th></th><th scope=col>building_id</th><th scope=col>damage_grade</th></tr>\n",
       "\t<tr><th></th><th scope=col>&lt;int&gt;</th><th scope=col>&lt;int&gt;</th></tr>\n",
       "</thead>\n",
       "<tbody>\n",
       "\t<tr><th scope=row>1</th><td>802906</td><td>3</td></tr>\n",
       "\t<tr><th scope=row>2</th><td> 28830</td><td>2</td></tr>\n",
       "\t<tr><th scope=row>3</th><td> 94947</td><td>3</td></tr>\n",
       "\t<tr><th scope=row>4</th><td>590882</td><td>2</td></tr>\n",
       "\t<tr><th scope=row>5</th><td>201944</td><td>3</td></tr>\n",
       "\t<tr><th scope=row>6</th><td>333020</td><td>2</td></tr>\n",
       "</tbody>\n",
       "</table>\n"
      ],
      "text/latex": [
       "A data.frame: 6 x 2\n",
       "\\begin{tabular}{r|ll}\n",
       "  & building\\_id & damage\\_grade\\\\\n",
       "  & <int> & <int>\\\\\n",
       "\\hline\n",
       "\t1 & 802906 & 3\\\\\n",
       "\t2 &  28830 & 2\\\\\n",
       "\t3 &  94947 & 3\\\\\n",
       "\t4 & 590882 & 2\\\\\n",
       "\t5 & 201944 & 3\\\\\n",
       "\t6 & 333020 & 2\\\\\n",
       "\\end{tabular}\n"
      ],
      "text/markdown": [
       "\n",
       "A data.frame: 6 x 2\n",
       "\n",
       "| <!--/--> | building_id &lt;int&gt; | damage_grade &lt;int&gt; |\n",
       "|---|---|---|\n",
       "| 1 | 802906 | 3 |\n",
       "| 2 |  28830 | 2 |\n",
       "| 3 |  94947 | 3 |\n",
       "| 4 | 590882 | 2 |\n",
       "| 5 | 201944 | 3 |\n",
       "| 6 | 333020 | 2 |\n",
       "\n"
      ],
      "text/plain": [
       "  building_id damage_grade\n",
       "1 802906      3           \n",
       "2  28830      2           \n",
       "3  94947      3           \n",
       "4 590882      2           \n",
       "5 201944      3           \n",
       "6 333020      2           "
      ]
     },
     "metadata": {},
     "output_type": "display_data"
    }
   ],
   "source": [
    "head(train)\n",
    "head(trainMerged)\n",
    "head(label)"
   ]
  },
  {
   "cell_type": "code",
   "execution_count": null,
   "metadata": {
    "vscode": {
     "languageId": "r"
    }
   },
   "outputs": [],
   "source": [
    "summary(train)\n",
    "summary(label)\n",
    "summary(test)"
   ]
  },
  {
   "attachments": {},
   "cell_type": "markdown",
   "metadata": {},
   "source": [
    "And by using the summary() function of R, we can affirm that there is no missing value."
   ]
  },
  {
   "attachments": {},
   "cell_type": "markdown",
   "metadata": {},
   "source": [
    "Here the objective is to try to reduce the impact of extreme values of some variables. For example the variable \"age\" contains some very high values (building which are almost 1000 years old), in order to avoid that it impacts the accuracy of our tasks. We will reduce them by replacing them by limit values (Winsorization)"
   ]
  },
  {
   "attachments": {},
   "cell_type": "markdown",
   "metadata": {},
   "source": [
    "Count_floors_pre_eq"
   ]
  },
  {
   "cell_type": "code",
   "execution_count": 6,
   "metadata": {
    "vscode": {
     "languageId": "r"
    }
   },
   "outputs": [],
   "source": [
    "iqr <- IQR(trainMerged$count_floors_pre_eq)\n",
    "factor <- 3\n",
    "limit <- median(trainMerged$count_floors_pre_eq) + factor * iqr\n",
    "trainMerged$count_floors_pre_eq[trainMerged$count_floors_pre_eq > limit] <- limit\n",
    "\n",
    "iqr <- IQR(test$count_floors_pre_eq)\n",
    "factor <- 3\n",
    "limit <- median(test$count_floors_pre_eq) + factor * iqr\n",
    "test$count_floors_pre_eq[test$count_floors_pre_eq > limit] <- limit"
   ]
  },
  {
   "cell_type": "code",
   "execution_count": null,
   "metadata": {
    "vscode": {
     "languageId": "r"
    }
   },
   "outputs": [],
   "source": [
    "hist(trainMerged$count_floors_pre_eq)\n",
    "table(trainMerged$count_floors_pre_eq)"
   ]
  },
  {
   "attachments": {},
   "cell_type": "markdown",
   "metadata": {},
   "source": [
    "Age"
   ]
  },
  {
   "cell_type": "code",
   "execution_count": 7,
   "metadata": {
    "vscode": {
     "languageId": "r"
    }
   },
   "outputs": [],
   "source": [
    "iqr <- IQR(trainMerged$age)\n",
    "factor <- 3\n",
    "limit <- median(trainMerged$age) + factor * iqr\n",
    "trainMerged$age[trainMerged$age > limit] <- limit\n",
    "\n",
    "iqr <- IQR(test$age)\n",
    "factor <- 3\n",
    "limit <- median(test$age) + factor * iqr\n",
    "test$age[test$age > limit] <- limit"
   ]
  },
  {
   "cell_type": "code",
   "execution_count": null,
   "metadata": {
    "vscode": {
     "languageId": "r"
    }
   },
   "outputs": [],
   "source": [
    "hist(trainMerged$age)\n",
    "table(trainMerged$age)\n"
   ]
  },
  {
   "attachments": {},
   "cell_type": "markdown",
   "metadata": {},
   "source": [
    "Area_percentage"
   ]
  },
  {
   "cell_type": "code",
   "execution_count": 8,
   "metadata": {
    "vscode": {
     "languageId": "r"
    }
   },
   "outputs": [],
   "source": [
    "iqr <- IQR(trainMerged$area_percentage)\n",
    "factor <- 3\n",
    "limit <- median(trainMerged$area_percentage) + factor * iqr\n",
    "trainMerged$area_percentage[trainMerged$area_percentage > limit] <- limit\n",
    "\n",
    "iqr <- IQR(test$area_percentage)\n",
    "factor <- 3\n",
    "limit <- median(test$area_percentage) + factor * iqr\n",
    "test$area_percentage[test$area_percentage > limit] <- limit"
   ]
  },
  {
   "cell_type": "code",
   "execution_count": null,
   "metadata": {
    "vscode": {
     "languageId": "r"
    }
   },
   "outputs": [],
   "source": [
    "hist(trainMerged$area_percentage)\n",
    "table(trainMerged$area_percentage)"
   ]
  },
  {
   "attachments": {},
   "cell_type": "markdown",
   "metadata": {},
   "source": [
    "Height_percentage"
   ]
  },
  {
   "cell_type": "code",
   "execution_count": 9,
   "metadata": {
    "vscode": {
     "languageId": "r"
    }
   },
   "outputs": [],
   "source": [
    "iqr <- IQR(trainMerged$height_percentage)\n",
    "factor <- 1.5\n",
    "limit <- median(trainMerged$height_percentage) + factor * iqr\n",
    "trainMerged$height_percentage[trainMerged$height_percentage > limit] <- limit\n",
    "\n",
    "iqr <- IQR(test$height_percentage)\n",
    "factor <- 1.5\n",
    "limit <- median(test$height_percentage) + factor * iqr\n",
    "test$height_percentage[test$height_percentage > limit] <- limit"
   ]
  },
  {
   "cell_type": "code",
   "execution_count": null,
   "metadata": {
    "vscode": {
     "languageId": "r"
    }
   },
   "outputs": [],
   "source": [
    "hist(trainMerged$height_percentage)\n",
    "table(trainMerged$height_percentage)"
   ]
  },
  {
   "attachments": {},
   "cell_type": "markdown",
   "metadata": {},
   "source": [
    "Count_families"
   ]
  },
  {
   "cell_type": "code",
   "execution_count": 10,
   "metadata": {
    "vscode": {
     "languageId": "r"
    }
   },
   "outputs": [],
   "source": [
    "iqr <- IQR(trainMerged$count_families)\n",
    "factor <- 1.5\n",
    "limit <- median(trainMerged$count_families) + factor * iqr\n",
    "trainMerged$count_families[trainMerged$count_families > limit] <- limit\n",
    "\n",
    "iqr <- IQR(test$count_families)\n",
    "factor <- 1.5\n",
    "limit <- median(test$count_families) + factor * iqr\n",
    "test$count_families[test$count_families > limit] <- limit"
   ]
  },
  {
   "cell_type": "code",
   "execution_count": null,
   "metadata": {
    "vscode": {
     "languageId": "r"
    }
   },
   "outputs": [],
   "source": [
    "hist(trainMerged$count_families)\n",
    "table(trainMerged$count_families)"
   ]
  },
  {
   "attachments": {},
   "cell_type": "markdown",
   "metadata": {},
   "source": [
    "Next step we have a number of variables that are categorical, this may be bad for the steps that follow so we will use the one hot encoding to make them numeric."
   ]
  },
  {
   "attachments": {},
   "cell_type": "markdown",
   "metadata": {},
   "source": [
    "Step 1: we detect the variables to modify"
   ]
  },
  {
   "cell_type": "code",
   "execution_count": 11,
   "metadata": {
    "vscode": {
     "languageId": "r"
    }
   },
   "outputs": [
    {
     "data": {
      "text/html": [
       "<style>\n",
       ".dl-inline {width: auto; margin:0; padding: 0}\n",
       ".dl-inline>dt, .dl-inline>dd {float: none; width: auto; display: inline-block}\n",
       ".dl-inline>dt::after {content: \":\\0020\"; padding-right: .5ex}\n",
       ".dl-inline>dt:not(:first-of-type) {padding-left: .5ex}\n",
       "</style><dl class=dl-inline><dt>building_id</dt><dd>FALSE</dd><dt>geo_level_1_id</dt><dd>FALSE</dd><dt>geo_level_2_id</dt><dd>FALSE</dd><dt>geo_level_3_id</dt><dd>FALSE</dd><dt>count_floors_pre_eq</dt><dd>FALSE</dd><dt>age</dt><dd>FALSE</dd><dt>area_percentage</dt><dd>FALSE</dd><dt>height_percentage</dt><dd>FALSE</dd><dt>land_surface_condition</dt><dd>TRUE</dd><dt>foundation_type</dt><dd>TRUE</dd><dt>roof_type</dt><dd>TRUE</dd><dt>ground_floor_type</dt><dd>TRUE</dd><dt>other_floor_type</dt><dd>TRUE</dd><dt>position</dt><dd>TRUE</dd><dt>plan_configuration</dt><dd>TRUE</dd><dt>has_superstructure_adobe_mud</dt><dd>FALSE</dd><dt>has_superstructure_mud_mortar_stone</dt><dd>FALSE</dd><dt>has_superstructure_stone_flag</dt><dd>FALSE</dd><dt>has_superstructure_cement_mortar_stone</dt><dd>FALSE</dd><dt>has_superstructure_mud_mortar_brick</dt><dd>FALSE</dd><dt>has_superstructure_cement_mortar_brick</dt><dd>FALSE</dd><dt>has_superstructure_timber</dt><dd>FALSE</dd><dt>has_superstructure_bamboo</dt><dd>FALSE</dd><dt>has_superstructure_rc_non_engineered</dt><dd>FALSE</dd><dt>has_superstructure_rc_engineered</dt><dd>FALSE</dd><dt>has_superstructure_other</dt><dd>FALSE</dd><dt>legal_ownership_status</dt><dd>TRUE</dd><dt>count_families</dt><dd>FALSE</dd><dt>has_secondary_use</dt><dd>FALSE</dd><dt>has_secondary_use_agriculture</dt><dd>FALSE</dd><dt>has_secondary_use_hotel</dt><dd>FALSE</dd><dt>has_secondary_use_rental</dt><dd>FALSE</dd><dt>has_secondary_use_institution</dt><dd>FALSE</dd><dt>has_secondary_use_school</dt><dd>FALSE</dd><dt>has_secondary_use_industry</dt><dd>FALSE</dd><dt>has_secondary_use_health_post</dt><dd>FALSE</dd><dt>has_secondary_use_gov_office</dt><dd>FALSE</dd><dt>has_secondary_use_use_police</dt><dd>FALSE</dd><dt>has_secondary_use_other</dt><dd>FALSE</dd><dt>damage_grade</dt><dd>FALSE</dd></dl>\n"
      ],
      "text/latex": [
       "\\begin{description*}\n",
       "\\item[building\\textbackslash{}\\_id] FALSE\n",
       "\\item[geo\\textbackslash{}\\_level\\textbackslash{}\\_1\\textbackslash{}\\_id] FALSE\n",
       "\\item[geo\\textbackslash{}\\_level\\textbackslash{}\\_2\\textbackslash{}\\_id] FALSE\n",
       "\\item[geo\\textbackslash{}\\_level\\textbackslash{}\\_3\\textbackslash{}\\_id] FALSE\n",
       "\\item[count\\textbackslash{}\\_floors\\textbackslash{}\\_pre\\textbackslash{}\\_eq] FALSE\n",
       "\\item[age] FALSE\n",
       "\\item[area\\textbackslash{}\\_percentage] FALSE\n",
       "\\item[height\\textbackslash{}\\_percentage] FALSE\n",
       "\\item[land\\textbackslash{}\\_surface\\textbackslash{}\\_condition] TRUE\n",
       "\\item[foundation\\textbackslash{}\\_type] TRUE\n",
       "\\item[roof\\textbackslash{}\\_type] TRUE\n",
       "\\item[ground\\textbackslash{}\\_floor\\textbackslash{}\\_type] TRUE\n",
       "\\item[other\\textbackslash{}\\_floor\\textbackslash{}\\_type] TRUE\n",
       "\\item[position] TRUE\n",
       "\\item[plan\\textbackslash{}\\_configuration] TRUE\n",
       "\\item[has\\textbackslash{}\\_superstructure\\textbackslash{}\\_adobe\\textbackslash{}\\_mud] FALSE\n",
       "\\item[has\\textbackslash{}\\_superstructure\\textbackslash{}\\_mud\\textbackslash{}\\_mortar\\textbackslash{}\\_stone] FALSE\n",
       "\\item[has\\textbackslash{}\\_superstructure\\textbackslash{}\\_stone\\textbackslash{}\\_flag] FALSE\n",
       "\\item[has\\textbackslash{}\\_superstructure\\textbackslash{}\\_cement\\textbackslash{}\\_mortar\\textbackslash{}\\_stone] FALSE\n",
       "\\item[has\\textbackslash{}\\_superstructure\\textbackslash{}\\_mud\\textbackslash{}\\_mortar\\textbackslash{}\\_brick] FALSE\n",
       "\\item[has\\textbackslash{}\\_superstructure\\textbackslash{}\\_cement\\textbackslash{}\\_mortar\\textbackslash{}\\_brick] FALSE\n",
       "\\item[has\\textbackslash{}\\_superstructure\\textbackslash{}\\_timber] FALSE\n",
       "\\item[has\\textbackslash{}\\_superstructure\\textbackslash{}\\_bamboo] FALSE\n",
       "\\item[has\\textbackslash{}\\_superstructure\\textbackslash{}\\_rc\\textbackslash{}\\_non\\textbackslash{}\\_engineered] FALSE\n",
       "\\item[has\\textbackslash{}\\_superstructure\\textbackslash{}\\_rc\\textbackslash{}\\_engineered] FALSE\n",
       "\\item[has\\textbackslash{}\\_superstructure\\textbackslash{}\\_other] FALSE\n",
       "\\item[legal\\textbackslash{}\\_ownership\\textbackslash{}\\_status] TRUE\n",
       "\\item[count\\textbackslash{}\\_families] FALSE\n",
       "\\item[has\\textbackslash{}\\_secondary\\textbackslash{}\\_use] FALSE\n",
       "\\item[has\\textbackslash{}\\_secondary\\textbackslash{}\\_use\\textbackslash{}\\_agriculture] FALSE\n",
       "\\item[has\\textbackslash{}\\_secondary\\textbackslash{}\\_use\\textbackslash{}\\_hotel] FALSE\n",
       "\\item[has\\textbackslash{}\\_secondary\\textbackslash{}\\_use\\textbackslash{}\\_rental] FALSE\n",
       "\\item[has\\textbackslash{}\\_secondary\\textbackslash{}\\_use\\textbackslash{}\\_institution] FALSE\n",
       "\\item[has\\textbackslash{}\\_secondary\\textbackslash{}\\_use\\textbackslash{}\\_school] FALSE\n",
       "\\item[has\\textbackslash{}\\_secondary\\textbackslash{}\\_use\\textbackslash{}\\_industry] FALSE\n",
       "\\item[has\\textbackslash{}\\_secondary\\textbackslash{}\\_use\\textbackslash{}\\_health\\textbackslash{}\\_post] FALSE\n",
       "\\item[has\\textbackslash{}\\_secondary\\textbackslash{}\\_use\\textbackslash{}\\_gov\\textbackslash{}\\_office] FALSE\n",
       "\\item[has\\textbackslash{}\\_secondary\\textbackslash{}\\_use\\textbackslash{}\\_use\\textbackslash{}\\_police] FALSE\n",
       "\\item[has\\textbackslash{}\\_secondary\\textbackslash{}\\_use\\textbackslash{}\\_other] FALSE\n",
       "\\item[damage\\textbackslash{}\\_grade] FALSE\n",
       "\\end{description*}\n"
      ],
      "text/markdown": [
       "building_id\n",
       ":   FALSEgeo_level_1_id\n",
       ":   FALSEgeo_level_2_id\n",
       ":   FALSEgeo_level_3_id\n",
       ":   FALSEcount_floors_pre_eq\n",
       ":   FALSEage\n",
       ":   FALSEarea_percentage\n",
       ":   FALSEheight_percentage\n",
       ":   FALSEland_surface_condition\n",
       ":   TRUEfoundation_type\n",
       ":   TRUEroof_type\n",
       ":   TRUEground_floor_type\n",
       ":   TRUEother_floor_type\n",
       ":   TRUEposition\n",
       ":   TRUEplan_configuration\n",
       ":   TRUEhas_superstructure_adobe_mud\n",
       ":   FALSEhas_superstructure_mud_mortar_stone\n",
       ":   FALSEhas_superstructure_stone_flag\n",
       ":   FALSEhas_superstructure_cement_mortar_stone\n",
       ":   FALSEhas_superstructure_mud_mortar_brick\n",
       ":   FALSEhas_superstructure_cement_mortar_brick\n",
       ":   FALSEhas_superstructure_timber\n",
       ":   FALSEhas_superstructure_bamboo\n",
       ":   FALSEhas_superstructure_rc_non_engineered\n",
       ":   FALSEhas_superstructure_rc_engineered\n",
       ":   FALSEhas_superstructure_other\n",
       ":   FALSElegal_ownership_status\n",
       ":   TRUEcount_families\n",
       ":   FALSEhas_secondary_use\n",
       ":   FALSEhas_secondary_use_agriculture\n",
       ":   FALSEhas_secondary_use_hotel\n",
       ":   FALSEhas_secondary_use_rental\n",
       ":   FALSEhas_secondary_use_institution\n",
       ":   FALSEhas_secondary_use_school\n",
       ":   FALSEhas_secondary_use_industry\n",
       ":   FALSEhas_secondary_use_health_post\n",
       ":   FALSEhas_secondary_use_gov_office\n",
       ":   FALSEhas_secondary_use_use_police\n",
       ":   FALSEhas_secondary_use_other\n",
       ":   FALSEdamage_grade\n",
       ":   FALSE\n",
       "\n"
      ],
      "text/plain": [
       "                           building_id                         geo_level_1_id \n",
       "                                 FALSE                                  FALSE \n",
       "                        geo_level_2_id                         geo_level_3_id \n",
       "                                 FALSE                                  FALSE \n",
       "                   count_floors_pre_eq                                    age \n",
       "                                 FALSE                                  FALSE \n",
       "                       area_percentage                      height_percentage \n",
       "                                 FALSE                                  FALSE \n",
       "                land_surface_condition                        foundation_type \n",
       "                                  TRUE                                   TRUE \n",
       "                             roof_type                      ground_floor_type \n",
       "                                  TRUE                                   TRUE \n",
       "                      other_floor_type                               position \n",
       "                                  TRUE                                   TRUE \n",
       "                    plan_configuration           has_superstructure_adobe_mud \n",
       "                                  TRUE                                  FALSE \n",
       "   has_superstructure_mud_mortar_stone          has_superstructure_stone_flag \n",
       "                                 FALSE                                  FALSE \n",
       "has_superstructure_cement_mortar_stone    has_superstructure_mud_mortar_brick \n",
       "                                 FALSE                                  FALSE \n",
       "has_superstructure_cement_mortar_brick              has_superstructure_timber \n",
       "                                 FALSE                                  FALSE \n",
       "             has_superstructure_bamboo   has_superstructure_rc_non_engineered \n",
       "                                 FALSE                                  FALSE \n",
       "      has_superstructure_rc_engineered               has_superstructure_other \n",
       "                                 FALSE                                  FALSE \n",
       "                legal_ownership_status                         count_families \n",
       "                                  TRUE                                  FALSE \n",
       "                     has_secondary_use          has_secondary_use_agriculture \n",
       "                                 FALSE                                  FALSE \n",
       "               has_secondary_use_hotel               has_secondary_use_rental \n",
       "                                 FALSE                                  FALSE \n",
       "         has_secondary_use_institution               has_secondary_use_school \n",
       "                                 FALSE                                  FALSE \n",
       "            has_secondary_use_industry          has_secondary_use_health_post \n",
       "                                 FALSE                                  FALSE \n",
       "          has_secondary_use_gov_office           has_secondary_use_use_police \n",
       "                                 FALSE                                  FALSE \n",
       "               has_secondary_use_other                           damage_grade \n",
       "                                 FALSE                                  FALSE "
      ]
     },
     "metadata": {},
     "output_type": "display_data"
    }
   ],
   "source": [
    "character_variables_bool<-sapply(trainMerged[1,],class)==\"character\"\n",
    "character_variables_boolT<-sapply(test[1,],class)==\"character\"\n",
    "character_variables_bool"
   ]
  },
  {
   "cell_type": "code",
   "execution_count": 12,
   "metadata": {
    "vscode": {
     "languageId": "r"
    }
   },
   "outputs": [
    {
     "data": {
      "text/html": [
       "<style>\n",
       ".dl-inline {width: auto; margin:0; padding: 0}\n",
       ".dl-inline>dt, .dl-inline>dd {float: none; width: auto; display: inline-block}\n",
       ".dl-inline>dt::after {content: \":\\0020\"; padding-right: .5ex}\n",
       ".dl-inline>dt:not(:first-of-type) {padding-left: .5ex}\n",
       "</style><dl class=dl-inline><dt>land_surface_condition</dt><dd>9</dd><dt>foundation_type</dt><dd>10</dd><dt>roof_type</dt><dd>11</dd><dt>ground_floor_type</dt><dd>12</dd><dt>other_floor_type</dt><dd>13</dd><dt>position</dt><dd>14</dd><dt>plan_configuration</dt><dd>15</dd><dt>legal_ownership_status</dt><dd>27</dd></dl>\n"
      ],
      "text/latex": [
       "\\begin{description*}\n",
       "\\item[land\\textbackslash{}\\_surface\\textbackslash{}\\_condition] 9\n",
       "\\item[foundation\\textbackslash{}\\_type] 10\n",
       "\\item[roof\\textbackslash{}\\_type] 11\n",
       "\\item[ground\\textbackslash{}\\_floor\\textbackslash{}\\_type] 12\n",
       "\\item[other\\textbackslash{}\\_floor\\textbackslash{}\\_type] 13\n",
       "\\item[position] 14\n",
       "\\item[plan\\textbackslash{}\\_configuration] 15\n",
       "\\item[legal\\textbackslash{}\\_ownership\\textbackslash{}\\_status] 27\n",
       "\\end{description*}\n"
      ],
      "text/markdown": [
       "land_surface_condition\n",
       ":   9foundation_type\n",
       ":   10roof_type\n",
       ":   11ground_floor_type\n",
       ":   12other_floor_type\n",
       ":   13position\n",
       ":   14plan_configuration\n",
       ":   15legal_ownership_status\n",
       ":   27\n",
       "\n"
      ],
      "text/plain": [
       "land_surface_condition        foundation_type              roof_type \n",
       "                     9                     10                     11 \n",
       "     ground_floor_type       other_floor_type               position \n",
       "                    12                     13                     14 \n",
       "    plan_configuration legal_ownership_status \n",
       "                    15                     27 "
      ]
     },
     "metadata": {},
     "output_type": "display_data"
    },
    {
     "data": {
      "text/html": [
       "8"
      ],
      "text/latex": [
       "8"
      ],
      "text/markdown": [
       "8"
      ],
      "text/plain": [
       "[1] 8"
      ]
     },
     "metadata": {},
     "output_type": "display_data"
    }
   ],
   "source": [
    "character_variables <- which(sapply(trainMerged[1,],class)==\"character\")\n",
    "character_variablesT <- which(sapply(test[1,],class)==\"character\")\n",
    "character_variables\n",
    "length(character_variables)"
   ]
  },
  {
   "cell_type": "code",
   "execution_count": 13,
   "metadata": {
    "vscode": {
     "languageId": "r"
    }
   },
   "outputs": [
    {
     "data": {
      "text/html": [
       "<style>\n",
       ".list-inline {list-style: none; margin:0; padding: 0}\n",
       ".list-inline>li {display: inline-block}\n",
       ".list-inline>li:not(:last-child)::after {content: \"\\00b7\"; padding: 0 .5ex}\n",
       "</style>\n",
       "<ol class=list-inline><li>260601</li><li>32</li></ol>\n"
      ],
      "text/latex": [
       "\\begin{enumerate*}\n",
       "\\item 260601\n",
       "\\item 32\n",
       "\\end{enumerate*}\n"
      ],
      "text/markdown": [
       "1. 260601\n",
       "2. 32\n",
       "\n",
       "\n"
      ],
      "text/plain": [
       "[1] 260601     32"
      ]
     },
     "metadata": {},
     "output_type": "display_data"
    }
   ],
   "source": [
    "data_preprocessed<-trainMerged[,-character_variables]\n",
    "data_preprocessedT<-test[,-character_variablesT]\n",
    "dim(data_preprocessed)\n"
   ]
  },
  {
   "cell_type": "code",
   "execution_count": null,
   "metadata": {
    "vscode": {
     "languageId": "r"
    }
   },
   "outputs": [],
   "source": [
    "head(data_preprocessed)"
   ]
  },
  {
   "cell_type": "code",
   "execution_count": 14,
   "metadata": {
    "vscode": {
     "languageId": "r"
    }
   },
   "outputs": [],
   "source": [
    "data_normalise <- scale(data_preprocessed[, c(\"geo_level_1_id\", \"geo_level_2_id\", \"geo_level_3_id\" )])\n",
    "data_normaliseT <- scale(data_preprocessedT[, c(\"geo_level_1_id\", \"geo_level_2_id\", \"geo_level_3_id\" )])\n"
   ]
  },
  {
   "cell_type": "code",
   "execution_count": 15,
   "metadata": {
    "vscode": {
     "languageId": "r"
    }
   },
   "outputs": [],
   "source": [
    "data_preprocessed[, c(\"geo_level_1_id\", \"geo_level_2_id\", \"geo_level_3_id\")] <- data_normalise[, c(\"geo_level_1_id\", \"geo_level_2_id\", \"geo_level_3_id\" )]\n",
    "data_preprocessedT[, c(\"geo_level_1_id\", \"geo_level_2_id\", \"geo_level_3_id\")] <- data_normaliseT[, c(\"geo_level_1_id\", \"geo_level_2_id\", \"geo_level_3_id\" )]"
   ]
  },
  {
   "cell_type": "code",
   "execution_count": null,
   "metadata": {
    "vscode": {
     "languageId": "r"
    }
   },
   "outputs": [],
   "source": [
    "head(data_preprocessed)"
   ]
  },
  {
   "attachments": {},
   "cell_type": "markdown",
   "metadata": {},
   "source": [
    "Step 2: We apply the one hot encoding for these variables"
   ]
  },
  {
   "cell_type": "code",
   "execution_count": 16,
   "metadata": {
    "vscode": {
     "languageId": "r"
    }
   },
   "outputs": [],
   "source": [
    "cols_to_transform <- c(\"land_surface_condition\", \"foundation_type\", \"roof_type\",\n",
    "                       \"ground_floor_type\", \"other_floor_type\", \"position\", \n",
    "                       \"plan_configuration\", \"legal_ownership_status\")\n",
    "\n",
    "one_hot_trans <- dummyVars(formula = ~ ., data = trainMerged[, cols_to_transform])\n",
    "\n",
    "data_one_hot <- data.frame(predict(one_hot_trans, newdata = trainMerged))"
   ]
  },
  {
   "cell_type": "code",
   "execution_count": 17,
   "metadata": {
    "vscode": {
     "languageId": "r"
    }
   },
   "outputs": [],
   "source": [
    "cols_to_transformT <- c(\"land_surface_condition\", \"foundation_type\", \"roof_type\",\n",
    "                       \"ground_floor_type\", \"other_floor_type\", \"position\", \n",
    "                       \"plan_configuration\", \"legal_ownership_status\")\n",
    "\n",
    "one_hot_transT <- dummyVars(formula = ~ ., data = test[, cols_to_transformT])\n",
    "\n",
    "data_one_hotT <- data.frame(predict(one_hot_transT, newdata = test))"
   ]
  },
  {
   "attachments": {},
   "cell_type": "markdown",
   "metadata": {},
   "source": [
    "Step 3 : We merge our modified varibale with our dataset in order to obtain a table with only numeric values"
   ]
  },
  {
   "cell_type": "code",
   "execution_count": 18,
   "metadata": {
    "vscode": {
     "languageId": "r"
    }
   },
   "outputs": [
    {
     "data": {
      "text/html": [
       "<table class=\"dataframe\">\n",
       "<caption>A data.frame: 6 x 70</caption>\n",
       "<thead>\n",
       "\t<tr><th></th><th scope=col>building_id</th><th scope=col>geo_level_1_id</th><th scope=col>geo_level_2_id</th><th scope=col>geo_level_3_id</th><th scope=col>count_floors_pre_eq</th><th scope=col>age</th><th scope=col>area_percentage</th><th scope=col>height_percentage</th><th scope=col>has_superstructure_adobe_mud</th><th scope=col>has_superstructure_mud_mortar_stone</th><th scope=col>...</th><th scope=col>plan_configurationm</th><th scope=col>plan_configurationn</th><th scope=col>plan_configurationo</th><th scope=col>plan_configurationq</th><th scope=col>plan_configurations</th><th scope=col>plan_configurationu</th><th scope=col>legal_ownership_statusa</th><th scope=col>legal_ownership_statusr</th><th scope=col>legal_ownership_statusv</th><th scope=col>legal_ownership_statusw</th></tr>\n",
       "\t<tr><th></th><th scope=col>&lt;int&gt;</th><th scope=col>&lt;dbl&gt;</th><th scope=col>&lt;dbl&gt;</th><th scope=col>&lt;dbl&gt;</th><th scope=col>&lt;dbl&gt;</th><th scope=col>&lt;dbl&gt;</th><th scope=col>&lt;dbl&gt;</th><th scope=col>&lt;dbl&gt;</th><th scope=col>&lt;int&gt;</th><th scope=col>&lt;int&gt;</th><th scope=col>...</th><th scope=col>&lt;dbl&gt;</th><th scope=col>&lt;dbl&gt;</th><th scope=col>&lt;dbl&gt;</th><th scope=col>&lt;dbl&gt;</th><th scope=col>&lt;dbl&gt;</th><th scope=col>&lt;dbl&gt;</th><th scope=col>&lt;dbl&gt;</th><th scope=col>&lt;dbl&gt;</th><th scope=col>&lt;dbl&gt;</th><th scope=col>&lt;dbl&gt;</th></tr>\n",
       "</thead>\n",
       "<tbody>\n",
       "\t<tr><th scope=row>1</th><td>802906</td><td>-0.9834118</td><td>-0.5187039</td><td> 1.6290515</td><td>2</td><td>30</td><td>6</td><td>5</td><td>1</td><td>1</td><td>...</td><td>0</td><td>0</td><td>0</td><td>0</td><td>0</td><td>0</td><td>0</td><td>0</td><td>1</td><td>0</td></tr>\n",
       "\t<tr><th scope=row>2</th><td> 28830</td><td>-0.7344579</td><td> 0.4819970</td><td>-0.9450156</td><td>2</td><td>10</td><td>8</td><td>7</td><td>0</td><td>1</td><td>...</td><td>0</td><td>0</td><td>0</td><td>0</td><td>0</td><td>0</td><td>0</td><td>0</td><td>1</td><td>0</td></tr>\n",
       "\t<tr><th scope=row>3</th><td> 94947</td><td> 0.8837423</td><td>-0.8191565</td><td> 0.7446102</td><td>2</td><td>10</td><td>5</td><td>5</td><td>0</td><td>1</td><td>...</td><td>0</td><td>0</td><td>0</td><td>0</td><td>0</td><td>0</td><td>0</td><td>0</td><td>1</td><td>0</td></tr>\n",
       "\t<tr><th scope=row>4</th><td>590882</td><td> 1.0082192</td><td>-0.6858913</td><td> 1.2165864</td><td>2</td><td>10</td><td>6</td><td>5</td><td>0</td><td>1</td><td>...</td><td>0</td><td>0</td><td>0</td><td>0</td><td>0</td><td>0</td><td>0</td><td>0</td><td>1</td><td>0</td></tr>\n",
       "\t<tr><th scope=row>5</th><td>201944</td><td>-0.3610271</td><td>-1.3812936</td><td>-1.3081165</td><td>2</td><td>30</td><td>8</td><td>8</td><td>1</td><td>0</td><td>...</td><td>0</td><td>0</td><td>0</td><td>0</td><td>0</td><td>0</td><td>0</td><td>0</td><td>1</td><td>0</td></tr>\n",
       "\t<tr><th scope=row>6</th><td>333020</td><td>-0.7344579</td><td>-0.3466706</td><td>-0.0463135</td><td>2</td><td>10</td><td>9</td><td>5</td><td>0</td><td>1</td><td>...</td><td>0</td><td>0</td><td>0</td><td>0</td><td>0</td><td>0</td><td>0</td><td>0</td><td>1</td><td>0</td></tr>\n",
       "</tbody>\n",
       "</table>\n"
      ],
      "text/latex": [
       "A data.frame: 6 x 70\n",
       "\\begin{tabular}{r|lllllllllllllllllllll}\n",
       "  & building\\_id & geo\\_level\\_1\\_id & geo\\_level\\_2\\_id & geo\\_level\\_3\\_id & count\\_floors\\_pre\\_eq & age & area\\_percentage & height\\_percentage & has\\_superstructure\\_adobe\\_mud & has\\_superstructure\\_mud\\_mortar\\_stone & ... & plan\\_configurationm & plan\\_configurationn & plan\\_configurationo & plan\\_configurationq & plan\\_configurations & plan\\_configurationu & legal\\_ownership\\_statusa & legal\\_ownership\\_statusr & legal\\_ownership\\_statusv & legal\\_ownership\\_statusw\\\\\n",
       "  & <int> & <dbl> & <dbl> & <dbl> & <dbl> & <dbl> & <dbl> & <dbl> & <int> & <int> & ... & <dbl> & <dbl> & <dbl> & <dbl> & <dbl> & <dbl> & <dbl> & <dbl> & <dbl> & <dbl>\\\\\n",
       "\\hline\n",
       "\t1 & 802906 & -0.9834118 & -0.5187039 &  1.6290515 & 2 & 30 & 6 & 5 & 1 & 1 & ... & 0 & 0 & 0 & 0 & 0 & 0 & 0 & 0 & 1 & 0\\\\\n",
       "\t2 &  28830 & -0.7344579 &  0.4819970 & -0.9450156 & 2 & 10 & 8 & 7 & 0 & 1 & ... & 0 & 0 & 0 & 0 & 0 & 0 & 0 & 0 & 1 & 0\\\\\n",
       "\t3 &  94947 &  0.8837423 & -0.8191565 &  0.7446102 & 2 & 10 & 5 & 5 & 0 & 1 & ... & 0 & 0 & 0 & 0 & 0 & 0 & 0 & 0 & 1 & 0\\\\\n",
       "\t4 & 590882 &  1.0082192 & -0.6858913 &  1.2165864 & 2 & 10 & 6 & 5 & 0 & 1 & ... & 0 & 0 & 0 & 0 & 0 & 0 & 0 & 0 & 1 & 0\\\\\n",
       "\t5 & 201944 & -0.3610271 & -1.3812936 & -1.3081165 & 2 & 30 & 8 & 8 & 1 & 0 & ... & 0 & 0 & 0 & 0 & 0 & 0 & 0 & 0 & 1 & 0\\\\\n",
       "\t6 & 333020 & -0.7344579 & -0.3466706 & -0.0463135 & 2 & 10 & 9 & 5 & 0 & 1 & ... & 0 & 0 & 0 & 0 & 0 & 0 & 0 & 0 & 1 & 0\\\\\n",
       "\\end{tabular}\n"
      ],
      "text/markdown": [
       "\n",
       "A data.frame: 6 x 70\n",
       "\n",
       "| <!--/--> | building_id &lt;int&gt; | geo_level_1_id &lt;dbl&gt; | geo_level_2_id &lt;dbl&gt; | geo_level_3_id &lt;dbl&gt; | count_floors_pre_eq &lt;dbl&gt; | age &lt;dbl&gt; | area_percentage &lt;dbl&gt; | height_percentage &lt;dbl&gt; | has_superstructure_adobe_mud &lt;int&gt; | has_superstructure_mud_mortar_stone &lt;int&gt; | ... ... | plan_configurationm &lt;dbl&gt; | plan_configurationn &lt;dbl&gt; | plan_configurationo &lt;dbl&gt; | plan_configurationq &lt;dbl&gt; | plan_configurations &lt;dbl&gt; | plan_configurationu &lt;dbl&gt; | legal_ownership_statusa &lt;dbl&gt; | legal_ownership_statusr &lt;dbl&gt; | legal_ownership_statusv &lt;dbl&gt; | legal_ownership_statusw &lt;dbl&gt; |\n",
       "|---|---|---|---|---|---|---|---|---|---|---|---|---|---|---|---|---|---|---|---|---|---|\n",
       "| 1 | 802906 | -0.9834118 | -0.5187039 |  1.6290515 | 2 | 30 | 6 | 5 | 1 | 1 | ... | 0 | 0 | 0 | 0 | 0 | 0 | 0 | 0 | 1 | 0 |\n",
       "| 2 |  28830 | -0.7344579 |  0.4819970 | -0.9450156 | 2 | 10 | 8 | 7 | 0 | 1 | ... | 0 | 0 | 0 | 0 | 0 | 0 | 0 | 0 | 1 | 0 |\n",
       "| 3 |  94947 |  0.8837423 | -0.8191565 |  0.7446102 | 2 | 10 | 5 | 5 | 0 | 1 | ... | 0 | 0 | 0 | 0 | 0 | 0 | 0 | 0 | 1 | 0 |\n",
       "| 4 | 590882 |  1.0082192 | -0.6858913 |  1.2165864 | 2 | 10 | 6 | 5 | 0 | 1 | ... | 0 | 0 | 0 | 0 | 0 | 0 | 0 | 0 | 1 | 0 |\n",
       "| 5 | 201944 | -0.3610271 | -1.3812936 | -1.3081165 | 2 | 30 | 8 | 8 | 1 | 0 | ... | 0 | 0 | 0 | 0 | 0 | 0 | 0 | 0 | 1 | 0 |\n",
       "| 6 | 333020 | -0.7344579 | -0.3466706 | -0.0463135 | 2 | 10 | 9 | 5 | 0 | 1 | ... | 0 | 0 | 0 | 0 | 0 | 0 | 0 | 0 | 1 | 0 |\n",
       "\n"
      ],
      "text/plain": [
       "  building_id geo_level_1_id geo_level_2_id geo_level_3_id count_floors_pre_eq\n",
       "1 802906      -0.9834118     -0.5187039      1.6290515     2                  \n",
       "2  28830      -0.7344579      0.4819970     -0.9450156     2                  \n",
       "3  94947       0.8837423     -0.8191565      0.7446102     2                  \n",
       "4 590882       1.0082192     -0.6858913      1.2165864     2                  \n",
       "5 201944      -0.3610271     -1.3812936     -1.3081165     2                  \n",
       "6 333020      -0.7344579     -0.3466706     -0.0463135     2                  \n",
       "  age area_percentage height_percentage has_superstructure_adobe_mud\n",
       "1 30  6               5                 1                           \n",
       "2 10  8               7                 0                           \n",
       "3 10  5               5                 0                           \n",
       "4 10  6               5                 0                           \n",
       "5 30  8               8                 1                           \n",
       "6 10  9               5                 0                           \n",
       "  has_superstructure_mud_mortar_stone ... plan_configurationm\n",
       "1 1                                   ... 0                  \n",
       "2 1                                   ... 0                  \n",
       "3 1                                   ... 0                  \n",
       "4 1                                   ... 0                  \n",
       "5 0                                   ... 0                  \n",
       "6 1                                   ... 0                  \n",
       "  plan_configurationn plan_configurationo plan_configurationq\n",
       "1 0                   0                   0                  \n",
       "2 0                   0                   0                  \n",
       "3 0                   0                   0                  \n",
       "4 0                   0                   0                  \n",
       "5 0                   0                   0                  \n",
       "6 0                   0                   0                  \n",
       "  plan_configurations plan_configurationu legal_ownership_statusa\n",
       "1 0                   0                   0                      \n",
       "2 0                   0                   0                      \n",
       "3 0                   0                   0                      \n",
       "4 0                   0                   0                      \n",
       "5 0                   0                   0                      \n",
       "6 0                   0                   0                      \n",
       "  legal_ownership_statusr legal_ownership_statusv legal_ownership_statusw\n",
       "1 0                       1                       0                      \n",
       "2 0                       1                       0                      \n",
       "3 0                       1                       0                      \n",
       "4 0                       1                       0                      \n",
       "5 0                       1                       0                      \n",
       "6 0                       1                       0                      "
      ]
     },
     "metadata": {},
     "output_type": "display_data"
    }
   ],
   "source": [
    "trainCleaned <- cbind(data_preprocessed, data_one_hot)\n",
    "trainCleanedT <- cbind(data_preprocessedT, data_one_hotT)\n",
    "head(trainCleaned)\n"
   ]
  },
  {
   "attachments": {},
   "cell_type": "markdown",
   "metadata": {},
   "source": [
    "Moreover, we remove the building_id varibles which will not bring anything during the following steps."
   ]
  },
  {
   "cell_type": "code",
   "execution_count": 19,
   "metadata": {
    "vscode": {
     "languageId": "r"
    }
   },
   "outputs": [
    {
     "data": {
      "text/html": [
       "<table class=\"dataframe\">\n",
       "<caption>A data.frame: 6 x 69</caption>\n",
       "<thead>\n",
       "\t<tr><th></th><th scope=col>geo_level_1_id</th><th scope=col>geo_level_2_id</th><th scope=col>geo_level_3_id</th><th scope=col>count_floors_pre_eq</th><th scope=col>age</th><th scope=col>area_percentage</th><th scope=col>height_percentage</th><th scope=col>has_superstructure_adobe_mud</th><th scope=col>has_superstructure_mud_mortar_stone</th><th scope=col>has_superstructure_stone_flag</th><th scope=col>...</th><th scope=col>plan_configurationn</th><th scope=col>plan_configurationo</th><th scope=col>plan_configurationq</th><th scope=col>plan_configurations</th><th scope=col>plan_configurationu</th><th scope=col>legal_ownership_statusa</th><th scope=col>legal_ownership_statusr</th><th scope=col>legal_ownership_statusv</th><th scope=col>legal_ownership_statusw</th><th scope=col>damage_grade</th></tr>\n",
       "\t<tr><th></th><th scope=col>&lt;dbl&gt;</th><th scope=col>&lt;dbl&gt;</th><th scope=col>&lt;dbl&gt;</th><th scope=col>&lt;dbl&gt;</th><th scope=col>&lt;dbl&gt;</th><th scope=col>&lt;dbl&gt;</th><th scope=col>&lt;dbl&gt;</th><th scope=col>&lt;int&gt;</th><th scope=col>&lt;int&gt;</th><th scope=col>&lt;int&gt;</th><th scope=col>...</th><th scope=col>&lt;dbl&gt;</th><th scope=col>&lt;dbl&gt;</th><th scope=col>&lt;dbl&gt;</th><th scope=col>&lt;dbl&gt;</th><th scope=col>&lt;dbl&gt;</th><th scope=col>&lt;dbl&gt;</th><th scope=col>&lt;dbl&gt;</th><th scope=col>&lt;dbl&gt;</th><th scope=col>&lt;dbl&gt;</th><th scope=col>&lt;int&gt;</th></tr>\n",
       "</thead>\n",
       "<tbody>\n",
       "\t<tr><th scope=row>1</th><td>-0.9834118</td><td>-0.5187039</td><td> 1.6290515</td><td>2</td><td>30</td><td>6</td><td>5</td><td>1</td><td>1</td><td>0</td><td>...</td><td>0</td><td>0</td><td>0</td><td>0</td><td>0</td><td>0</td><td>0</td><td>1</td><td>0</td><td>3</td></tr>\n",
       "\t<tr><th scope=row>2</th><td>-0.7344579</td><td> 0.4819970</td><td>-0.9450156</td><td>2</td><td>10</td><td>8</td><td>7</td><td>0</td><td>1</td><td>0</td><td>...</td><td>0</td><td>0</td><td>0</td><td>0</td><td>0</td><td>0</td><td>0</td><td>1</td><td>0</td><td>2</td></tr>\n",
       "\t<tr><th scope=row>3</th><td> 0.8837423</td><td>-0.8191565</td><td> 0.7446102</td><td>2</td><td>10</td><td>5</td><td>5</td><td>0</td><td>1</td><td>0</td><td>...</td><td>0</td><td>0</td><td>0</td><td>0</td><td>0</td><td>0</td><td>0</td><td>1</td><td>0</td><td>3</td></tr>\n",
       "\t<tr><th scope=row>4</th><td> 1.0082192</td><td>-0.6858913</td><td> 1.2165864</td><td>2</td><td>10</td><td>6</td><td>5</td><td>0</td><td>1</td><td>0</td><td>...</td><td>0</td><td>0</td><td>0</td><td>0</td><td>0</td><td>0</td><td>0</td><td>1</td><td>0</td><td>2</td></tr>\n",
       "\t<tr><th scope=row>5</th><td>-0.3610271</td><td>-1.3812936</td><td>-1.3081165</td><td>2</td><td>30</td><td>8</td><td>8</td><td>1</td><td>0</td><td>0</td><td>...</td><td>0</td><td>0</td><td>0</td><td>0</td><td>0</td><td>0</td><td>0</td><td>1</td><td>0</td><td>3</td></tr>\n",
       "\t<tr><th scope=row>6</th><td>-0.7344579</td><td>-0.3466706</td><td>-0.0463135</td><td>2</td><td>10</td><td>9</td><td>5</td><td>0</td><td>1</td><td>0</td><td>...</td><td>0</td><td>0</td><td>0</td><td>0</td><td>0</td><td>0</td><td>0</td><td>1</td><td>0</td><td>2</td></tr>\n",
       "</tbody>\n",
       "</table>\n"
      ],
      "text/latex": [
       "A data.frame: 6 x 69\n",
       "\\begin{tabular}{r|lllllllllllllllllllll}\n",
       "  & geo\\_level\\_1\\_id & geo\\_level\\_2\\_id & geo\\_level\\_3\\_id & count\\_floors\\_pre\\_eq & age & area\\_percentage & height\\_percentage & has\\_superstructure\\_adobe\\_mud & has\\_superstructure\\_mud\\_mortar\\_stone & has\\_superstructure\\_stone\\_flag & ... & plan\\_configurationn & plan\\_configurationo & plan\\_configurationq & plan\\_configurations & plan\\_configurationu & legal\\_ownership\\_statusa & legal\\_ownership\\_statusr & legal\\_ownership\\_statusv & legal\\_ownership\\_statusw & damage\\_grade\\\\\n",
       "  & <dbl> & <dbl> & <dbl> & <dbl> & <dbl> & <dbl> & <dbl> & <int> & <int> & <int> & ... & <dbl> & <dbl> & <dbl> & <dbl> & <dbl> & <dbl> & <dbl> & <dbl> & <dbl> & <int>\\\\\n",
       "\\hline\n",
       "\t1 & -0.9834118 & -0.5187039 &  1.6290515 & 2 & 30 & 6 & 5 & 1 & 1 & 0 & ... & 0 & 0 & 0 & 0 & 0 & 0 & 0 & 1 & 0 & 3\\\\\n",
       "\t2 & -0.7344579 &  0.4819970 & -0.9450156 & 2 & 10 & 8 & 7 & 0 & 1 & 0 & ... & 0 & 0 & 0 & 0 & 0 & 0 & 0 & 1 & 0 & 2\\\\\n",
       "\t3 &  0.8837423 & -0.8191565 &  0.7446102 & 2 & 10 & 5 & 5 & 0 & 1 & 0 & ... & 0 & 0 & 0 & 0 & 0 & 0 & 0 & 1 & 0 & 3\\\\\n",
       "\t4 &  1.0082192 & -0.6858913 &  1.2165864 & 2 & 10 & 6 & 5 & 0 & 1 & 0 & ... & 0 & 0 & 0 & 0 & 0 & 0 & 0 & 1 & 0 & 2\\\\\n",
       "\t5 & -0.3610271 & -1.3812936 & -1.3081165 & 2 & 30 & 8 & 8 & 1 & 0 & 0 & ... & 0 & 0 & 0 & 0 & 0 & 0 & 0 & 1 & 0 & 3\\\\\n",
       "\t6 & -0.7344579 & -0.3466706 & -0.0463135 & 2 & 10 & 9 & 5 & 0 & 1 & 0 & ... & 0 & 0 & 0 & 0 & 0 & 0 & 0 & 1 & 0 & 2\\\\\n",
       "\\end{tabular}\n"
      ],
      "text/markdown": [
       "\n",
       "A data.frame: 6 x 69\n",
       "\n",
       "| <!--/--> | geo_level_1_id &lt;dbl&gt; | geo_level_2_id &lt;dbl&gt; | geo_level_3_id &lt;dbl&gt; | count_floors_pre_eq &lt;dbl&gt; | age &lt;dbl&gt; | area_percentage &lt;dbl&gt; | height_percentage &lt;dbl&gt; | has_superstructure_adobe_mud &lt;int&gt; | has_superstructure_mud_mortar_stone &lt;int&gt; | has_superstructure_stone_flag &lt;int&gt; | ... ... | plan_configurationn &lt;dbl&gt; | plan_configurationo &lt;dbl&gt; | plan_configurationq &lt;dbl&gt; | plan_configurations &lt;dbl&gt; | plan_configurationu &lt;dbl&gt; | legal_ownership_statusa &lt;dbl&gt; | legal_ownership_statusr &lt;dbl&gt; | legal_ownership_statusv &lt;dbl&gt; | legal_ownership_statusw &lt;dbl&gt; | damage_grade &lt;int&gt; |\n",
       "|---|---|---|---|---|---|---|---|---|---|---|---|---|---|---|---|---|---|---|---|---|---|\n",
       "| 1 | -0.9834118 | -0.5187039 |  1.6290515 | 2 | 30 | 6 | 5 | 1 | 1 | 0 | ... | 0 | 0 | 0 | 0 | 0 | 0 | 0 | 1 | 0 | 3 |\n",
       "| 2 | -0.7344579 |  0.4819970 | -0.9450156 | 2 | 10 | 8 | 7 | 0 | 1 | 0 | ... | 0 | 0 | 0 | 0 | 0 | 0 | 0 | 1 | 0 | 2 |\n",
       "| 3 |  0.8837423 | -0.8191565 |  0.7446102 | 2 | 10 | 5 | 5 | 0 | 1 | 0 | ... | 0 | 0 | 0 | 0 | 0 | 0 | 0 | 1 | 0 | 3 |\n",
       "| 4 |  1.0082192 | -0.6858913 |  1.2165864 | 2 | 10 | 6 | 5 | 0 | 1 | 0 | ... | 0 | 0 | 0 | 0 | 0 | 0 | 0 | 1 | 0 | 2 |\n",
       "| 5 | -0.3610271 | -1.3812936 | -1.3081165 | 2 | 30 | 8 | 8 | 1 | 0 | 0 | ... | 0 | 0 | 0 | 0 | 0 | 0 | 0 | 1 | 0 | 3 |\n",
       "| 6 | -0.7344579 | -0.3466706 | -0.0463135 | 2 | 10 | 9 | 5 | 0 | 1 | 0 | ... | 0 | 0 | 0 | 0 | 0 | 0 | 0 | 1 | 0 | 2 |\n",
       "\n"
      ],
      "text/plain": [
       "  geo_level_1_id geo_level_2_id geo_level_3_id count_floors_pre_eq age\n",
       "1 -0.9834118     -0.5187039      1.6290515     2                   30 \n",
       "2 -0.7344579      0.4819970     -0.9450156     2                   10 \n",
       "3  0.8837423     -0.8191565      0.7446102     2                   10 \n",
       "4  1.0082192     -0.6858913      1.2165864     2                   10 \n",
       "5 -0.3610271     -1.3812936     -1.3081165     2                   30 \n",
       "6 -0.7344579     -0.3466706     -0.0463135     2                   10 \n",
       "  area_percentage height_percentage has_superstructure_adobe_mud\n",
       "1 6               5                 1                           \n",
       "2 8               7                 0                           \n",
       "3 5               5                 0                           \n",
       "4 6               5                 0                           \n",
       "5 8               8                 1                           \n",
       "6 9               5                 0                           \n",
       "  has_superstructure_mud_mortar_stone has_superstructure_stone_flag ...\n",
       "1 1                                   0                             ...\n",
       "2 1                                   0                             ...\n",
       "3 1                                   0                             ...\n",
       "4 1                                   0                             ...\n",
       "5 0                                   0                             ...\n",
       "6 1                                   0                             ...\n",
       "  plan_configurationn plan_configurationo plan_configurationq\n",
       "1 0                   0                   0                  \n",
       "2 0                   0                   0                  \n",
       "3 0                   0                   0                  \n",
       "4 0                   0                   0                  \n",
       "5 0                   0                   0                  \n",
       "6 0                   0                   0                  \n",
       "  plan_configurations plan_configurationu legal_ownership_statusa\n",
       "1 0                   0                   0                      \n",
       "2 0                   0                   0                      \n",
       "3 0                   0                   0                      \n",
       "4 0                   0                   0                      \n",
       "5 0                   0                   0                      \n",
       "6 0                   0                   0                      \n",
       "  legal_ownership_statusr legal_ownership_statusv legal_ownership_statusw\n",
       "1 0                       1                       0                      \n",
       "2 0                       1                       0                      \n",
       "3 0                       1                       0                      \n",
       "4 0                       1                       0                      \n",
       "5 0                       1                       0                      \n",
       "6 0                       1                       0                      \n",
       "  damage_grade\n",
       "1 3           \n",
       "2 2           \n",
       "3 3           \n",
       "4 2           \n",
       "5 3           \n",
       "6 2           "
      ]
     },
     "metadata": {},
     "output_type": "display_data"
    }
   ],
   "source": [
    "trainCleaned <- trainCleaned %>% relocate(damage_grade, .after = legal_ownership_statusw)\n",
    "trainCleaned <- select(trainCleaned, -c(building_id))\n",
    "trainCleanedT <- select(trainCleanedT, -c(building_id))\n",
    "head(trainCleaned)"
   ]
  },
  {
   "attachments": {},
   "cell_type": "markdown",
   "metadata": {},
   "source": [
    "In order to have a first vision of the correlation between the variables we set up a correlation matrix."
   ]
  },
  {
   "cell_type": "code",
   "execution_count": 20,
   "metadata": {
    "vscode": {
     "languageId": "r"
    }
   },
   "outputs": [
    {
     "data": {
      "text/html": [
       "<table class=\"dataframe\">\n",
       "<caption>A matrix: 69 x 69 of type dbl</caption>\n",
       "<thead>\n",
       "\t<tr><th></th><th scope=col>geo_level_1_id</th><th scope=col>geo_level_2_id</th><th scope=col>geo_level_3_id</th><th scope=col>count_floors_pre_eq</th><th scope=col>age</th><th scope=col>area_percentage</th><th scope=col>height_percentage</th><th scope=col>has_superstructure_adobe_mud</th><th scope=col>has_superstructure_mud_mortar_stone</th><th scope=col>has_superstructure_stone_flag</th><th scope=col>...</th><th scope=col>plan_configurationn</th><th scope=col>plan_configurationo</th><th scope=col>plan_configurationq</th><th scope=col>plan_configurations</th><th scope=col>plan_configurationu</th><th scope=col>legal_ownership_statusa</th><th scope=col>legal_ownership_statusr</th><th scope=col>legal_ownership_statusv</th><th scope=col>legal_ownership_statusw</th><th scope=col>damage_grade</th></tr>\n",
       "</thead>\n",
       "<tbody>\n",
       "\t<tr><th scope=row>geo_level_1_id</th><td>1.0000000000</td><td>0.0614048534</td><td>0.0027184451</td><td>0.1109811320</td><td>0.047254857</td><td>0.066744160</td><td>0.0749745389</td><td>0.018245465</td><td>0.152037764</td><td>0.0076772072</td><td>...</td><td>8.222888e-04</td><td>0.0081792905</td><td>0.0093826688</td><td>0.0085588975</td><td>0.0330521678</td><td>0.1003929898</td><td>0.0078735782</td><td>0.0820548764</td><td>0.0046460055</td><td>0.072346634</td></tr>\n",
       "\t<tr><th scope=row>geo_level_2_id</th><td>0.0614048534</td><td>1.0000000000</td><td>0.0009210931</td><td>0.0410805603</td><td>0.031531869</td><td>0.039899529</td><td>0.0385702127</td><td>0.015832855</td><td>0.076491325</td><td>0.0087428232</td><td>...</td><td>4.151702e-04</td><td>0.0057857317</td><td>0.0043257875</td><td>0.0059284248</td><td>0.0255317097</td><td>0.0258932511</td><td>0.0270114837</td><td>0.0231892461</td><td>0.0135791615</td><td>0.043160757</td></tr>\n",
       "\t<tr><th scope=row>geo_level_3_id</th><td>0.0027184451</td><td>0.0009210931</td><td>1.0000000000</td><td>0.0084718933</td><td>0.006303267</td><td>0.004083808</td><td>0.0185617772</td><td>0.015732164</td><td>0.026294351</td><td>0.0195789298</td><td>...</td><td>3.123084e-03</td><td>0.0028035078</td><td>0.0018949999</td><td>0.0033985366</td><td>0.0032398945</td><td>0.0341990799</td><td>0.0013094153</td><td>0.0185331138</td><td>0.0130999509</td><td>0.007931779</td></tr>\n",
       "\t<tr><th scope=row>count_floors_pre_eq</th><td>0.1109811320</td><td>0.0410805603</td><td>0.0084718933</td><td>1.0000000000</td><td>0.173843296</td><td>0.050425836</td><td>0.6277704778</td><td>0.068826552</td><td>0.204379130</td><td>0.0085311469</td><td>...</td><td>7.872794e-04</td><td>0.0048608371</td><td>0.0497166509</td><td>0.0027085921</td><td>0.0301012707</td><td>0.0972693393</td><td>0.0250799492</td><td>0.0797932308</td><td>0.0079277459</td><td>0.137381378</td></tr>\n",
       "\t<tr><th scope=row>age</th><td>0.0472548568</td><td>0.0315318687</td><td>0.0063032673</td><td>0.1738432963</td><td>1.000000000</td><td>0.028199789</td><td>0.2078606518</td><td>0.205273547</td><td>0.035490258</td><td>0.0107234241</td><td>...</td><td>2.344991e-03</td><td>0.0003816959</td><td>0.0148621917</td><td>0.0052148631</td><td>0.0128945102</td><td>0.0850105671</td><td>0.0001595599</td><td>0.0569515747</td><td>0.0144714096</td><td>0.153339609</td></tr>\n",
       "\t<tr><th scope=row>area_percentage</th><td>0.0667441604</td><td>0.0398995295</td><td>0.0040838083</td><td>0.0504258362</td><td>0.028199789</td><td>1.000000000</td><td>0.1953243490</td><td>0.033860475</td><td>0.227149949</td><td>0.0011090877</td><td>...</td><td>2.579424e-03</td><td>0.0260175307</td><td>0.0166290177</td><td>0.0201812988</td><td>0.0992829378</td><td>0.0313130099</td><td>0.0186556730</td><td>0.0325607629</td><td>0.0024607117</td><td>0.128231354</td></tr>\n",
       "\t<tr><th scope=row>height_percentage</th><td>0.0749745389</td><td>0.0385702127</td><td>0.0185617772</td><td>0.6277704778</td><td>0.207860652</td><td>0.195324349</td><td>1.0000000000</td><td>0.157218496</td><td>0.035731909</td><td>0.0183844591</td><td>...</td><td>1.665183e-03</td><td>0.0033387299</td><td>0.0219589151</td><td>0.0003233412</td><td>0.0005518607</td><td>0.0889136194</td><td>0.0124799573</td><td>0.0715128724</td><td>0.0021523050</td><td>0.085304688</td></tr>\n",
       "\t<tr><th scope=row>has_superstructure_adobe_mud</th><td>0.0182454652</td><td>0.0158328554</td><td>0.0157321636</td><td>0.0688265517</td><td>0.205273547</td><td>0.033860475</td><td>0.1572184959</td><td>1.000000000</td><td>0.306861168</td><td>0.0069617504</td><td>...</td><td>1.530135e-03</td><td>0.0027853664</td><td>0.0173120256</td><td>0.0053125257</td><td>0.0190196841</td><td>0.0301759065</td><td>0.0251080746</td><td>0.0046808661</td><td>0.0331649780</td><td>0.055313602</td></tr>\n",
       "\t<tr><th scope=row>has_superstructure_mud_mortar_stone</th><td>0.1520377636</td><td>0.0764913251</td><td>0.0262943509</td><td>0.2043791305</td><td>0.035490258</td><td>0.227149949</td><td>0.0357319091</td><td>0.306861168</td><td>1.000000000</td><td>0.0340455999</td><td>...</td><td>3.467759e-05</td><td>0.0208515104</td><td>0.0509111924</td><td>0.0174759834</td><td>0.0985564267</td><td>0.1387459777</td><td>0.0478715860</td><td>0.1266407426</td><td>0.0037261188</td><td>0.291325239</td></tr>\n",
       "\t<tr><th scope=row>has_superstructure_stone_flag</th><td>0.0076772072</td><td>0.0087428232</td><td>0.0195789298</td><td>0.0085311469</td><td>0.010723424</td><td>0.001109088</td><td>0.0183844591</td><td>0.006961750</td><td>0.034045600</td><td>1.0000000000</td><td>...</td><td>5.316792e-04</td><td>0.0055826154</td><td>0.0117625293</td><td>0.0035426230</td><td>0.0095558954</td><td>0.0083835268</td><td>0.0049394746</td><td>0.0055453273</td><td>0.0052446171</td><td>0.066039449</td></tr>\n",
       "\t<tr><th scope=row>has_superstructure_cement_mortar_stone</th><td>0.0236562120</td><td>0.0091216544</td><td>0.0059663209</td><td>0.0245200465</td><td>0.042465488</td><td>0.081037016</td><td>0.0047263498</td><td>0.014554222</td><td>0.104288051</td><td>0.0373065551</td><td>...</td><td>1.645818e-03</td><td>0.0059240573</td><td>0.0124019729</td><td>0.0060572871</td><td>0.0206153590</td><td>0.0090669418</td><td>0.0064497131</td><td>0.0011862936</td><td>0.0059202717</td><td>0.060295341</td></tr>\n",
       "\t<tr><th scope=row>has_superstructure_mud_mortar_brick</th><td>0.0288536798</td><td>0.0142456373</td><td>0.0232784539</td><td>0.0378151694</td><td>0.253801895</td><td>0.058096539</td><td>0.1854167534</td><td>0.314978535</td><td>0.376207673</td><td>0.0333478822</td><td>...</td><td>7.438358e-04</td><td>0.0044172738</td><td>0.0063616090</td><td>0.0018477399</td><td>0.0411194876</td><td>0.0192243941</td><td>0.0279493081</td><td>0.0008458464</td><td>0.0082379825</td><td>0.014560545</td></tr>\n",
       "\t<tr><th scope=row>has_superstructure_cement_mortar_brick</th><td>0.1341214091</td><td>0.0798752255</td><td>0.0051157067</td><td>0.2241536451</td><td>0.131947607</td><td>0.216587034</td><td>0.0511923480</td><td>0.037549214</td><td>0.470714995</td><td>0.0437291003</td><td>...</td><td>1.684057e-04</td><td>0.0153336341</td><td>0.0297105777</td><td>0.0159603732</td><td>0.0941205132</td><td>0.0763312015</td><td>0.0048754627</td><td>0.0524805434</td><td>0.0142076625</td><td>0.254130981</td></tr>\n",
       "\t<tr><th scope=row>has_superstructure_timber</th><td>0.1449853465</td><td>0.0239268842</td><td>0.0039160333</td><td>0.0120105114</td><td>0.033019187</td><td>0.053895369</td><td>0.0408384897</td><td>0.011694108</td><td>0.040176970</td><td>0.1253114011</td><td>...</td><td>9.555188e-04</td><td>0.0055109886</td><td>0.0159851421</td><td>0.0117926774</td><td>0.0159260519</td><td>0.1028862778</td><td>0.0112037670</td><td>0.0722370348</td><td>0.0197857086</td><td>0.069852437</td></tr>\n",
       "\t<tr><th scope=row>has_superstructure_bamboo</th><td>0.0741688450</td><td>0.0325884947</td><td>0.0061433015</td><td>0.0270957766</td><td>0.048603598</td><td>0.031672644</td><td>0.0619282317</td><td>0.011528412</td><td>0.054657208</td><td>0.0784657574</td><td>...</td><td>1.402042e-03</td><td>0.0047267301</td><td>0.0055427323</td><td>0.0134461279</td><td>0.0147299644</td><td>0.0804573227</td><td>0.0326268255</td><td>0.0713337358</td><td>0.0054001313</td><td>0.063050545</td></tr>\n",
       "\t<tr><th scope=row>has_superstructure_rc_non_engineered</th><td>0.0164539039</td><td>0.0381730459</td><td>0.0022654499</td><td>0.0635365829</td><td>0.086568886</td><td>0.192775007</td><td>0.0407732676</td><td>0.036829901</td><td>0.222365556</td><td>0.0084480812</td><td>...</td><td>2.547067e-03</td><td>0.0109494589</td><td>0.0199664158</td><td>0.0064000972</td><td>0.0292062366</td><td>0.0018167436</td><td>0.0051366892</td><td>0.0028667915</td><td>0.0065987574</td><td>0.158145085</td></tr>\n",
       "\t<tr><th scope=row>has_superstructure_rc_engineered</th><td>0.0157667497</td><td>0.0360738784</td><td>0.0124202758</td><td>0.0387353478</td><td>0.097514642</td><td>0.216981132</td><td>0.0688392909</td><td>0.036781639</td><td>0.224509010</td><td>0.0214057421</td><td>...</td><td>3.554516e-03</td><td>0.0030827171</td><td>0.0251591874</td><td>0.0038064268</td><td>0.0141495132</td><td>0.0094815803</td><td>0.0009673210</td><td>0.0122299822</td><td>0.0086681919</td><td>0.179013953</td></tr>\n",
       "\t<tr><th scope=row>has_superstructure_other</th><td>0.0226700945</td><td>0.0201441988</td><td>0.0106037925</td><td>0.0272170890</td><td>0.007799982</td><td>0.009807184</td><td>0.0192893822</td><td>0.057544679</td><td>0.041704637</td><td>0.0657321170</td><td>...</td><td>1.126334e-03</td><td>0.0007897752</td><td>0.0087964510</td><td>0.0033094102</td><td>0.0105698798</td><td>0.0169912024</td><td>0.0092382652</td><td>0.0140782206</td><td>0.0047343282</td><td>0.030224138</td></tr>\n",
       "\t<tr><th scope=row>count_families</th><td>0.0191152136</td><td>0.0080228327</td><td>0.0012865760</td><td>0.0318886865</td><td>0.017764601</td><td>0.003619847</td><td>0.0136472305</td><td>0.026730659</td><td>0.044272536</td><td>0.0099587432</td><td>...</td><td>2.391347e-03</td><td>0.0001554733</td><td>0.0039988193</td><td>0.0012820498</td><td>0.0075953503</td><td>0.0022352456</td><td>0.0007697875</td><td>0.0029578150</td><td>0.0017805743</td><td>0.064616912</td></tr>\n",
       "\t<tr><th scope=row>has_secondary_use</th><td>0.0104279239</td><td>0.0015187196</td><td>0.0073754394</td><td>0.0142395150</td><td>0.033888636</td><td>0.118494157</td><td>0.0558068252</td><td>0.013300055</td><td>0.087519913</td><td>0.0017375487</td><td>...</td><td>2.534921e-04</td><td>0.0060198972</td><td>0.0007345750</td><td>0.0037742280</td><td>0.0157219072</td><td>0.0175398284</td><td>0.0068525506</td><td>0.0246767843</td><td>0.0161172804</td><td>0.079630274</td></tr>\n",
       "\t<tr><th scope=row>has_secondary_use_agriculture</th><td>0.0197858289</td><td>0.0175222260</td><td>0.0159948483</td><td>0.0318040367</td><td>0.005818542</td><td>0.015243586</td><td>0.0023593822</td><td>0.003916569</td><td>0.058261234</td><td>0.0105627526</td><td>...</td><td>5.779973e-04</td><td>0.0020490435</td><td>0.0142738909</td><td>0.0026942930</td><td>0.0078396919</td><td>0.0061777039</td><td>0.0046238984</td><td>0.0022324619</td><td>0.0095612073</td><td>0.011308502</td></tr>\n",
       "\t<tr><th scope=row>has_secondary_use_hotel</th><td>0.0019109980</td><td>0.0084385629</td><td>0.0020006535</td><td>0.0096490975</td><td>0.048370565</td><td>0.152948218</td><td>0.0732843761</td><td>0.012641728</td><td>0.159531589</td><td>0.0088678935</td><td>...</td><td>1.273218e-03</td><td>0.0109079673</td><td>0.0123206912</td><td>0.0078132589</td><td>0.0234244233</td><td>0.0382653612</td><td>0.0086513687</td><td>0.0406821859</td><td>0.0151966621</td><td>0.097942235</td></tr>\n",
       "\t<tr><th scope=row>has_secondary_use_rental</th><td>0.0235229016</td><td>0.0307040004</td><td>0.0073559116</td><td>0.0104524647</td><td>0.023098795</td><td>0.108178671</td><td>0.0454341975</td><td>0.003935490</td><td>0.117947790</td><td>0.0116320767</td><td>...</td><td>1.091334e-03</td><td>0.0012343773</td><td>0.0069973902</td><td>0.0025831344</td><td>0.0212920106</td><td>0.0030792886</td><td>0.0051003793</td><td>0.0008457460</td><td>0.0009828352</td><td>0.083754329</td></tr>\n",
       "\t<tr><th scope=row>has_secondary_use_institution</th><td>0.0037002251</td><td>0.0048396224</td><td>0.0070580679</td><td>0.0024275323</td><td>0.014348956</td><td>0.044636829</td><td>0.0195849563</td><td>0.004280959</td><td>0.036064431</td><td>0.0009705406</td><td>...</td><td>3.704543e-04</td><td>0.0007579530</td><td>0.0056954034</td><td>0.0023200162</td><td>0.0070004387</td><td>0.0027689294</td><td>0.0006426970</td><td>0.0027060306</td><td>0.0006416695</td><td>0.028728301</td></tr>\n",
       "\t<tr><th scope=row>has_secondary_use_school</th><td>0.0029774600</td><td>0.0048563104</td><td>0.0043734891</td><td>0.0035790361</td><td>0.008641556</td><td>0.035688849</td><td>0.0098219119</td><td>0.002369428</td><td>0.023070199</td><td>0.0013620276</td><td>...</td><td>2.293980e-04</td><td>0.0158979997</td><td>0.0013090834</td><td>0.0006926163</td><td>0.0080553944</td><td>0.0027923057</td><td>0.0014321827</td><td>0.0016201701</td><td>0.0080855702</td><td>0.011691813</td></tr>\n",
       "\t<tr><th scope=row>has_secondary_use_industry</th><td>0.0026553967</td><td>0.0006869478</td><td>0.0008624315</td><td>0.0151352777</td><td>0.006319365</td><td>0.020411392</td><td>0.0011982879</td><td>0.001761967</td><td>0.025506572</td><td>0.0042395183</td><td>...</td><td>3.953503e-04</td><td>0.0008088905</td><td>0.0023329686</td><td>0.0020287387</td><td>0.0040877741</td><td>0.0041580482</td><td>0.0006620693</td><td>0.0016493132</td><td>0.0033352237</td><td>0.011023655</td></tr>\n",
       "\t<tr><th scope=row>has_secondary_use_health_post</th><td>0.0023033488</td><td>0.0007565568</td><td>0.0026324663</td><td>0.0012398068</td><td>0.004895011</td><td>0.014669482</td><td>0.0071385362</td><td>0.003292298</td><td>0.008762637</td><td>0.0025857566</td><td>...</td><td>1.656099e-04</td><td>0.0003388394</td><td>0.0056096594</td><td>0.0005000223</td><td>0.0007476445</td><td>0.0018742400</td><td>0.0010339393</td><td>0.0002714800</td><td>0.0013971053</td><td>0.008542894</td></tr>\n",
       "\t<tr><th scope=row>has_secondary_use_gov_office</th><td>0.0010596408</td><td>0.0001523410</td><td>0.0009432163</td><td>0.0034203894</td><td>0.003929700</td><td>0.012375970</td><td>0.0104369422</td><td>0.002648235</td><td>0.011904242</td><td>0.0029590589</td><td>...</td><td>1.458381e-04</td><td>0.0002983860</td><td>0.0003696405</td><td>0.0004403256</td><td>0.0014391178</td><td>0.0004334655</td><td>0.0009104993</td><td>0.0006877143</td><td>0.0012303077</td><td>0.009378110</td></tr>\n",
       "\t<tr><th scope=row>has_secondary_use_use_police</th><td>0.0005233007</td><td>0.0019263185</td><td>0.0002685023</td><td>0.0006421631</td><td>0.002628350</td><td>0.005690507</td><td>0.0044142595</td><td>0.001492944</td><td>0.003380324</td><td>0.0004719170</td><td>...</td><td>1.134568e-04</td><td>0.0002321336</td><td>0.0069798771</td><td>0.0108751909</td><td>0.0011195822</td><td>0.0013810321</td><td>0.0007083359</td><td>0.0018435057</td><td>0.0009571353</td><td>0.001655948</td></tr>\n",
       "\t<tr><th scope=row>has_secondary_use_other</th><td>0.0179919818</td><td>0.0130678116</td><td>0.0024631912</td><td>0.0032693500</td><td>0.006020404</td><td>0.012580560</td><td>0.0008785923</td><td>0.010074368</td><td>0.005628210</td><td>0.0021265183</td><td>...</td><td>8.662430e-04</td><td>0.0004052205</td><td>0.0033612633</td><td>0.0011387463</td><td>0.0015197793</td><td>0.0026964678</td><td>0.0018219348</td><td>0.0055609636</td><td>0.0156232650</td><td>0.016334468</td></tr>\n",
       "\t<tr><th scope=row>...</th><td>...</td><td>...</td><td>...</td><td>...</td><td>...</td><td>...</td><td>...</td><td>...</td><td>...</td><td>...</td><td></td><td>...</td><td>...</td><td>...</td><td>...</td><td>...</td><td>...</td><td>...</td><td>...</td><td>...</td><td>...</td></tr>\n",
       "\t<tr><th scope=row>roof_typeq</th><td>0.0021463438</td><td>0.0510354855</td><td>0.006103992</td><td>0.1164720306</td><td>0.0358288885</td><td>0.038493412</td><td>0.0681709449</td><td>0.042599753</td><td>4.961142e-02</td><td>0.0018833132</td><td>...</td><td>0.0037564242</td><td>0.0063764438</td><td>0.0205753330</td><td>9.239599e-03</td><td>0.0215872284</td><td>0.0283510640</td><td>0.0054164500</td><td>0.0115703673</td><td>0.0228030005</td><td>0.0744600951</td></tr>\n",
       "\t<tr><th scope=row>roof_typex</th><td>0.0482722959</td><td>0.0671518525</td><td>0.014634808</td><td>0.1150829909</td><td>0.1423538301</td><td>0.357363280</td><td>0.0857225595</td><td>0.052391490</td><td>4.378977e-01</td><td>0.0429288368</td><td>...</td><td>0.0008431005</td><td>0.0103839009</td><td>0.0441145682</td><td>7.210911e-03</td><td>0.0498526851</td><td>0.0125188631</td><td>0.0128375303</td><td>0.0089199228</td><td>0.0083952731</td><td>0.2801058556</td></tr>\n",
       "\t<tr><th scope=row>ground_floor_typef</th><td>0.0754051671</td><td>0.0993266489</td><td>0.008915848</td><td>0.1668531894</td><td>0.1359806169</td><td>0.262231614</td><td>0.0033036412</td><td>0.061780942</td><td>3.824136e-01</td><td>0.0059330086</td><td>...</td><td>0.0020556799</td><td>0.0168034837</td><td>0.0376207523</td><td>8.317911e-03</td><td>0.0719646256</td><td>0.0355418444</td><td>0.0015268834</td><td>0.0222087434</td><td>0.0102371487</td><td>0.2347546273</td></tr>\n",
       "\t<tr><th scope=row>ground_floor_typem</th><td>0.0098720560</td><td>0.0037881972</td><td>0.002068204</td><td>0.0144562675</td><td>0.0065661234</td><td>0.011400423</td><td>0.0035875642</td><td>0.005499706</td><td>3.228695e-02</td><td>0.0060007160</td><td>...</td><td>0.0005337071</td><td>0.0010919697</td><td>0.0058949631</td><td>7.777339e-04</td><td>0.0036182340</td><td>0.0025727831</td><td>0.0013096940</td><td>0.0028387611</td><td>0.0006743781</td><td>0.0193445920</td></tr>\n",
       "\t<tr><th scope=row>ground_floor_typev</th><td>0.1105625023</td><td>0.0782788854</td><td>0.004324925</td><td>0.2034282124</td><td>0.1962454305</td><td>0.331089660</td><td>0.0109430290</td><td>0.078740211</td><td>4.877559e-01</td><td>0.0449350502</td><td>...</td><td>0.0004499698</td><td>0.0191335917</td><td>0.0354574599</td><td>1.166044e-02</td><td>0.0927915181</td><td>0.0516170366</td><td>0.0052512335</td><td>0.0364845576</td><td>0.0091943726</td><td>0.3187201555</td></tr>\n",
       "\t<tr><th scope=row>ground_floor_typex</th><td>0.0094622252</td><td>0.0554279422</td><td>0.006870092</td><td>0.0119917808</td><td>0.0148126282</td><td>0.023740994</td><td>0.0126886841</td><td>0.002399374</td><td>1.259126e-02</td><td>0.0265301967</td><td>...</td><td>0.0014843775</td><td>0.0030788006</td><td>0.0125649934</td><td>1.086339e-03</td><td>0.0032970241</td><td>0.0072764535</td><td>0.0041130410</td><td>0.0101136403</td><td>0.0055102478</td><td>0.0066060430</td></tr>\n",
       "\t<tr><th scope=row>ground_floor_typez</th><td>0.0010482568</td><td>0.0064065419</td><td>0.002622097</td><td>0.0412618546</td><td>0.0102299748</td><td>0.003989473</td><td>0.0271463115</td><td>0.016562425</td><td>6.428087e-02</td><td>0.1199265769</td><td>...</td><td>0.0043789057</td><td>0.0034803011</td><td>0.0097768119</td><td>2.835662e-03</td><td>0.0047137724</td><td>0.0166874785</td><td>0.0035735030</td><td>0.0159899361</td><td>0.0034932888</td><td>0.0167279145</td></tr>\n",
       "\t<tr><th scope=row>other_floor_typej</th><td>0.1129154735</td><td>0.0408807025</td><td>0.009160370</td><td>0.9884655432</td><td>0.1751836204</td><td>0.050355683</td><td>0.6213178363</td><td>0.067858764</td><td>2.068890e-01</td><td>0.0087900355</td><td>...</td><td>0.0007150884</td><td>0.0050480887</td><td>0.0499520019</td><td>2.957635e-03</td><td>0.0312265631</td><td>0.0994679843</td><td>0.0259984093</td><td>0.0820963382</td><td>0.0074323417</td><td>0.1356679474</td></tr>\n",
       "\t<tr><th scope=row>other_floor_typeq</th><td>0.1300329891</td><td>0.0708999095</td><td>0.000706009</td><td>0.5539634171</td><td>0.1799997776</td><td>0.122585783</td><td>0.2821575911</td><td>0.043798933</td><td>3.259570e-01</td><td>0.0867449432</td><td>...</td><td>0.0007263890</td><td>0.0138229698</td><td>0.0624677316</td><td>1.410019e-02</td><td>0.0562996828</td><td>0.0873678960</td><td>0.0175588059</td><td>0.0708786606</td><td>0.0049111668</td><td>0.1667587106</td></tr>\n",
       "\t<tr><th scope=row>other_floor_types</th><td>0.0203166608</td><td>0.0505743345</td><td>0.012337462</td><td>0.0883686400</td><td>0.1091177297</td><td>0.310020720</td><td>0.2320773441</td><td>0.050588411</td><td>3.669953e-01</td><td>0.0354504531</td><td>...</td><td>0.0003727722</td><td>0.0093773327</td><td>0.0251850151</td><td>7.046696e-03</td><td>0.0404028761</td><td>0.0116178135</td><td>0.0156159416</td><td>0.0039634115</td><td>0.0024588439</td><td>0.2268202695</td></tr>\n",
       "\t<tr><th scope=row>other_floor_typex</th><td>0.0475702125</td><td>0.0236763998</td><td>0.002811789</td><td>0.1888093323</td><td>0.0020272244</td><td>0.032506599</td><td>0.1046499616</td><td>0.037399975</td><td>1.485529e-02</td><td>0.1235622343</td><td>...</td><td>0.0014192456</td><td>0.0077093576</td><td>0.0183140483</td><td>1.139797e-02</td><td>0.0198569850</td><td>0.0233986570</td><td>0.0112032454</td><td>0.0145549868</td><td>0.0022140391</td><td>0.0431879693</td></tr>\n",
       "\t<tr><th scope=row>positionj</th><td>0.0048508076</td><td>0.0065801841</td><td>0.015731777</td><td>0.0434723865</td><td>0.1737538727</td><td>0.066260631</td><td>0.1788771334</td><td>0.134657014</td><td>2.255234e-01</td><td>0.0020123078</td><td>...</td><td>0.0027985845</td><td>0.0027530334</td><td>0.0083435105</td><td>1.751252e-04</td><td>0.0160404082</td><td>0.0020700152</td><td>0.0365217582</td><td>0.0250762038</td><td>0.0168820677</td><td>0.0322749139</td></tr>\n",
       "\t<tr><th scope=row>positiono</th><td>0.0026041035</td><td>0.0040491708</td><td>0.019633103</td><td>0.0281331606</td><td>0.1705828107</td><td>0.012853946</td><td>0.1232001236</td><td>0.111681217</td><td>1.430587e-01</td><td>0.0080763205</td><td>...</td><td>0.0056000702</td><td>0.0042508077</td><td>0.0011268494</td><td>1.009674e-03</td><td>0.0129437615</td><td>0.0051941363</td><td>0.0134836224</td><td>0.0020478332</td><td>0.0064505490</td><td>0.0047868869</td></tr>\n",
       "\t<tr><th scope=row>positions</th><td>0.0242870020</td><td>0.0054186604</td><td>0.017343940</td><td>0.0637738088</td><td>0.1548875579</td><td>0.042178321</td><td>0.1821064978</td><td>0.149164565</td><td>1.991380e-01</td><td>0.0162220662</td><td>...</td><td>0.0011181409</td><td>0.0027189478</td><td>0.0276208827</td><td>3.320864e-04</td><td>0.0056910522</td><td>0.0099429963</td><td>0.0199059889</td><td>0.0156065294</td><td>0.0286336583</td><td>0.0277691815</td></tr>\n",
       "\t<tr><th scope=row>positiont</th><td>0.0237905061</td><td>0.0089714301</td><td>0.005198951</td><td>0.0388324361</td><td>0.0279063405</td><td>0.011427861</td><td>0.0675315410</td><td>0.059615927</td><td>5.398671e-02</td><td>0.0191118515</td><td>...</td><td>0.0014955175</td><td>0.0003469607</td><td>0.0258457139</td><td>1.334863e-05</td><td>0.0063973354</td><td>0.0110966823</td><td>0.0026863320</td><td>0.0032090458</td><td>0.0238459690</td><td>0.0516049628</td></tr>\n",
       "\t<tr><th scope=row>plan_configurationa</th><td>0.0015658100</td><td>0.0006134858</td><td>0.004617418</td><td>0.0170123264</td><td>0.0103197163</td><td>0.007531252</td><td>0.0081228198</td><td>0.004490667</td><td>1.507585e-02</td><td>0.0024760155</td><td>...</td><td>0.0003757143</td><td>0.0007687150</td><td>0.0046490281</td><td>1.134386e-03</td><td>0.0037075178</td><td>0.0037152944</td><td>0.0009479204</td><td>0.0028377959</td><td>0.0007207468</td><td>0.0195828068</td></tr>\n",
       "\t<tr><th scope=row>plan_configurationc</th><td>0.0045662211</td><td>0.0068734526</td><td>0.003044326</td><td>0.0010313878</td><td>0.0038511852</td><td>0.035138217</td><td>0.0193158304</td><td>0.004517596</td><td>2.824248e-02</td><td>0.0048714490</td><td>...</td><td>0.0004267367</td><td>0.0008731074</td><td>0.0052803715</td><td>1.288437e-03</td><td>0.0042110030</td><td>0.0008507711</td><td>0.0016866972</td><td>0.0005468709</td><td>0.0014433655</td><td>0.0231808177</td></tr>\n",
       "\t<tr><th scope=row>plan_configurationd</th><td>0.0302701687</td><td>0.0220825548</td><td>0.001974921</td><td>0.0582944394</td><td>0.0179768524</td><td>0.087125656</td><td>0.0125572391</td><td>0.023631342</td><td>1.107990e-01</td><td>0.0030521472</td><td>...</td><td>0.0588537847</td><td>0.1204153971</td><td>0.7282472142</td><td>1.776959e-01</td><td>0.5807642856</td><td>0.0207630719</td><td>0.0022061343</td><td>0.0163611436</td><td>0.0006104055</td><td>0.0428035949</td></tr>\n",
       "\t<tr><th scope=row>plan_configurationf</th><td>0.0016736309</td><td>0.0005903484</td><td>0.001071672</td><td>0.0027845767</td><td>0.0018512019</td><td>0.002438753</td><td>0.0043288788</td><td>0.001542615</td><td>2.328366e-04</td><td>0.0017325207</td><td>...</td><td>0.0001109627</td><td>0.0002270308</td><td>0.0013730346</td><td>3.350273e-04</td><td>0.0010949709</td><td>0.0013506735</td><td>0.0006927648</td><td>0.0004074527</td><td>0.0032060468</td><td>0.0005174582</td></tr>\n",
       "\t<tr><th scope=row>plan_configurationm</th><td>0.0040479654</td><td>0.0079705908</td><td>0.005089794</td><td>0.0001104449</td><td>0.0142071850</td><td>0.011577521</td><td>0.0084679249</td><td>0.005002310</td><td>1.359745e-02</td><td>0.0006674208</td><td>...</td><td>0.0001604592</td><td>0.0003283010</td><td>0.0019854962</td><td>4.844709e-04</td><td>0.0015833982</td><td>0.0019531606</td><td>0.0010017824</td><td>0.0026072258</td><td>0.0013536535</td><td>0.0070631746</td></tr>\n",
       "\t<tr><th scope=row>plan_configurationn</th><td>0.0008222888</td><td>0.0004151702</td><td>0.003123084</td><td>0.0007872794</td><td>0.0023449912</td><td>0.002579424</td><td>0.0016651829</td><td>0.001530135</td><td>3.467759e-05</td><td>0.0005316792</td><td>...</td><td>1.0000000000</td><td>0.0002983860</td><td>0.0018045765</td><td>4.403256e-04</td><td>0.0014391178</td><td>0.0026421182</td><td>0.0033285587</td><td>0.0026761642</td><td>0.0012303077</td><td>0.0015865435</td></tr>\n",
       "\t<tr><th scope=row>plan_configurationo</th><td>0.0081792905</td><td>0.0057857317</td><td>0.002803508</td><td>0.0048608371</td><td>0.0003816959</td><td>0.026017531</td><td>0.0033387299</td><td>0.002785366</td><td>2.085151e-02</td><td>0.0055826154</td><td>...</td><td>0.0002983860</td><td>1.0000000000</td><td>0.0036921804</td><td>9.009103e-04</td><td>0.0029444486</td><td>0.0071678950</td><td>0.0002099387</td><td>0.0050209506</td><td>0.0009760461</td><td>0.0139406698</td></tr>\n",
       "\t<tr><th scope=row>plan_configurationq</th><td>0.0093826688</td><td>0.0043257875</td><td>0.001895000</td><td>0.0497166509</td><td>0.0148621917</td><td>0.016629018</td><td>0.0219589151</td><td>0.017312026</td><td>5.091119e-02</td><td>0.0117625293</td><td>...</td><td>0.0018045765</td><td>0.0036921804</td><td>1.0000000000</td><td>5.448518e-03</td><td>0.0178074114</td><td>0.0117878918</td><td>0.0035623907</td><td>0.0074979117</td><td>0.0001225145</td><td>0.0080994024</td></tr>\n",
       "\t<tr><th scope=row>plan_configurations</th><td>0.0085588975</td><td>0.0059284248</td><td>0.003398537</td><td>0.0027085921</td><td>0.0052148631</td><td>0.020181299</td><td>0.0003233412</td><td>0.005312526</td><td>1.747598e-02</td><td>0.0035426230</td><td>...</td><td>0.0004403256</td><td>0.0009009103</td><td>0.0054485177</td><td>1.000000e+00</td><td>0.0043450966</td><td>0.0026964251</td><td>0.0056849029</td><td>0.0039998774</td><td>0.0005792644</td><td>0.0112720294</td></tr>\n",
       "\t<tr><th scope=row>plan_configurationu</th><td>0.0330521678</td><td>0.0255317097</td><td>0.003239895</td><td>0.0301012707</td><td>0.0128945102</td><td>0.099282938</td><td>0.0005518607</td><td>0.019019684</td><td>9.855643e-02</td><td>0.0095558954</td><td>...</td><td>0.0014391178</td><td>0.0029444486</td><td>0.0178074114</td><td>4.345097e-03</td><td>1.0000000000</td><td>0.0185703486</td><td>0.0053906216</td><td>0.0163697723</td><td>0.0001671192</td><td>0.0623173754</td></tr>\n",
       "\t<tr><th scope=row>legal_ownership_statusa</th><td>0.1003929898</td><td>0.0258932511</td><td>0.034199080</td><td>0.0972693393</td><td>0.0850105671</td><td>0.031313010</td><td>0.0889136194</td><td>0.030175906</td><td>1.387460e-01</td><td>0.0083835268</td><td>...</td><td>0.0026421182</td><td>0.0071678950</td><td>0.0117878918</td><td>2.696425e-03</td><td>0.0185703486</td><td>1.0000000000</td><td>0.0110828879</td><td>0.7491336471</td><td>0.0149756971</td><td>0.0827047153</td></tr>\n",
       "\t<tr><th scope=row>legal_ownership_statusr</th><td>0.0078735782</td><td>0.0270114837</td><td>0.001309415</td><td>0.0250799492</td><td>0.0001595599</td><td>0.018655673</td><td>0.0124799573</td><td>0.025108075</td><td>4.787159e-02</td><td>0.0049394746</td><td>...</td><td>0.0033285587</td><td>0.0002099387</td><td>0.0035623907</td><td>5.684903e-03</td><td>0.0053906216</td><td>0.0110828879</td><td>1.0000000000</td><td>0.3842330930</td><td>0.0076810839</td><td>0.0025914085</td></tr>\n",
       "\t<tr><th scope=row>legal_ownership_statusv</th><td>0.0820548764</td><td>0.0231892461</td><td>0.018533114</td><td>0.0797932308</td><td>0.0569515747</td><td>0.032560763</td><td>0.0715128724</td><td>0.004680866</td><td>1.266407e-01</td><td>0.0055453273</td><td>...</td><td>0.0026761642</td><td>0.0050209506</td><td>0.0074979117</td><td>3.999877e-03</td><td>0.0163697723</td><td>0.7491336471</td><td>0.3842330930</td><td>1.0000000000</td><td>0.5191930530</td><td>0.0482375901</td></tr>\n",
       "\t<tr><th scope=row>legal_ownership_statusw</th><td>0.0046460055</td><td>0.0135791615</td><td>0.013099951</td><td>0.0079277459</td><td>0.0144714096</td><td>0.002460712</td><td>0.0021523050</td><td>0.033164978</td><td>3.726119e-03</td><td>0.0052446171</td><td>...</td><td>0.0012303077</td><td>0.0009760461</td><td>0.0001225145</td><td>5.792644e-04</td><td>0.0001671192</td><td>0.0149756971</td><td>0.0076810839</td><td>0.5191930530</td><td>1.0000000000</td><td>0.0295554686</td></tr>\n",
       "\t<tr><th scope=row>damage_grade</th><td>0.0723466335</td><td>0.0431607570</td><td>0.007931779</td><td>0.1373813778</td><td>0.1533396092</td><td>0.128231354</td><td>0.0853046882</td><td>0.055313602</td><td>2.913252e-01</td><td>0.0660394488</td><td>...</td><td>0.0015865435</td><td>0.0139406698</td><td>0.0080994024</td><td>1.127203e-02</td><td>0.0623173754</td><td>0.0827047153</td><td>0.0025914085</td><td>0.0482375901</td><td>0.0295554686</td><td>1.0000000000</td></tr>\n",
       "</tbody>\n",
       "</table>\n"
      ],
      "text/latex": [
       "A matrix: 69 x 69 of type dbl\n",
       "\\begin{tabular}{r|lllllllllllllllllllll}\n",
       "  & geo\\_level\\_1\\_id & geo\\_level\\_2\\_id & geo\\_level\\_3\\_id & count\\_floors\\_pre\\_eq & age & area\\_percentage & height\\_percentage & has\\_superstructure\\_adobe\\_mud & has\\_superstructure\\_mud\\_mortar\\_stone & has\\_superstructure\\_stone\\_flag & ... & plan\\_configurationn & plan\\_configurationo & plan\\_configurationq & plan\\_configurations & plan\\_configurationu & legal\\_ownership\\_statusa & legal\\_ownership\\_statusr & legal\\_ownership\\_statusv & legal\\_ownership\\_statusw & damage\\_grade\\\\\n",
       "\\hline\n",
       "\tgeo\\_level\\_1\\_id & 1.0000000000 & 0.0614048534 & 0.0027184451 & 0.1109811320 & 0.047254857 & 0.066744160 & 0.0749745389 & 0.018245465 & 0.152037764 & 0.0076772072 & ... & 8.222888e-04 & 0.0081792905 & 0.0093826688 & 0.0085588975 & 0.0330521678 & 0.1003929898 & 0.0078735782 & 0.0820548764 & 0.0046460055 & 0.072346634\\\\\n",
       "\tgeo\\_level\\_2\\_id & 0.0614048534 & 1.0000000000 & 0.0009210931 & 0.0410805603 & 0.031531869 & 0.039899529 & 0.0385702127 & 0.015832855 & 0.076491325 & 0.0087428232 & ... & 4.151702e-04 & 0.0057857317 & 0.0043257875 & 0.0059284248 & 0.0255317097 & 0.0258932511 & 0.0270114837 & 0.0231892461 & 0.0135791615 & 0.043160757\\\\\n",
       "\tgeo\\_level\\_3\\_id & 0.0027184451 & 0.0009210931 & 1.0000000000 & 0.0084718933 & 0.006303267 & 0.004083808 & 0.0185617772 & 0.015732164 & 0.026294351 & 0.0195789298 & ... & 3.123084e-03 & 0.0028035078 & 0.0018949999 & 0.0033985366 & 0.0032398945 & 0.0341990799 & 0.0013094153 & 0.0185331138 & 0.0130999509 & 0.007931779\\\\\n",
       "\tcount\\_floors\\_pre\\_eq & 0.1109811320 & 0.0410805603 & 0.0084718933 & 1.0000000000 & 0.173843296 & 0.050425836 & 0.6277704778 & 0.068826552 & 0.204379130 & 0.0085311469 & ... & 7.872794e-04 & 0.0048608371 & 0.0497166509 & 0.0027085921 & 0.0301012707 & 0.0972693393 & 0.0250799492 & 0.0797932308 & 0.0079277459 & 0.137381378\\\\\n",
       "\tage & 0.0472548568 & 0.0315318687 & 0.0063032673 & 0.1738432963 & 1.000000000 & 0.028199789 & 0.2078606518 & 0.205273547 & 0.035490258 & 0.0107234241 & ... & 2.344991e-03 & 0.0003816959 & 0.0148621917 & 0.0052148631 & 0.0128945102 & 0.0850105671 & 0.0001595599 & 0.0569515747 & 0.0144714096 & 0.153339609\\\\\n",
       "\tarea\\_percentage & 0.0667441604 & 0.0398995295 & 0.0040838083 & 0.0504258362 & 0.028199789 & 1.000000000 & 0.1953243490 & 0.033860475 & 0.227149949 & 0.0011090877 & ... & 2.579424e-03 & 0.0260175307 & 0.0166290177 & 0.0201812988 & 0.0992829378 & 0.0313130099 & 0.0186556730 & 0.0325607629 & 0.0024607117 & 0.128231354\\\\\n",
       "\theight\\_percentage & 0.0749745389 & 0.0385702127 & 0.0185617772 & 0.6277704778 & 0.207860652 & 0.195324349 & 1.0000000000 & 0.157218496 & 0.035731909 & 0.0183844591 & ... & 1.665183e-03 & 0.0033387299 & 0.0219589151 & 0.0003233412 & 0.0005518607 & 0.0889136194 & 0.0124799573 & 0.0715128724 & 0.0021523050 & 0.085304688\\\\\n",
       "\thas\\_superstructure\\_adobe\\_mud & 0.0182454652 & 0.0158328554 & 0.0157321636 & 0.0688265517 & 0.205273547 & 0.033860475 & 0.1572184959 & 1.000000000 & 0.306861168 & 0.0069617504 & ... & 1.530135e-03 & 0.0027853664 & 0.0173120256 & 0.0053125257 & 0.0190196841 & 0.0301759065 & 0.0251080746 & 0.0046808661 & 0.0331649780 & 0.055313602\\\\\n",
       "\thas\\_superstructure\\_mud\\_mortar\\_stone & 0.1520377636 & 0.0764913251 & 0.0262943509 & 0.2043791305 & 0.035490258 & 0.227149949 & 0.0357319091 & 0.306861168 & 1.000000000 & 0.0340455999 & ... & 3.467759e-05 & 0.0208515104 & 0.0509111924 & 0.0174759834 & 0.0985564267 & 0.1387459777 & 0.0478715860 & 0.1266407426 & 0.0037261188 & 0.291325239\\\\\n",
       "\thas\\_superstructure\\_stone\\_flag & 0.0076772072 & 0.0087428232 & 0.0195789298 & 0.0085311469 & 0.010723424 & 0.001109088 & 0.0183844591 & 0.006961750 & 0.034045600 & 1.0000000000 & ... & 5.316792e-04 & 0.0055826154 & 0.0117625293 & 0.0035426230 & 0.0095558954 & 0.0083835268 & 0.0049394746 & 0.0055453273 & 0.0052446171 & 0.066039449\\\\\n",
       "\thas\\_superstructure\\_cement\\_mortar\\_stone & 0.0236562120 & 0.0091216544 & 0.0059663209 & 0.0245200465 & 0.042465488 & 0.081037016 & 0.0047263498 & 0.014554222 & 0.104288051 & 0.0373065551 & ... & 1.645818e-03 & 0.0059240573 & 0.0124019729 & 0.0060572871 & 0.0206153590 & 0.0090669418 & 0.0064497131 & 0.0011862936 & 0.0059202717 & 0.060295341\\\\\n",
       "\thas\\_superstructure\\_mud\\_mortar\\_brick & 0.0288536798 & 0.0142456373 & 0.0232784539 & 0.0378151694 & 0.253801895 & 0.058096539 & 0.1854167534 & 0.314978535 & 0.376207673 & 0.0333478822 & ... & 7.438358e-04 & 0.0044172738 & 0.0063616090 & 0.0018477399 & 0.0411194876 & 0.0192243941 & 0.0279493081 & 0.0008458464 & 0.0082379825 & 0.014560545\\\\\n",
       "\thas\\_superstructure\\_cement\\_mortar\\_brick & 0.1341214091 & 0.0798752255 & 0.0051157067 & 0.2241536451 & 0.131947607 & 0.216587034 & 0.0511923480 & 0.037549214 & 0.470714995 & 0.0437291003 & ... & 1.684057e-04 & 0.0153336341 & 0.0297105777 & 0.0159603732 & 0.0941205132 & 0.0763312015 & 0.0048754627 & 0.0524805434 & 0.0142076625 & 0.254130981\\\\\n",
       "\thas\\_superstructure\\_timber & 0.1449853465 & 0.0239268842 & 0.0039160333 & 0.0120105114 & 0.033019187 & 0.053895369 & 0.0408384897 & 0.011694108 & 0.040176970 & 0.1253114011 & ... & 9.555188e-04 & 0.0055109886 & 0.0159851421 & 0.0117926774 & 0.0159260519 & 0.1028862778 & 0.0112037670 & 0.0722370348 & 0.0197857086 & 0.069852437\\\\\n",
       "\thas\\_superstructure\\_bamboo & 0.0741688450 & 0.0325884947 & 0.0061433015 & 0.0270957766 & 0.048603598 & 0.031672644 & 0.0619282317 & 0.011528412 & 0.054657208 & 0.0784657574 & ... & 1.402042e-03 & 0.0047267301 & 0.0055427323 & 0.0134461279 & 0.0147299644 & 0.0804573227 & 0.0326268255 & 0.0713337358 & 0.0054001313 & 0.063050545\\\\\n",
       "\thas\\_superstructure\\_rc\\_non\\_engineered & 0.0164539039 & 0.0381730459 & 0.0022654499 & 0.0635365829 & 0.086568886 & 0.192775007 & 0.0407732676 & 0.036829901 & 0.222365556 & 0.0084480812 & ... & 2.547067e-03 & 0.0109494589 & 0.0199664158 & 0.0064000972 & 0.0292062366 & 0.0018167436 & 0.0051366892 & 0.0028667915 & 0.0065987574 & 0.158145085\\\\\n",
       "\thas\\_superstructure\\_rc\\_engineered & 0.0157667497 & 0.0360738784 & 0.0124202758 & 0.0387353478 & 0.097514642 & 0.216981132 & 0.0688392909 & 0.036781639 & 0.224509010 & 0.0214057421 & ... & 3.554516e-03 & 0.0030827171 & 0.0251591874 & 0.0038064268 & 0.0141495132 & 0.0094815803 & 0.0009673210 & 0.0122299822 & 0.0086681919 & 0.179013953\\\\\n",
       "\thas\\_superstructure\\_other & 0.0226700945 & 0.0201441988 & 0.0106037925 & 0.0272170890 & 0.007799982 & 0.009807184 & 0.0192893822 & 0.057544679 & 0.041704637 & 0.0657321170 & ... & 1.126334e-03 & 0.0007897752 & 0.0087964510 & 0.0033094102 & 0.0105698798 & 0.0169912024 & 0.0092382652 & 0.0140782206 & 0.0047343282 & 0.030224138\\\\\n",
       "\tcount\\_families & 0.0191152136 & 0.0080228327 & 0.0012865760 & 0.0318886865 & 0.017764601 & 0.003619847 & 0.0136472305 & 0.026730659 & 0.044272536 & 0.0099587432 & ... & 2.391347e-03 & 0.0001554733 & 0.0039988193 & 0.0012820498 & 0.0075953503 & 0.0022352456 & 0.0007697875 & 0.0029578150 & 0.0017805743 & 0.064616912\\\\\n",
       "\thas\\_secondary\\_use & 0.0104279239 & 0.0015187196 & 0.0073754394 & 0.0142395150 & 0.033888636 & 0.118494157 & 0.0558068252 & 0.013300055 & 0.087519913 & 0.0017375487 & ... & 2.534921e-04 & 0.0060198972 & 0.0007345750 & 0.0037742280 & 0.0157219072 & 0.0175398284 & 0.0068525506 & 0.0246767843 & 0.0161172804 & 0.079630274\\\\\n",
       "\thas\\_secondary\\_use\\_agriculture & 0.0197858289 & 0.0175222260 & 0.0159948483 & 0.0318040367 & 0.005818542 & 0.015243586 & 0.0023593822 & 0.003916569 & 0.058261234 & 0.0105627526 & ... & 5.779973e-04 & 0.0020490435 & 0.0142738909 & 0.0026942930 & 0.0078396919 & 0.0061777039 & 0.0046238984 & 0.0022324619 & 0.0095612073 & 0.011308502\\\\\n",
       "\thas\\_secondary\\_use\\_hotel & 0.0019109980 & 0.0084385629 & 0.0020006535 & 0.0096490975 & 0.048370565 & 0.152948218 & 0.0732843761 & 0.012641728 & 0.159531589 & 0.0088678935 & ... & 1.273218e-03 & 0.0109079673 & 0.0123206912 & 0.0078132589 & 0.0234244233 & 0.0382653612 & 0.0086513687 & 0.0406821859 & 0.0151966621 & 0.097942235\\\\\n",
       "\thas\\_secondary\\_use\\_rental & 0.0235229016 & 0.0307040004 & 0.0073559116 & 0.0104524647 & 0.023098795 & 0.108178671 & 0.0454341975 & 0.003935490 & 0.117947790 & 0.0116320767 & ... & 1.091334e-03 & 0.0012343773 & 0.0069973902 & 0.0025831344 & 0.0212920106 & 0.0030792886 & 0.0051003793 & 0.0008457460 & 0.0009828352 & 0.083754329\\\\\n",
       "\thas\\_secondary\\_use\\_institution & 0.0037002251 & 0.0048396224 & 0.0070580679 & 0.0024275323 & 0.014348956 & 0.044636829 & 0.0195849563 & 0.004280959 & 0.036064431 & 0.0009705406 & ... & 3.704543e-04 & 0.0007579530 & 0.0056954034 & 0.0023200162 & 0.0070004387 & 0.0027689294 & 0.0006426970 & 0.0027060306 & 0.0006416695 & 0.028728301\\\\\n",
       "\thas\\_secondary\\_use\\_school & 0.0029774600 & 0.0048563104 & 0.0043734891 & 0.0035790361 & 0.008641556 & 0.035688849 & 0.0098219119 & 0.002369428 & 0.023070199 & 0.0013620276 & ... & 2.293980e-04 & 0.0158979997 & 0.0013090834 & 0.0006926163 & 0.0080553944 & 0.0027923057 & 0.0014321827 & 0.0016201701 & 0.0080855702 & 0.011691813\\\\\n",
       "\thas\\_secondary\\_use\\_industry & 0.0026553967 & 0.0006869478 & 0.0008624315 & 0.0151352777 & 0.006319365 & 0.020411392 & 0.0011982879 & 0.001761967 & 0.025506572 & 0.0042395183 & ... & 3.953503e-04 & 0.0008088905 & 0.0023329686 & 0.0020287387 & 0.0040877741 & 0.0041580482 & 0.0006620693 & 0.0016493132 & 0.0033352237 & 0.011023655\\\\\n",
       "\thas\\_secondary\\_use\\_health\\_post & 0.0023033488 & 0.0007565568 & 0.0026324663 & 0.0012398068 & 0.004895011 & 0.014669482 & 0.0071385362 & 0.003292298 & 0.008762637 & 0.0025857566 & ... & 1.656099e-04 & 0.0003388394 & 0.0056096594 & 0.0005000223 & 0.0007476445 & 0.0018742400 & 0.0010339393 & 0.0002714800 & 0.0013971053 & 0.008542894\\\\\n",
       "\thas\\_secondary\\_use\\_gov\\_office & 0.0010596408 & 0.0001523410 & 0.0009432163 & 0.0034203894 & 0.003929700 & 0.012375970 & 0.0104369422 & 0.002648235 & 0.011904242 & 0.0029590589 & ... & 1.458381e-04 & 0.0002983860 & 0.0003696405 & 0.0004403256 & 0.0014391178 & 0.0004334655 & 0.0009104993 & 0.0006877143 & 0.0012303077 & 0.009378110\\\\\n",
       "\thas\\_secondary\\_use\\_use\\_police & 0.0005233007 & 0.0019263185 & 0.0002685023 & 0.0006421631 & 0.002628350 & 0.005690507 & 0.0044142595 & 0.001492944 & 0.003380324 & 0.0004719170 & ... & 1.134568e-04 & 0.0002321336 & 0.0069798771 & 0.0108751909 & 0.0011195822 & 0.0013810321 & 0.0007083359 & 0.0018435057 & 0.0009571353 & 0.001655948\\\\\n",
       "\thas\\_secondary\\_use\\_other & 0.0179919818 & 0.0130678116 & 0.0024631912 & 0.0032693500 & 0.006020404 & 0.012580560 & 0.0008785923 & 0.010074368 & 0.005628210 & 0.0021265183 & ... & 8.662430e-04 & 0.0004052205 & 0.0033612633 & 0.0011387463 & 0.0015197793 & 0.0026964678 & 0.0018219348 & 0.0055609636 & 0.0156232650 & 0.016334468\\\\\n",
       "\t... & ... & ... & ... & ... & ... & ... & ... & ... & ... & ... &  & ... & ... & ... & ... & ... & ... & ... & ... & ... & ...\\\\\n",
       "\troof\\_typeq & 0.0021463438 & 0.0510354855 & 0.006103992 & 0.1164720306 & 0.0358288885 & 0.038493412 & 0.0681709449 & 0.042599753 & 4.961142e-02 & 0.0018833132 & ... & 0.0037564242 & 0.0063764438 & 0.0205753330 & 9.239599e-03 & 0.0215872284 & 0.0283510640 & 0.0054164500 & 0.0115703673 & 0.0228030005 & 0.0744600951\\\\\n",
       "\troof\\_typex & 0.0482722959 & 0.0671518525 & 0.014634808 & 0.1150829909 & 0.1423538301 & 0.357363280 & 0.0857225595 & 0.052391490 & 4.378977e-01 & 0.0429288368 & ... & 0.0008431005 & 0.0103839009 & 0.0441145682 & 7.210911e-03 & 0.0498526851 & 0.0125188631 & 0.0128375303 & 0.0089199228 & 0.0083952731 & 0.2801058556\\\\\n",
       "\tground\\_floor\\_typef & 0.0754051671 & 0.0993266489 & 0.008915848 & 0.1668531894 & 0.1359806169 & 0.262231614 & 0.0033036412 & 0.061780942 & 3.824136e-01 & 0.0059330086 & ... & 0.0020556799 & 0.0168034837 & 0.0376207523 & 8.317911e-03 & 0.0719646256 & 0.0355418444 & 0.0015268834 & 0.0222087434 & 0.0102371487 & 0.2347546273\\\\\n",
       "\tground\\_floor\\_typem & 0.0098720560 & 0.0037881972 & 0.002068204 & 0.0144562675 & 0.0065661234 & 0.011400423 & 0.0035875642 & 0.005499706 & 3.228695e-02 & 0.0060007160 & ... & 0.0005337071 & 0.0010919697 & 0.0058949631 & 7.777339e-04 & 0.0036182340 & 0.0025727831 & 0.0013096940 & 0.0028387611 & 0.0006743781 & 0.0193445920\\\\\n",
       "\tground\\_floor\\_typev & 0.1105625023 & 0.0782788854 & 0.004324925 & 0.2034282124 & 0.1962454305 & 0.331089660 & 0.0109430290 & 0.078740211 & 4.877559e-01 & 0.0449350502 & ... & 0.0004499698 & 0.0191335917 & 0.0354574599 & 1.166044e-02 & 0.0927915181 & 0.0516170366 & 0.0052512335 & 0.0364845576 & 0.0091943726 & 0.3187201555\\\\\n",
       "\tground\\_floor\\_typex & 0.0094622252 & 0.0554279422 & 0.006870092 & 0.0119917808 & 0.0148126282 & 0.023740994 & 0.0126886841 & 0.002399374 & 1.259126e-02 & 0.0265301967 & ... & 0.0014843775 & 0.0030788006 & 0.0125649934 & 1.086339e-03 & 0.0032970241 & 0.0072764535 & 0.0041130410 & 0.0101136403 & 0.0055102478 & 0.0066060430\\\\\n",
       "\tground\\_floor\\_typez & 0.0010482568 & 0.0064065419 & 0.002622097 & 0.0412618546 & 0.0102299748 & 0.003989473 & 0.0271463115 & 0.016562425 & 6.428087e-02 & 0.1199265769 & ... & 0.0043789057 & 0.0034803011 & 0.0097768119 & 2.835662e-03 & 0.0047137724 & 0.0166874785 & 0.0035735030 & 0.0159899361 & 0.0034932888 & 0.0167279145\\\\\n",
       "\tother\\_floor\\_typej & 0.1129154735 & 0.0408807025 & 0.009160370 & 0.9884655432 & 0.1751836204 & 0.050355683 & 0.6213178363 & 0.067858764 & 2.068890e-01 & 0.0087900355 & ... & 0.0007150884 & 0.0050480887 & 0.0499520019 & 2.957635e-03 & 0.0312265631 & 0.0994679843 & 0.0259984093 & 0.0820963382 & 0.0074323417 & 0.1356679474\\\\\n",
       "\tother\\_floor\\_typeq & 0.1300329891 & 0.0708999095 & 0.000706009 & 0.5539634171 & 0.1799997776 & 0.122585783 & 0.2821575911 & 0.043798933 & 3.259570e-01 & 0.0867449432 & ... & 0.0007263890 & 0.0138229698 & 0.0624677316 & 1.410019e-02 & 0.0562996828 & 0.0873678960 & 0.0175588059 & 0.0708786606 & 0.0049111668 & 0.1667587106\\\\\n",
       "\tother\\_floor\\_types & 0.0203166608 & 0.0505743345 & 0.012337462 & 0.0883686400 & 0.1091177297 & 0.310020720 & 0.2320773441 & 0.050588411 & 3.669953e-01 & 0.0354504531 & ... & 0.0003727722 & 0.0093773327 & 0.0251850151 & 7.046696e-03 & 0.0404028761 & 0.0116178135 & 0.0156159416 & 0.0039634115 & 0.0024588439 & 0.2268202695\\\\\n",
       "\tother\\_floor\\_typex & 0.0475702125 & 0.0236763998 & 0.002811789 & 0.1888093323 & 0.0020272244 & 0.032506599 & 0.1046499616 & 0.037399975 & 1.485529e-02 & 0.1235622343 & ... & 0.0014192456 & 0.0077093576 & 0.0183140483 & 1.139797e-02 & 0.0198569850 & 0.0233986570 & 0.0112032454 & 0.0145549868 & 0.0022140391 & 0.0431879693\\\\\n",
       "\tpositionj & 0.0048508076 & 0.0065801841 & 0.015731777 & 0.0434723865 & 0.1737538727 & 0.066260631 & 0.1788771334 & 0.134657014 & 2.255234e-01 & 0.0020123078 & ... & 0.0027985845 & 0.0027530334 & 0.0083435105 & 1.751252e-04 & 0.0160404082 & 0.0020700152 & 0.0365217582 & 0.0250762038 & 0.0168820677 & 0.0322749139\\\\\n",
       "\tpositiono & 0.0026041035 & 0.0040491708 & 0.019633103 & 0.0281331606 & 0.1705828107 & 0.012853946 & 0.1232001236 & 0.111681217 & 1.430587e-01 & 0.0080763205 & ... & 0.0056000702 & 0.0042508077 & 0.0011268494 & 1.009674e-03 & 0.0129437615 & 0.0051941363 & 0.0134836224 & 0.0020478332 & 0.0064505490 & 0.0047868869\\\\\n",
       "\tpositions & 0.0242870020 & 0.0054186604 & 0.017343940 & 0.0637738088 & 0.1548875579 & 0.042178321 & 0.1821064978 & 0.149164565 & 1.991380e-01 & 0.0162220662 & ... & 0.0011181409 & 0.0027189478 & 0.0276208827 & 3.320864e-04 & 0.0056910522 & 0.0099429963 & 0.0199059889 & 0.0156065294 & 0.0286336583 & 0.0277691815\\\\\n",
       "\tpositiont & 0.0237905061 & 0.0089714301 & 0.005198951 & 0.0388324361 & 0.0279063405 & 0.011427861 & 0.0675315410 & 0.059615927 & 5.398671e-02 & 0.0191118515 & ... & 0.0014955175 & 0.0003469607 & 0.0258457139 & 1.334863e-05 & 0.0063973354 & 0.0110966823 & 0.0026863320 & 0.0032090458 & 0.0238459690 & 0.0516049628\\\\\n",
       "\tplan\\_configurationa & 0.0015658100 & 0.0006134858 & 0.004617418 & 0.0170123264 & 0.0103197163 & 0.007531252 & 0.0081228198 & 0.004490667 & 1.507585e-02 & 0.0024760155 & ... & 0.0003757143 & 0.0007687150 & 0.0046490281 & 1.134386e-03 & 0.0037075178 & 0.0037152944 & 0.0009479204 & 0.0028377959 & 0.0007207468 & 0.0195828068\\\\\n",
       "\tplan\\_configurationc & 0.0045662211 & 0.0068734526 & 0.003044326 & 0.0010313878 & 0.0038511852 & 0.035138217 & 0.0193158304 & 0.004517596 & 2.824248e-02 & 0.0048714490 & ... & 0.0004267367 & 0.0008731074 & 0.0052803715 & 1.288437e-03 & 0.0042110030 & 0.0008507711 & 0.0016866972 & 0.0005468709 & 0.0014433655 & 0.0231808177\\\\\n",
       "\tplan\\_configurationd & 0.0302701687 & 0.0220825548 & 0.001974921 & 0.0582944394 & 0.0179768524 & 0.087125656 & 0.0125572391 & 0.023631342 & 1.107990e-01 & 0.0030521472 & ... & 0.0588537847 & 0.1204153971 & 0.7282472142 & 1.776959e-01 & 0.5807642856 & 0.0207630719 & 0.0022061343 & 0.0163611436 & 0.0006104055 & 0.0428035949\\\\\n",
       "\tplan\\_configurationf & 0.0016736309 & 0.0005903484 & 0.001071672 & 0.0027845767 & 0.0018512019 & 0.002438753 & 0.0043288788 & 0.001542615 & 2.328366e-04 & 0.0017325207 & ... & 0.0001109627 & 0.0002270308 & 0.0013730346 & 3.350273e-04 & 0.0010949709 & 0.0013506735 & 0.0006927648 & 0.0004074527 & 0.0032060468 & 0.0005174582\\\\\n",
       "\tplan\\_configurationm & 0.0040479654 & 0.0079705908 & 0.005089794 & 0.0001104449 & 0.0142071850 & 0.011577521 & 0.0084679249 & 0.005002310 & 1.359745e-02 & 0.0006674208 & ... & 0.0001604592 & 0.0003283010 & 0.0019854962 & 4.844709e-04 & 0.0015833982 & 0.0019531606 & 0.0010017824 & 0.0026072258 & 0.0013536535 & 0.0070631746\\\\\n",
       "\tplan\\_configurationn & 0.0008222888 & 0.0004151702 & 0.003123084 & 0.0007872794 & 0.0023449912 & 0.002579424 & 0.0016651829 & 0.001530135 & 3.467759e-05 & 0.0005316792 & ... & 1.0000000000 & 0.0002983860 & 0.0018045765 & 4.403256e-04 & 0.0014391178 & 0.0026421182 & 0.0033285587 & 0.0026761642 & 0.0012303077 & 0.0015865435\\\\\n",
       "\tplan\\_configurationo & 0.0081792905 & 0.0057857317 & 0.002803508 & 0.0048608371 & 0.0003816959 & 0.026017531 & 0.0033387299 & 0.002785366 & 2.085151e-02 & 0.0055826154 & ... & 0.0002983860 & 1.0000000000 & 0.0036921804 & 9.009103e-04 & 0.0029444486 & 0.0071678950 & 0.0002099387 & 0.0050209506 & 0.0009760461 & 0.0139406698\\\\\n",
       "\tplan\\_configurationq & 0.0093826688 & 0.0043257875 & 0.001895000 & 0.0497166509 & 0.0148621917 & 0.016629018 & 0.0219589151 & 0.017312026 & 5.091119e-02 & 0.0117625293 & ... & 0.0018045765 & 0.0036921804 & 1.0000000000 & 5.448518e-03 & 0.0178074114 & 0.0117878918 & 0.0035623907 & 0.0074979117 & 0.0001225145 & 0.0080994024\\\\\n",
       "\tplan\\_configurations & 0.0085588975 & 0.0059284248 & 0.003398537 & 0.0027085921 & 0.0052148631 & 0.020181299 & 0.0003233412 & 0.005312526 & 1.747598e-02 & 0.0035426230 & ... & 0.0004403256 & 0.0009009103 & 0.0054485177 & 1.000000e+00 & 0.0043450966 & 0.0026964251 & 0.0056849029 & 0.0039998774 & 0.0005792644 & 0.0112720294\\\\\n",
       "\tplan\\_configurationu & 0.0330521678 & 0.0255317097 & 0.003239895 & 0.0301012707 & 0.0128945102 & 0.099282938 & 0.0005518607 & 0.019019684 & 9.855643e-02 & 0.0095558954 & ... & 0.0014391178 & 0.0029444486 & 0.0178074114 & 4.345097e-03 & 1.0000000000 & 0.0185703486 & 0.0053906216 & 0.0163697723 & 0.0001671192 & 0.0623173754\\\\\n",
       "\tlegal\\_ownership\\_statusa & 0.1003929898 & 0.0258932511 & 0.034199080 & 0.0972693393 & 0.0850105671 & 0.031313010 & 0.0889136194 & 0.030175906 & 1.387460e-01 & 0.0083835268 & ... & 0.0026421182 & 0.0071678950 & 0.0117878918 & 2.696425e-03 & 0.0185703486 & 1.0000000000 & 0.0110828879 & 0.7491336471 & 0.0149756971 & 0.0827047153\\\\\n",
       "\tlegal\\_ownership\\_statusr & 0.0078735782 & 0.0270114837 & 0.001309415 & 0.0250799492 & 0.0001595599 & 0.018655673 & 0.0124799573 & 0.025108075 & 4.787159e-02 & 0.0049394746 & ... & 0.0033285587 & 0.0002099387 & 0.0035623907 & 5.684903e-03 & 0.0053906216 & 0.0110828879 & 1.0000000000 & 0.3842330930 & 0.0076810839 & 0.0025914085\\\\\n",
       "\tlegal\\_ownership\\_statusv & 0.0820548764 & 0.0231892461 & 0.018533114 & 0.0797932308 & 0.0569515747 & 0.032560763 & 0.0715128724 & 0.004680866 & 1.266407e-01 & 0.0055453273 & ... & 0.0026761642 & 0.0050209506 & 0.0074979117 & 3.999877e-03 & 0.0163697723 & 0.7491336471 & 0.3842330930 & 1.0000000000 & 0.5191930530 & 0.0482375901\\\\\n",
       "\tlegal\\_ownership\\_statusw & 0.0046460055 & 0.0135791615 & 0.013099951 & 0.0079277459 & 0.0144714096 & 0.002460712 & 0.0021523050 & 0.033164978 & 3.726119e-03 & 0.0052446171 & ... & 0.0012303077 & 0.0009760461 & 0.0001225145 & 5.792644e-04 & 0.0001671192 & 0.0149756971 & 0.0076810839 & 0.5191930530 & 1.0000000000 & 0.0295554686\\\\\n",
       "\tdamage\\_grade & 0.0723466335 & 0.0431607570 & 0.007931779 & 0.1373813778 & 0.1533396092 & 0.128231354 & 0.0853046882 & 0.055313602 & 2.913252e-01 & 0.0660394488 & ... & 0.0015865435 & 0.0139406698 & 0.0080994024 & 1.127203e-02 & 0.0623173754 & 0.0827047153 & 0.0025914085 & 0.0482375901 & 0.0295554686 & 1.0000000000\\\\\n",
       "\\end{tabular}\n"
      ],
      "text/markdown": [
       "\n",
       "A matrix: 69 x 69 of type dbl\n",
       "\n",
       "| <!--/--> | geo_level_1_id | geo_level_2_id | geo_level_3_id | count_floors_pre_eq | age | area_percentage | height_percentage | has_superstructure_adobe_mud | has_superstructure_mud_mortar_stone | has_superstructure_stone_flag | ... | plan_configurationn | plan_configurationo | plan_configurationq | plan_configurations | plan_configurationu | legal_ownership_statusa | legal_ownership_statusr | legal_ownership_statusv | legal_ownership_statusw | damage_grade |\n",
       "|---|---|---|---|---|---|---|---|---|---|---|---|---|---|---|---|---|---|---|---|---|---|\n",
       "| geo_level_1_id | 1.0000000000 | 0.0614048534 | 0.0027184451 | 0.1109811320 | 0.047254857 | 0.066744160 | 0.0749745389 | 0.018245465 | 0.152037764 | 0.0076772072 | ... | 8.222888e-04 | 0.0081792905 | 0.0093826688 | 0.0085588975 | 0.0330521678 | 0.1003929898 | 0.0078735782 | 0.0820548764 | 0.0046460055 | 0.072346634 |\n",
       "| geo_level_2_id | 0.0614048534 | 1.0000000000 | 0.0009210931 | 0.0410805603 | 0.031531869 | 0.039899529 | 0.0385702127 | 0.015832855 | 0.076491325 | 0.0087428232 | ... | 4.151702e-04 | 0.0057857317 | 0.0043257875 | 0.0059284248 | 0.0255317097 | 0.0258932511 | 0.0270114837 | 0.0231892461 | 0.0135791615 | 0.043160757 |\n",
       "| geo_level_3_id | 0.0027184451 | 0.0009210931 | 1.0000000000 | 0.0084718933 | 0.006303267 | 0.004083808 | 0.0185617772 | 0.015732164 | 0.026294351 | 0.0195789298 | ... | 3.123084e-03 | 0.0028035078 | 0.0018949999 | 0.0033985366 | 0.0032398945 | 0.0341990799 | 0.0013094153 | 0.0185331138 | 0.0130999509 | 0.007931779 |\n",
       "| count_floors_pre_eq | 0.1109811320 | 0.0410805603 | 0.0084718933 | 1.0000000000 | 0.173843296 | 0.050425836 | 0.6277704778 | 0.068826552 | 0.204379130 | 0.0085311469 | ... | 7.872794e-04 | 0.0048608371 | 0.0497166509 | 0.0027085921 | 0.0301012707 | 0.0972693393 | 0.0250799492 | 0.0797932308 | 0.0079277459 | 0.137381378 |\n",
       "| age | 0.0472548568 | 0.0315318687 | 0.0063032673 | 0.1738432963 | 1.000000000 | 0.028199789 | 0.2078606518 | 0.205273547 | 0.035490258 | 0.0107234241 | ... | 2.344991e-03 | 0.0003816959 | 0.0148621917 | 0.0052148631 | 0.0128945102 | 0.0850105671 | 0.0001595599 | 0.0569515747 | 0.0144714096 | 0.153339609 |\n",
       "| area_percentage | 0.0667441604 | 0.0398995295 | 0.0040838083 | 0.0504258362 | 0.028199789 | 1.000000000 | 0.1953243490 | 0.033860475 | 0.227149949 | 0.0011090877 | ... | 2.579424e-03 | 0.0260175307 | 0.0166290177 | 0.0201812988 | 0.0992829378 | 0.0313130099 | 0.0186556730 | 0.0325607629 | 0.0024607117 | 0.128231354 |\n",
       "| height_percentage | 0.0749745389 | 0.0385702127 | 0.0185617772 | 0.6277704778 | 0.207860652 | 0.195324349 | 1.0000000000 | 0.157218496 | 0.035731909 | 0.0183844591 | ... | 1.665183e-03 | 0.0033387299 | 0.0219589151 | 0.0003233412 | 0.0005518607 | 0.0889136194 | 0.0124799573 | 0.0715128724 | 0.0021523050 | 0.085304688 |\n",
       "| has_superstructure_adobe_mud | 0.0182454652 | 0.0158328554 | 0.0157321636 | 0.0688265517 | 0.205273547 | 0.033860475 | 0.1572184959 | 1.000000000 | 0.306861168 | 0.0069617504 | ... | 1.530135e-03 | 0.0027853664 | 0.0173120256 | 0.0053125257 | 0.0190196841 | 0.0301759065 | 0.0251080746 | 0.0046808661 | 0.0331649780 | 0.055313602 |\n",
       "| has_superstructure_mud_mortar_stone | 0.1520377636 | 0.0764913251 | 0.0262943509 | 0.2043791305 | 0.035490258 | 0.227149949 | 0.0357319091 | 0.306861168 | 1.000000000 | 0.0340455999 | ... | 3.467759e-05 | 0.0208515104 | 0.0509111924 | 0.0174759834 | 0.0985564267 | 0.1387459777 | 0.0478715860 | 0.1266407426 | 0.0037261188 | 0.291325239 |\n",
       "| has_superstructure_stone_flag | 0.0076772072 | 0.0087428232 | 0.0195789298 | 0.0085311469 | 0.010723424 | 0.001109088 | 0.0183844591 | 0.006961750 | 0.034045600 | 1.0000000000 | ... | 5.316792e-04 | 0.0055826154 | 0.0117625293 | 0.0035426230 | 0.0095558954 | 0.0083835268 | 0.0049394746 | 0.0055453273 | 0.0052446171 | 0.066039449 |\n",
       "| has_superstructure_cement_mortar_stone | 0.0236562120 | 0.0091216544 | 0.0059663209 | 0.0245200465 | 0.042465488 | 0.081037016 | 0.0047263498 | 0.014554222 | 0.104288051 | 0.0373065551 | ... | 1.645818e-03 | 0.0059240573 | 0.0124019729 | 0.0060572871 | 0.0206153590 | 0.0090669418 | 0.0064497131 | 0.0011862936 | 0.0059202717 | 0.060295341 |\n",
       "| has_superstructure_mud_mortar_brick | 0.0288536798 | 0.0142456373 | 0.0232784539 | 0.0378151694 | 0.253801895 | 0.058096539 | 0.1854167534 | 0.314978535 | 0.376207673 | 0.0333478822 | ... | 7.438358e-04 | 0.0044172738 | 0.0063616090 | 0.0018477399 | 0.0411194876 | 0.0192243941 | 0.0279493081 | 0.0008458464 | 0.0082379825 | 0.014560545 |\n",
       "| has_superstructure_cement_mortar_brick | 0.1341214091 | 0.0798752255 | 0.0051157067 | 0.2241536451 | 0.131947607 | 0.216587034 | 0.0511923480 | 0.037549214 | 0.470714995 | 0.0437291003 | ... | 1.684057e-04 | 0.0153336341 | 0.0297105777 | 0.0159603732 | 0.0941205132 | 0.0763312015 | 0.0048754627 | 0.0524805434 | 0.0142076625 | 0.254130981 |\n",
       "| has_superstructure_timber | 0.1449853465 | 0.0239268842 | 0.0039160333 | 0.0120105114 | 0.033019187 | 0.053895369 | 0.0408384897 | 0.011694108 | 0.040176970 | 0.1253114011 | ... | 9.555188e-04 | 0.0055109886 | 0.0159851421 | 0.0117926774 | 0.0159260519 | 0.1028862778 | 0.0112037670 | 0.0722370348 | 0.0197857086 | 0.069852437 |\n",
       "| has_superstructure_bamboo | 0.0741688450 | 0.0325884947 | 0.0061433015 | 0.0270957766 | 0.048603598 | 0.031672644 | 0.0619282317 | 0.011528412 | 0.054657208 | 0.0784657574 | ... | 1.402042e-03 | 0.0047267301 | 0.0055427323 | 0.0134461279 | 0.0147299644 | 0.0804573227 | 0.0326268255 | 0.0713337358 | 0.0054001313 | 0.063050545 |\n",
       "| has_superstructure_rc_non_engineered | 0.0164539039 | 0.0381730459 | 0.0022654499 | 0.0635365829 | 0.086568886 | 0.192775007 | 0.0407732676 | 0.036829901 | 0.222365556 | 0.0084480812 | ... | 2.547067e-03 | 0.0109494589 | 0.0199664158 | 0.0064000972 | 0.0292062366 | 0.0018167436 | 0.0051366892 | 0.0028667915 | 0.0065987574 | 0.158145085 |\n",
       "| has_superstructure_rc_engineered | 0.0157667497 | 0.0360738784 | 0.0124202758 | 0.0387353478 | 0.097514642 | 0.216981132 | 0.0688392909 | 0.036781639 | 0.224509010 | 0.0214057421 | ... | 3.554516e-03 | 0.0030827171 | 0.0251591874 | 0.0038064268 | 0.0141495132 | 0.0094815803 | 0.0009673210 | 0.0122299822 | 0.0086681919 | 0.179013953 |\n",
       "| has_superstructure_other | 0.0226700945 | 0.0201441988 | 0.0106037925 | 0.0272170890 | 0.007799982 | 0.009807184 | 0.0192893822 | 0.057544679 | 0.041704637 | 0.0657321170 | ... | 1.126334e-03 | 0.0007897752 | 0.0087964510 | 0.0033094102 | 0.0105698798 | 0.0169912024 | 0.0092382652 | 0.0140782206 | 0.0047343282 | 0.030224138 |\n",
       "| count_families | 0.0191152136 | 0.0080228327 | 0.0012865760 | 0.0318886865 | 0.017764601 | 0.003619847 | 0.0136472305 | 0.026730659 | 0.044272536 | 0.0099587432 | ... | 2.391347e-03 | 0.0001554733 | 0.0039988193 | 0.0012820498 | 0.0075953503 | 0.0022352456 | 0.0007697875 | 0.0029578150 | 0.0017805743 | 0.064616912 |\n",
       "| has_secondary_use | 0.0104279239 | 0.0015187196 | 0.0073754394 | 0.0142395150 | 0.033888636 | 0.118494157 | 0.0558068252 | 0.013300055 | 0.087519913 | 0.0017375487 | ... | 2.534921e-04 | 0.0060198972 | 0.0007345750 | 0.0037742280 | 0.0157219072 | 0.0175398284 | 0.0068525506 | 0.0246767843 | 0.0161172804 | 0.079630274 |\n",
       "| has_secondary_use_agriculture | 0.0197858289 | 0.0175222260 | 0.0159948483 | 0.0318040367 | 0.005818542 | 0.015243586 | 0.0023593822 | 0.003916569 | 0.058261234 | 0.0105627526 | ... | 5.779973e-04 | 0.0020490435 | 0.0142738909 | 0.0026942930 | 0.0078396919 | 0.0061777039 | 0.0046238984 | 0.0022324619 | 0.0095612073 | 0.011308502 |\n",
       "| has_secondary_use_hotel | 0.0019109980 | 0.0084385629 | 0.0020006535 | 0.0096490975 | 0.048370565 | 0.152948218 | 0.0732843761 | 0.012641728 | 0.159531589 | 0.0088678935 | ... | 1.273218e-03 | 0.0109079673 | 0.0123206912 | 0.0078132589 | 0.0234244233 | 0.0382653612 | 0.0086513687 | 0.0406821859 | 0.0151966621 | 0.097942235 |\n",
       "| has_secondary_use_rental | 0.0235229016 | 0.0307040004 | 0.0073559116 | 0.0104524647 | 0.023098795 | 0.108178671 | 0.0454341975 | 0.003935490 | 0.117947790 | 0.0116320767 | ... | 1.091334e-03 | 0.0012343773 | 0.0069973902 | 0.0025831344 | 0.0212920106 | 0.0030792886 | 0.0051003793 | 0.0008457460 | 0.0009828352 | 0.083754329 |\n",
       "| has_secondary_use_institution | 0.0037002251 | 0.0048396224 | 0.0070580679 | 0.0024275323 | 0.014348956 | 0.044636829 | 0.0195849563 | 0.004280959 | 0.036064431 | 0.0009705406 | ... | 3.704543e-04 | 0.0007579530 | 0.0056954034 | 0.0023200162 | 0.0070004387 | 0.0027689294 | 0.0006426970 | 0.0027060306 | 0.0006416695 | 0.028728301 |\n",
       "| has_secondary_use_school | 0.0029774600 | 0.0048563104 | 0.0043734891 | 0.0035790361 | 0.008641556 | 0.035688849 | 0.0098219119 | 0.002369428 | 0.023070199 | 0.0013620276 | ... | 2.293980e-04 | 0.0158979997 | 0.0013090834 | 0.0006926163 | 0.0080553944 | 0.0027923057 | 0.0014321827 | 0.0016201701 | 0.0080855702 | 0.011691813 |\n",
       "| has_secondary_use_industry | 0.0026553967 | 0.0006869478 | 0.0008624315 | 0.0151352777 | 0.006319365 | 0.020411392 | 0.0011982879 | 0.001761967 | 0.025506572 | 0.0042395183 | ... | 3.953503e-04 | 0.0008088905 | 0.0023329686 | 0.0020287387 | 0.0040877741 | 0.0041580482 | 0.0006620693 | 0.0016493132 | 0.0033352237 | 0.011023655 |\n",
       "| has_secondary_use_health_post | 0.0023033488 | 0.0007565568 | 0.0026324663 | 0.0012398068 | 0.004895011 | 0.014669482 | 0.0071385362 | 0.003292298 | 0.008762637 | 0.0025857566 | ... | 1.656099e-04 | 0.0003388394 | 0.0056096594 | 0.0005000223 | 0.0007476445 | 0.0018742400 | 0.0010339393 | 0.0002714800 | 0.0013971053 | 0.008542894 |\n",
       "| has_secondary_use_gov_office | 0.0010596408 | 0.0001523410 | 0.0009432163 | 0.0034203894 | 0.003929700 | 0.012375970 | 0.0104369422 | 0.002648235 | 0.011904242 | 0.0029590589 | ... | 1.458381e-04 | 0.0002983860 | 0.0003696405 | 0.0004403256 | 0.0014391178 | 0.0004334655 | 0.0009104993 | 0.0006877143 | 0.0012303077 | 0.009378110 |\n",
       "| has_secondary_use_use_police | 0.0005233007 | 0.0019263185 | 0.0002685023 | 0.0006421631 | 0.002628350 | 0.005690507 | 0.0044142595 | 0.001492944 | 0.003380324 | 0.0004719170 | ... | 1.134568e-04 | 0.0002321336 | 0.0069798771 | 0.0108751909 | 0.0011195822 | 0.0013810321 | 0.0007083359 | 0.0018435057 | 0.0009571353 | 0.001655948 |\n",
       "| has_secondary_use_other | 0.0179919818 | 0.0130678116 | 0.0024631912 | 0.0032693500 | 0.006020404 | 0.012580560 | 0.0008785923 | 0.010074368 | 0.005628210 | 0.0021265183 | ... | 8.662430e-04 | 0.0004052205 | 0.0033612633 | 0.0011387463 | 0.0015197793 | 0.0026964678 | 0.0018219348 | 0.0055609636 | 0.0156232650 | 0.016334468 |\n",
       "| ... | ... | ... | ... | ... | ... | ... | ... | ... | ... | ... | <!----> | ... | ... | ... | ... | ... | ... | ... | ... | ... | ... |\n",
       "| roof_typeq | 0.0021463438 | 0.0510354855 | 0.006103992 | 0.1164720306 | 0.0358288885 | 0.038493412 | 0.0681709449 | 0.042599753 | 4.961142e-02 | 0.0018833132 | ... | 0.0037564242 | 0.0063764438 | 0.0205753330 | 9.239599e-03 | 0.0215872284 | 0.0283510640 | 0.0054164500 | 0.0115703673 | 0.0228030005 | 0.0744600951 |\n",
       "| roof_typex | 0.0482722959 | 0.0671518525 | 0.014634808 | 0.1150829909 | 0.1423538301 | 0.357363280 | 0.0857225595 | 0.052391490 | 4.378977e-01 | 0.0429288368 | ... | 0.0008431005 | 0.0103839009 | 0.0441145682 | 7.210911e-03 | 0.0498526851 | 0.0125188631 | 0.0128375303 | 0.0089199228 | 0.0083952731 | 0.2801058556 |\n",
       "| ground_floor_typef | 0.0754051671 | 0.0993266489 | 0.008915848 | 0.1668531894 | 0.1359806169 | 0.262231614 | 0.0033036412 | 0.061780942 | 3.824136e-01 | 0.0059330086 | ... | 0.0020556799 | 0.0168034837 | 0.0376207523 | 8.317911e-03 | 0.0719646256 | 0.0355418444 | 0.0015268834 | 0.0222087434 | 0.0102371487 | 0.2347546273 |\n",
       "| ground_floor_typem | 0.0098720560 | 0.0037881972 | 0.002068204 | 0.0144562675 | 0.0065661234 | 0.011400423 | 0.0035875642 | 0.005499706 | 3.228695e-02 | 0.0060007160 | ... | 0.0005337071 | 0.0010919697 | 0.0058949631 | 7.777339e-04 | 0.0036182340 | 0.0025727831 | 0.0013096940 | 0.0028387611 | 0.0006743781 | 0.0193445920 |\n",
       "| ground_floor_typev | 0.1105625023 | 0.0782788854 | 0.004324925 | 0.2034282124 | 0.1962454305 | 0.331089660 | 0.0109430290 | 0.078740211 | 4.877559e-01 | 0.0449350502 | ... | 0.0004499698 | 0.0191335917 | 0.0354574599 | 1.166044e-02 | 0.0927915181 | 0.0516170366 | 0.0052512335 | 0.0364845576 | 0.0091943726 | 0.3187201555 |\n",
       "| ground_floor_typex | 0.0094622252 | 0.0554279422 | 0.006870092 | 0.0119917808 | 0.0148126282 | 0.023740994 | 0.0126886841 | 0.002399374 | 1.259126e-02 | 0.0265301967 | ... | 0.0014843775 | 0.0030788006 | 0.0125649934 | 1.086339e-03 | 0.0032970241 | 0.0072764535 | 0.0041130410 | 0.0101136403 | 0.0055102478 | 0.0066060430 |\n",
       "| ground_floor_typez | 0.0010482568 | 0.0064065419 | 0.002622097 | 0.0412618546 | 0.0102299748 | 0.003989473 | 0.0271463115 | 0.016562425 | 6.428087e-02 | 0.1199265769 | ... | 0.0043789057 | 0.0034803011 | 0.0097768119 | 2.835662e-03 | 0.0047137724 | 0.0166874785 | 0.0035735030 | 0.0159899361 | 0.0034932888 | 0.0167279145 |\n",
       "| other_floor_typej | 0.1129154735 | 0.0408807025 | 0.009160370 | 0.9884655432 | 0.1751836204 | 0.050355683 | 0.6213178363 | 0.067858764 | 2.068890e-01 | 0.0087900355 | ... | 0.0007150884 | 0.0050480887 | 0.0499520019 | 2.957635e-03 | 0.0312265631 | 0.0994679843 | 0.0259984093 | 0.0820963382 | 0.0074323417 | 0.1356679474 |\n",
       "| other_floor_typeq | 0.1300329891 | 0.0708999095 | 0.000706009 | 0.5539634171 | 0.1799997776 | 0.122585783 | 0.2821575911 | 0.043798933 | 3.259570e-01 | 0.0867449432 | ... | 0.0007263890 | 0.0138229698 | 0.0624677316 | 1.410019e-02 | 0.0562996828 | 0.0873678960 | 0.0175588059 | 0.0708786606 | 0.0049111668 | 0.1667587106 |\n",
       "| other_floor_types | 0.0203166608 | 0.0505743345 | 0.012337462 | 0.0883686400 | 0.1091177297 | 0.310020720 | 0.2320773441 | 0.050588411 | 3.669953e-01 | 0.0354504531 | ... | 0.0003727722 | 0.0093773327 | 0.0251850151 | 7.046696e-03 | 0.0404028761 | 0.0116178135 | 0.0156159416 | 0.0039634115 | 0.0024588439 | 0.2268202695 |\n",
       "| other_floor_typex | 0.0475702125 | 0.0236763998 | 0.002811789 | 0.1888093323 | 0.0020272244 | 0.032506599 | 0.1046499616 | 0.037399975 | 1.485529e-02 | 0.1235622343 | ... | 0.0014192456 | 0.0077093576 | 0.0183140483 | 1.139797e-02 | 0.0198569850 | 0.0233986570 | 0.0112032454 | 0.0145549868 | 0.0022140391 | 0.0431879693 |\n",
       "| positionj | 0.0048508076 | 0.0065801841 | 0.015731777 | 0.0434723865 | 0.1737538727 | 0.066260631 | 0.1788771334 | 0.134657014 | 2.255234e-01 | 0.0020123078 | ... | 0.0027985845 | 0.0027530334 | 0.0083435105 | 1.751252e-04 | 0.0160404082 | 0.0020700152 | 0.0365217582 | 0.0250762038 | 0.0168820677 | 0.0322749139 |\n",
       "| positiono | 0.0026041035 | 0.0040491708 | 0.019633103 | 0.0281331606 | 0.1705828107 | 0.012853946 | 0.1232001236 | 0.111681217 | 1.430587e-01 | 0.0080763205 | ... | 0.0056000702 | 0.0042508077 | 0.0011268494 | 1.009674e-03 | 0.0129437615 | 0.0051941363 | 0.0134836224 | 0.0020478332 | 0.0064505490 | 0.0047868869 |\n",
       "| positions | 0.0242870020 | 0.0054186604 | 0.017343940 | 0.0637738088 | 0.1548875579 | 0.042178321 | 0.1821064978 | 0.149164565 | 1.991380e-01 | 0.0162220662 | ... | 0.0011181409 | 0.0027189478 | 0.0276208827 | 3.320864e-04 | 0.0056910522 | 0.0099429963 | 0.0199059889 | 0.0156065294 | 0.0286336583 | 0.0277691815 |\n",
       "| positiont | 0.0237905061 | 0.0089714301 | 0.005198951 | 0.0388324361 | 0.0279063405 | 0.011427861 | 0.0675315410 | 0.059615927 | 5.398671e-02 | 0.0191118515 | ... | 0.0014955175 | 0.0003469607 | 0.0258457139 | 1.334863e-05 | 0.0063973354 | 0.0110966823 | 0.0026863320 | 0.0032090458 | 0.0238459690 | 0.0516049628 |\n",
       "| plan_configurationa | 0.0015658100 | 0.0006134858 | 0.004617418 | 0.0170123264 | 0.0103197163 | 0.007531252 | 0.0081228198 | 0.004490667 | 1.507585e-02 | 0.0024760155 | ... | 0.0003757143 | 0.0007687150 | 0.0046490281 | 1.134386e-03 | 0.0037075178 | 0.0037152944 | 0.0009479204 | 0.0028377959 | 0.0007207468 | 0.0195828068 |\n",
       "| plan_configurationc | 0.0045662211 | 0.0068734526 | 0.003044326 | 0.0010313878 | 0.0038511852 | 0.035138217 | 0.0193158304 | 0.004517596 | 2.824248e-02 | 0.0048714490 | ... | 0.0004267367 | 0.0008731074 | 0.0052803715 | 1.288437e-03 | 0.0042110030 | 0.0008507711 | 0.0016866972 | 0.0005468709 | 0.0014433655 | 0.0231808177 |\n",
       "| plan_configurationd | 0.0302701687 | 0.0220825548 | 0.001974921 | 0.0582944394 | 0.0179768524 | 0.087125656 | 0.0125572391 | 0.023631342 | 1.107990e-01 | 0.0030521472 | ... | 0.0588537847 | 0.1204153971 | 0.7282472142 | 1.776959e-01 | 0.5807642856 | 0.0207630719 | 0.0022061343 | 0.0163611436 | 0.0006104055 | 0.0428035949 |\n",
       "| plan_configurationf | 0.0016736309 | 0.0005903484 | 0.001071672 | 0.0027845767 | 0.0018512019 | 0.002438753 | 0.0043288788 | 0.001542615 | 2.328366e-04 | 0.0017325207 | ... | 0.0001109627 | 0.0002270308 | 0.0013730346 | 3.350273e-04 | 0.0010949709 | 0.0013506735 | 0.0006927648 | 0.0004074527 | 0.0032060468 | 0.0005174582 |\n",
       "| plan_configurationm | 0.0040479654 | 0.0079705908 | 0.005089794 | 0.0001104449 | 0.0142071850 | 0.011577521 | 0.0084679249 | 0.005002310 | 1.359745e-02 | 0.0006674208 | ... | 0.0001604592 | 0.0003283010 | 0.0019854962 | 4.844709e-04 | 0.0015833982 | 0.0019531606 | 0.0010017824 | 0.0026072258 | 0.0013536535 | 0.0070631746 |\n",
       "| plan_configurationn | 0.0008222888 | 0.0004151702 | 0.003123084 | 0.0007872794 | 0.0023449912 | 0.002579424 | 0.0016651829 | 0.001530135 | 3.467759e-05 | 0.0005316792 | ... | 1.0000000000 | 0.0002983860 | 0.0018045765 | 4.403256e-04 | 0.0014391178 | 0.0026421182 | 0.0033285587 | 0.0026761642 | 0.0012303077 | 0.0015865435 |\n",
       "| plan_configurationo | 0.0081792905 | 0.0057857317 | 0.002803508 | 0.0048608371 | 0.0003816959 | 0.026017531 | 0.0033387299 | 0.002785366 | 2.085151e-02 | 0.0055826154 | ... | 0.0002983860 | 1.0000000000 | 0.0036921804 | 9.009103e-04 | 0.0029444486 | 0.0071678950 | 0.0002099387 | 0.0050209506 | 0.0009760461 | 0.0139406698 |\n",
       "| plan_configurationq | 0.0093826688 | 0.0043257875 | 0.001895000 | 0.0497166509 | 0.0148621917 | 0.016629018 | 0.0219589151 | 0.017312026 | 5.091119e-02 | 0.0117625293 | ... | 0.0018045765 | 0.0036921804 | 1.0000000000 | 5.448518e-03 | 0.0178074114 | 0.0117878918 | 0.0035623907 | 0.0074979117 | 0.0001225145 | 0.0080994024 |\n",
       "| plan_configurations | 0.0085588975 | 0.0059284248 | 0.003398537 | 0.0027085921 | 0.0052148631 | 0.020181299 | 0.0003233412 | 0.005312526 | 1.747598e-02 | 0.0035426230 | ... | 0.0004403256 | 0.0009009103 | 0.0054485177 | 1.000000e+00 | 0.0043450966 | 0.0026964251 | 0.0056849029 | 0.0039998774 | 0.0005792644 | 0.0112720294 |\n",
       "| plan_configurationu | 0.0330521678 | 0.0255317097 | 0.003239895 | 0.0301012707 | 0.0128945102 | 0.099282938 | 0.0005518607 | 0.019019684 | 9.855643e-02 | 0.0095558954 | ... | 0.0014391178 | 0.0029444486 | 0.0178074114 | 4.345097e-03 | 1.0000000000 | 0.0185703486 | 0.0053906216 | 0.0163697723 | 0.0001671192 | 0.0623173754 |\n",
       "| legal_ownership_statusa | 0.1003929898 | 0.0258932511 | 0.034199080 | 0.0972693393 | 0.0850105671 | 0.031313010 | 0.0889136194 | 0.030175906 | 1.387460e-01 | 0.0083835268 | ... | 0.0026421182 | 0.0071678950 | 0.0117878918 | 2.696425e-03 | 0.0185703486 | 1.0000000000 | 0.0110828879 | 0.7491336471 | 0.0149756971 | 0.0827047153 |\n",
       "| legal_ownership_statusr | 0.0078735782 | 0.0270114837 | 0.001309415 | 0.0250799492 | 0.0001595599 | 0.018655673 | 0.0124799573 | 0.025108075 | 4.787159e-02 | 0.0049394746 | ... | 0.0033285587 | 0.0002099387 | 0.0035623907 | 5.684903e-03 | 0.0053906216 | 0.0110828879 | 1.0000000000 | 0.3842330930 | 0.0076810839 | 0.0025914085 |\n",
       "| legal_ownership_statusv | 0.0820548764 | 0.0231892461 | 0.018533114 | 0.0797932308 | 0.0569515747 | 0.032560763 | 0.0715128724 | 0.004680866 | 1.266407e-01 | 0.0055453273 | ... | 0.0026761642 | 0.0050209506 | 0.0074979117 | 3.999877e-03 | 0.0163697723 | 0.7491336471 | 0.3842330930 | 1.0000000000 | 0.5191930530 | 0.0482375901 |\n",
       "| legal_ownership_statusw | 0.0046460055 | 0.0135791615 | 0.013099951 | 0.0079277459 | 0.0144714096 | 0.002460712 | 0.0021523050 | 0.033164978 | 3.726119e-03 | 0.0052446171 | ... | 0.0012303077 | 0.0009760461 | 0.0001225145 | 5.792644e-04 | 0.0001671192 | 0.0149756971 | 0.0076810839 | 0.5191930530 | 1.0000000000 | 0.0295554686 |\n",
       "| damage_grade | 0.0723466335 | 0.0431607570 | 0.007931779 | 0.1373813778 | 0.1533396092 | 0.128231354 | 0.0853046882 | 0.055313602 | 2.913252e-01 | 0.0660394488 | ... | 0.0015865435 | 0.0139406698 | 0.0080994024 | 1.127203e-02 | 0.0623173754 | 0.0827047153 | 0.0025914085 | 0.0482375901 | 0.0295554686 | 1.0000000000 |\n",
       "\n"
      ],
      "text/plain": [
       "                                       geo_level_1_id geo_level_2_id\n",
       "geo_level_1_id                         1.0000000000   0.0614048534  \n",
       "geo_level_2_id                         0.0614048534   1.0000000000  \n",
       "geo_level_3_id                         0.0027184451   0.0009210931  \n",
       "count_floors_pre_eq                    0.1109811320   0.0410805603  \n",
       "age                                    0.0472548568   0.0315318687  \n",
       "area_percentage                        0.0667441604   0.0398995295  \n",
       "height_percentage                      0.0749745389   0.0385702127  \n",
       "has_superstructure_adobe_mud           0.0182454652   0.0158328554  \n",
       "has_superstructure_mud_mortar_stone    0.1520377636   0.0764913251  \n",
       "has_superstructure_stone_flag          0.0076772072   0.0087428232  \n",
       "has_superstructure_cement_mortar_stone 0.0236562120   0.0091216544  \n",
       "has_superstructure_mud_mortar_brick    0.0288536798   0.0142456373  \n",
       "has_superstructure_cement_mortar_brick 0.1341214091   0.0798752255  \n",
       "has_superstructure_timber              0.1449853465   0.0239268842  \n",
       "has_superstructure_bamboo              0.0741688450   0.0325884947  \n",
       "has_superstructure_rc_non_engineered   0.0164539039   0.0381730459  \n",
       "has_superstructure_rc_engineered       0.0157667497   0.0360738784  \n",
       "has_superstructure_other               0.0226700945   0.0201441988  \n",
       "count_families                         0.0191152136   0.0080228327  \n",
       "has_secondary_use                      0.0104279239   0.0015187196  \n",
       "has_secondary_use_agriculture          0.0197858289   0.0175222260  \n",
       "has_secondary_use_hotel                0.0019109980   0.0084385629  \n",
       "has_secondary_use_rental               0.0235229016   0.0307040004  \n",
       "has_secondary_use_institution          0.0037002251   0.0048396224  \n",
       "has_secondary_use_school               0.0029774600   0.0048563104  \n",
       "has_secondary_use_industry             0.0026553967   0.0006869478  \n",
       "has_secondary_use_health_post          0.0023033488   0.0007565568  \n",
       "has_secondary_use_gov_office           0.0010596408   0.0001523410  \n",
       "has_secondary_use_use_police           0.0005233007   0.0019263185  \n",
       "has_secondary_use_other                0.0179919818   0.0130678116  \n",
       "...                                    ...            ...           \n",
       "roof_typeq                             0.0021463438   0.0510354855  \n",
       "roof_typex                             0.0482722959   0.0671518525  \n",
       "ground_floor_typef                     0.0754051671   0.0993266489  \n",
       "ground_floor_typem                     0.0098720560   0.0037881972  \n",
       "ground_floor_typev                     0.1105625023   0.0782788854  \n",
       "ground_floor_typex                     0.0094622252   0.0554279422  \n",
       "ground_floor_typez                     0.0010482568   0.0064065419  \n",
       "other_floor_typej                      0.1129154735   0.0408807025  \n",
       "other_floor_typeq                      0.1300329891   0.0708999095  \n",
       "other_floor_types                      0.0203166608   0.0505743345  \n",
       "other_floor_typex                      0.0475702125   0.0236763998  \n",
       "positionj                              0.0048508076   0.0065801841  \n",
       "positiono                              0.0026041035   0.0040491708  \n",
       "positions                              0.0242870020   0.0054186604  \n",
       "positiont                              0.0237905061   0.0089714301  \n",
       "plan_configurationa                    0.0015658100   0.0006134858  \n",
       "plan_configurationc                    0.0045662211   0.0068734526  \n",
       "plan_configurationd                    0.0302701687   0.0220825548  \n",
       "plan_configurationf                    0.0016736309   0.0005903484  \n",
       "plan_configurationm                    0.0040479654   0.0079705908  \n",
       "plan_configurationn                    0.0008222888   0.0004151702  \n",
       "plan_configurationo                    0.0081792905   0.0057857317  \n",
       "plan_configurationq                    0.0093826688   0.0043257875  \n",
       "plan_configurations                    0.0085588975   0.0059284248  \n",
       "plan_configurationu                    0.0330521678   0.0255317097  \n",
       "legal_ownership_statusa                0.1003929898   0.0258932511  \n",
       "legal_ownership_statusr                0.0078735782   0.0270114837  \n",
       "legal_ownership_statusv                0.0820548764   0.0231892461  \n",
       "legal_ownership_statusw                0.0046460055   0.0135791615  \n",
       "damage_grade                           0.0723466335   0.0431607570  \n",
       "                                       geo_level_3_id count_floors_pre_eq\n",
       "geo_level_1_id                         0.0027184451   0.1109811320       \n",
       "geo_level_2_id                         0.0009210931   0.0410805603       \n",
       "geo_level_3_id                         1.0000000000   0.0084718933       \n",
       "count_floors_pre_eq                    0.0084718933   1.0000000000       \n",
       "age                                    0.0063032673   0.1738432963       \n",
       "area_percentage                        0.0040838083   0.0504258362       \n",
       "height_percentage                      0.0185617772   0.6277704778       \n",
       "has_superstructure_adobe_mud           0.0157321636   0.0688265517       \n",
       "has_superstructure_mud_mortar_stone    0.0262943509   0.2043791305       \n",
       "has_superstructure_stone_flag          0.0195789298   0.0085311469       \n",
       "has_superstructure_cement_mortar_stone 0.0059663209   0.0245200465       \n",
       "has_superstructure_mud_mortar_brick    0.0232784539   0.0378151694       \n",
       "has_superstructure_cement_mortar_brick 0.0051157067   0.2241536451       \n",
       "has_superstructure_timber              0.0039160333   0.0120105114       \n",
       "has_superstructure_bamboo              0.0061433015   0.0270957766       \n",
       "has_superstructure_rc_non_engineered   0.0022654499   0.0635365829       \n",
       "has_superstructure_rc_engineered       0.0124202758   0.0387353478       \n",
       "has_superstructure_other               0.0106037925   0.0272170890       \n",
       "count_families                         0.0012865760   0.0318886865       \n",
       "has_secondary_use                      0.0073754394   0.0142395150       \n",
       "has_secondary_use_agriculture          0.0159948483   0.0318040367       \n",
       "has_secondary_use_hotel                0.0020006535   0.0096490975       \n",
       "has_secondary_use_rental               0.0073559116   0.0104524647       \n",
       "has_secondary_use_institution          0.0070580679   0.0024275323       \n",
       "has_secondary_use_school               0.0043734891   0.0035790361       \n",
       "has_secondary_use_industry             0.0008624315   0.0151352777       \n",
       "has_secondary_use_health_post          0.0026324663   0.0012398068       \n",
       "has_secondary_use_gov_office           0.0009432163   0.0034203894       \n",
       "has_secondary_use_use_police           0.0002685023   0.0006421631       \n",
       "has_secondary_use_other                0.0024631912   0.0032693500       \n",
       "...                                    ...            ...                \n",
       "roof_typeq                             0.006103992    0.1164720306       \n",
       "roof_typex                             0.014634808    0.1150829909       \n",
       "ground_floor_typef                     0.008915848    0.1668531894       \n",
       "ground_floor_typem                     0.002068204    0.0144562675       \n",
       "ground_floor_typev                     0.004324925    0.2034282124       \n",
       "ground_floor_typex                     0.006870092    0.0119917808       \n",
       "ground_floor_typez                     0.002622097    0.0412618546       \n",
       "other_floor_typej                      0.009160370    0.9884655432       \n",
       "other_floor_typeq                      0.000706009    0.5539634171       \n",
       "other_floor_types                      0.012337462    0.0883686400       \n",
       "other_floor_typex                      0.002811789    0.1888093323       \n",
       "positionj                              0.015731777    0.0434723865       \n",
       "positiono                              0.019633103    0.0281331606       \n",
       "positions                              0.017343940    0.0637738088       \n",
       "positiont                              0.005198951    0.0388324361       \n",
       "plan_configurationa                    0.004617418    0.0170123264       \n",
       "plan_configurationc                    0.003044326    0.0010313878       \n",
       "plan_configurationd                    0.001974921    0.0582944394       \n",
       "plan_configurationf                    0.001071672    0.0027845767       \n",
       "plan_configurationm                    0.005089794    0.0001104449       \n",
       "plan_configurationn                    0.003123084    0.0007872794       \n",
       "plan_configurationo                    0.002803508    0.0048608371       \n",
       "plan_configurationq                    0.001895000    0.0497166509       \n",
       "plan_configurations                    0.003398537    0.0027085921       \n",
       "plan_configurationu                    0.003239895    0.0301012707       \n",
       "legal_ownership_statusa                0.034199080    0.0972693393       \n",
       "legal_ownership_statusr                0.001309415    0.0250799492       \n",
       "legal_ownership_statusv                0.018533114    0.0797932308       \n",
       "legal_ownership_statusw                0.013099951    0.0079277459       \n",
       "damage_grade                           0.007931779    0.1373813778       \n",
       "                                       age          area_percentage\n",
       "geo_level_1_id                         0.047254857  0.066744160    \n",
       "geo_level_2_id                         0.031531869  0.039899529    \n",
       "geo_level_3_id                         0.006303267  0.004083808    \n",
       "count_floors_pre_eq                    0.173843296  0.050425836    \n",
       "age                                    1.000000000  0.028199789    \n",
       "area_percentage                        0.028199789  1.000000000    \n",
       "height_percentage                      0.207860652  0.195324349    \n",
       "has_superstructure_adobe_mud           0.205273547  0.033860475    \n",
       "has_superstructure_mud_mortar_stone    0.035490258  0.227149949    \n",
       "has_superstructure_stone_flag          0.010723424  0.001109088    \n",
       "has_superstructure_cement_mortar_stone 0.042465488  0.081037016    \n",
       "has_superstructure_mud_mortar_brick    0.253801895  0.058096539    \n",
       "has_superstructure_cement_mortar_brick 0.131947607  0.216587034    \n",
       "has_superstructure_timber              0.033019187  0.053895369    \n",
       "has_superstructure_bamboo              0.048603598  0.031672644    \n",
       "has_superstructure_rc_non_engineered   0.086568886  0.192775007    \n",
       "has_superstructure_rc_engineered       0.097514642  0.216981132    \n",
       "has_superstructure_other               0.007799982  0.009807184    \n",
       "count_families                         0.017764601  0.003619847    \n",
       "has_secondary_use                      0.033888636  0.118494157    \n",
       "has_secondary_use_agriculture          0.005818542  0.015243586    \n",
       "has_secondary_use_hotel                0.048370565  0.152948218    \n",
       "has_secondary_use_rental               0.023098795  0.108178671    \n",
       "has_secondary_use_institution          0.014348956  0.044636829    \n",
       "has_secondary_use_school               0.008641556  0.035688849    \n",
       "has_secondary_use_industry             0.006319365  0.020411392    \n",
       "has_secondary_use_health_post          0.004895011  0.014669482    \n",
       "has_secondary_use_gov_office           0.003929700  0.012375970    \n",
       "has_secondary_use_use_police           0.002628350  0.005690507    \n",
       "has_secondary_use_other                0.006020404  0.012580560    \n",
       "...                                    ...          ...            \n",
       "roof_typeq                             0.0358288885 0.038493412    \n",
       "roof_typex                             0.1423538301 0.357363280    \n",
       "ground_floor_typef                     0.1359806169 0.262231614    \n",
       "ground_floor_typem                     0.0065661234 0.011400423    \n",
       "ground_floor_typev                     0.1962454305 0.331089660    \n",
       "ground_floor_typex                     0.0148126282 0.023740994    \n",
       "ground_floor_typez                     0.0102299748 0.003989473    \n",
       "other_floor_typej                      0.1751836204 0.050355683    \n",
       "other_floor_typeq                      0.1799997776 0.122585783    \n",
       "other_floor_types                      0.1091177297 0.310020720    \n",
       "other_floor_typex                      0.0020272244 0.032506599    \n",
       "positionj                              0.1737538727 0.066260631    \n",
       "positiono                              0.1705828107 0.012853946    \n",
       "positions                              0.1548875579 0.042178321    \n",
       "positiont                              0.0279063405 0.011427861    \n",
       "plan_configurationa                    0.0103197163 0.007531252    \n",
       "plan_configurationc                    0.0038511852 0.035138217    \n",
       "plan_configurationd                    0.0179768524 0.087125656    \n",
       "plan_configurationf                    0.0018512019 0.002438753    \n",
       "plan_configurationm                    0.0142071850 0.011577521    \n",
       "plan_configurationn                    0.0023449912 0.002579424    \n",
       "plan_configurationo                    0.0003816959 0.026017531    \n",
       "plan_configurationq                    0.0148621917 0.016629018    \n",
       "plan_configurations                    0.0052148631 0.020181299    \n",
       "plan_configurationu                    0.0128945102 0.099282938    \n",
       "legal_ownership_statusa                0.0850105671 0.031313010    \n",
       "legal_ownership_statusr                0.0001595599 0.018655673    \n",
       "legal_ownership_statusv                0.0569515747 0.032560763    \n",
       "legal_ownership_statusw                0.0144714096 0.002460712    \n",
       "damage_grade                           0.1533396092 0.128231354    \n",
       "                                       height_percentage\n",
       "geo_level_1_id                         0.0749745389     \n",
       "geo_level_2_id                         0.0385702127     \n",
       "geo_level_3_id                         0.0185617772     \n",
       "count_floors_pre_eq                    0.6277704778     \n",
       "age                                    0.2078606518     \n",
       "area_percentage                        0.1953243490     \n",
       "height_percentage                      1.0000000000     \n",
       "has_superstructure_adobe_mud           0.1572184959     \n",
       "has_superstructure_mud_mortar_stone    0.0357319091     \n",
       "has_superstructure_stone_flag          0.0183844591     \n",
       "has_superstructure_cement_mortar_stone 0.0047263498     \n",
       "has_superstructure_mud_mortar_brick    0.1854167534     \n",
       "has_superstructure_cement_mortar_brick 0.0511923480     \n",
       "has_superstructure_timber              0.0408384897     \n",
       "has_superstructure_bamboo              0.0619282317     \n",
       "has_superstructure_rc_non_engineered   0.0407732676     \n",
       "has_superstructure_rc_engineered       0.0688392909     \n",
       "has_superstructure_other               0.0192893822     \n",
       "count_families                         0.0136472305     \n",
       "has_secondary_use                      0.0558068252     \n",
       "has_secondary_use_agriculture          0.0023593822     \n",
       "has_secondary_use_hotel                0.0732843761     \n",
       "has_secondary_use_rental               0.0454341975     \n",
       "has_secondary_use_institution          0.0195849563     \n",
       "has_secondary_use_school               0.0098219119     \n",
       "has_secondary_use_industry             0.0011982879     \n",
       "has_secondary_use_health_post          0.0071385362     \n",
       "has_secondary_use_gov_office           0.0104369422     \n",
       "has_secondary_use_use_police           0.0044142595     \n",
       "has_secondary_use_other                0.0008785923     \n",
       "...                                    ...              \n",
       "roof_typeq                             0.0681709449     \n",
       "roof_typex                             0.0857225595     \n",
       "ground_floor_typef                     0.0033036412     \n",
       "ground_floor_typem                     0.0035875642     \n",
       "ground_floor_typev                     0.0109430290     \n",
       "ground_floor_typex                     0.0126886841     \n",
       "ground_floor_typez                     0.0271463115     \n",
       "other_floor_typej                      0.6213178363     \n",
       "other_floor_typeq                      0.2821575911     \n",
       "other_floor_types                      0.2320773441     \n",
       "other_floor_typex                      0.1046499616     \n",
       "positionj                              0.1788771334     \n",
       "positiono                              0.1232001236     \n",
       "positions                              0.1821064978     \n",
       "positiont                              0.0675315410     \n",
       "plan_configurationa                    0.0081228198     \n",
       "plan_configurationc                    0.0193158304     \n",
       "plan_configurationd                    0.0125572391     \n",
       "plan_configurationf                    0.0043288788     \n",
       "plan_configurationm                    0.0084679249     \n",
       "plan_configurationn                    0.0016651829     \n",
       "plan_configurationo                    0.0033387299     \n",
       "plan_configurationq                    0.0219589151     \n",
       "plan_configurations                    0.0003233412     \n",
       "plan_configurationu                    0.0005518607     \n",
       "legal_ownership_statusa                0.0889136194     \n",
       "legal_ownership_statusr                0.0124799573     \n",
       "legal_ownership_statusv                0.0715128724     \n",
       "legal_ownership_statusw                0.0021523050     \n",
       "damage_grade                           0.0853046882     \n",
       "                                       has_superstructure_adobe_mud\n",
       "geo_level_1_id                         0.018245465                 \n",
       "geo_level_2_id                         0.015832855                 \n",
       "geo_level_3_id                         0.015732164                 \n",
       "count_floors_pre_eq                    0.068826552                 \n",
       "age                                    0.205273547                 \n",
       "area_percentage                        0.033860475                 \n",
       "height_percentage                      0.157218496                 \n",
       "has_superstructure_adobe_mud           1.000000000                 \n",
       "has_superstructure_mud_mortar_stone    0.306861168                 \n",
       "has_superstructure_stone_flag          0.006961750                 \n",
       "has_superstructure_cement_mortar_stone 0.014554222                 \n",
       "has_superstructure_mud_mortar_brick    0.314978535                 \n",
       "has_superstructure_cement_mortar_brick 0.037549214                 \n",
       "has_superstructure_timber              0.011694108                 \n",
       "has_superstructure_bamboo              0.011528412                 \n",
       "has_superstructure_rc_non_engineered   0.036829901                 \n",
       "has_superstructure_rc_engineered       0.036781639                 \n",
       "has_superstructure_other               0.057544679                 \n",
       "count_families                         0.026730659                 \n",
       "has_secondary_use                      0.013300055                 \n",
       "has_secondary_use_agriculture          0.003916569                 \n",
       "has_secondary_use_hotel                0.012641728                 \n",
       "has_secondary_use_rental               0.003935490                 \n",
       "has_secondary_use_institution          0.004280959                 \n",
       "has_secondary_use_school               0.002369428                 \n",
       "has_secondary_use_industry             0.001761967                 \n",
       "has_secondary_use_health_post          0.003292298                 \n",
       "has_secondary_use_gov_office           0.002648235                 \n",
       "has_secondary_use_use_police           0.001492944                 \n",
       "has_secondary_use_other                0.010074368                 \n",
       "...                                    ...                         \n",
       "roof_typeq                             0.042599753                 \n",
       "roof_typex                             0.052391490                 \n",
       "ground_floor_typef                     0.061780942                 \n",
       "ground_floor_typem                     0.005499706                 \n",
       "ground_floor_typev                     0.078740211                 \n",
       "ground_floor_typex                     0.002399374                 \n",
       "ground_floor_typez                     0.016562425                 \n",
       "other_floor_typej                      0.067858764                 \n",
       "other_floor_typeq                      0.043798933                 \n",
       "other_floor_types                      0.050588411                 \n",
       "other_floor_typex                      0.037399975                 \n",
       "positionj                              0.134657014                 \n",
       "positiono                              0.111681217                 \n",
       "positions                              0.149164565                 \n",
       "positiont                              0.059615927                 \n",
       "plan_configurationa                    0.004490667                 \n",
       "plan_configurationc                    0.004517596                 \n",
       "plan_configurationd                    0.023631342                 \n",
       "plan_configurationf                    0.001542615                 \n",
       "plan_configurationm                    0.005002310                 \n",
       "plan_configurationn                    0.001530135                 \n",
       "plan_configurationo                    0.002785366                 \n",
       "plan_configurationq                    0.017312026                 \n",
       "plan_configurations                    0.005312526                 \n",
       "plan_configurationu                    0.019019684                 \n",
       "legal_ownership_statusa                0.030175906                 \n",
       "legal_ownership_statusr                0.025108075                 \n",
       "legal_ownership_statusv                0.004680866                 \n",
       "legal_ownership_statusw                0.033164978                 \n",
       "damage_grade                           0.055313602                 \n",
       "                                       has_superstructure_mud_mortar_stone\n",
       "geo_level_1_id                         0.152037764                        \n",
       "geo_level_2_id                         0.076491325                        \n",
       "geo_level_3_id                         0.026294351                        \n",
       "count_floors_pre_eq                    0.204379130                        \n",
       "age                                    0.035490258                        \n",
       "area_percentage                        0.227149949                        \n",
       "height_percentage                      0.035731909                        \n",
       "has_superstructure_adobe_mud           0.306861168                        \n",
       "has_superstructure_mud_mortar_stone    1.000000000                        \n",
       "has_superstructure_stone_flag          0.034045600                        \n",
       "has_superstructure_cement_mortar_stone 0.104288051                        \n",
       "has_superstructure_mud_mortar_brick    0.376207673                        \n",
       "has_superstructure_cement_mortar_brick 0.470714995                        \n",
       "has_superstructure_timber              0.040176970                        \n",
       "has_superstructure_bamboo              0.054657208                        \n",
       "has_superstructure_rc_non_engineered   0.222365556                        \n",
       "has_superstructure_rc_engineered       0.224509010                        \n",
       "has_superstructure_other               0.041704637                        \n",
       "count_families                         0.044272536                        \n",
       "has_secondary_use                      0.087519913                        \n",
       "has_secondary_use_agriculture          0.058261234                        \n",
       "has_secondary_use_hotel                0.159531589                        \n",
       "has_secondary_use_rental               0.117947790                        \n",
       "has_secondary_use_institution          0.036064431                        \n",
       "has_secondary_use_school               0.023070199                        \n",
       "has_secondary_use_industry             0.025506572                        \n",
       "has_secondary_use_health_post          0.008762637                        \n",
       "has_secondary_use_gov_office           0.011904242                        \n",
       "has_secondary_use_use_police           0.003380324                        \n",
       "has_secondary_use_other                0.005628210                        \n",
       "...                                    ...                                \n",
       "roof_typeq                             4.961142e-02                       \n",
       "roof_typex                             4.378977e-01                       \n",
       "ground_floor_typef                     3.824136e-01                       \n",
       "ground_floor_typem                     3.228695e-02                       \n",
       "ground_floor_typev                     4.877559e-01                       \n",
       "ground_floor_typex                     1.259126e-02                       \n",
       "ground_floor_typez                     6.428087e-02                       \n",
       "other_floor_typej                      2.068890e-01                       \n",
       "other_floor_typeq                      3.259570e-01                       \n",
       "other_floor_types                      3.669953e-01                       \n",
       "other_floor_typex                      1.485529e-02                       \n",
       "positionj                              2.255234e-01                       \n",
       "positiono                              1.430587e-01                       \n",
       "positions                              1.991380e-01                       \n",
       "positiont                              5.398671e-02                       \n",
       "plan_configurationa                    1.507585e-02                       \n",
       "plan_configurationc                    2.824248e-02                       \n",
       "plan_configurationd                    1.107990e-01                       \n",
       "plan_configurationf                    2.328366e-04                       \n",
       "plan_configurationm                    1.359745e-02                       \n",
       "plan_configurationn                    3.467759e-05                       \n",
       "plan_configurationo                    2.085151e-02                       \n",
       "plan_configurationq                    5.091119e-02                       \n",
       "plan_configurations                    1.747598e-02                       \n",
       "plan_configurationu                    9.855643e-02                       \n",
       "legal_ownership_statusa                1.387460e-01                       \n",
       "legal_ownership_statusr                4.787159e-02                       \n",
       "legal_ownership_statusv                1.266407e-01                       \n",
       "legal_ownership_statusw                3.726119e-03                       \n",
       "damage_grade                           2.913252e-01                       \n",
       "                                       has_superstructure_stone_flag ...\n",
       "geo_level_1_id                         0.0076772072                  ...\n",
       "geo_level_2_id                         0.0087428232                  ...\n",
       "geo_level_3_id                         0.0195789298                  ...\n",
       "count_floors_pre_eq                    0.0085311469                  ...\n",
       "age                                    0.0107234241                  ...\n",
       "area_percentage                        0.0011090877                  ...\n",
       "height_percentage                      0.0183844591                  ...\n",
       "has_superstructure_adobe_mud           0.0069617504                  ...\n",
       "has_superstructure_mud_mortar_stone    0.0340455999                  ...\n",
       "has_superstructure_stone_flag          1.0000000000                  ...\n",
       "has_superstructure_cement_mortar_stone 0.0373065551                  ...\n",
       "has_superstructure_mud_mortar_brick    0.0333478822                  ...\n",
       "has_superstructure_cement_mortar_brick 0.0437291003                  ...\n",
       "has_superstructure_timber              0.1253114011                  ...\n",
       "has_superstructure_bamboo              0.0784657574                  ...\n",
       "has_superstructure_rc_non_engineered   0.0084480812                  ...\n",
       "has_superstructure_rc_engineered       0.0214057421                  ...\n",
       "has_superstructure_other               0.0657321170                  ...\n",
       "count_families                         0.0099587432                  ...\n",
       "has_secondary_use                      0.0017375487                  ...\n",
       "has_secondary_use_agriculture          0.0105627526                  ...\n",
       "has_secondary_use_hotel                0.0088678935                  ...\n",
       "has_secondary_use_rental               0.0116320767                  ...\n",
       "has_secondary_use_institution          0.0009705406                  ...\n",
       "has_secondary_use_school               0.0013620276                  ...\n",
       "has_secondary_use_industry             0.0042395183                  ...\n",
       "has_secondary_use_health_post          0.0025857566                  ...\n",
       "has_secondary_use_gov_office           0.0029590589                  ...\n",
       "has_secondary_use_use_police           0.0004719170                  ...\n",
       "has_secondary_use_other                0.0021265183                  ...\n",
       "...                                    ...                              \n",
       "roof_typeq                             0.0018833132                  ...\n",
       "roof_typex                             0.0429288368                  ...\n",
       "ground_floor_typef                     0.0059330086                  ...\n",
       "ground_floor_typem                     0.0060007160                  ...\n",
       "ground_floor_typev                     0.0449350502                  ...\n",
       "ground_floor_typex                     0.0265301967                  ...\n",
       "ground_floor_typez                     0.1199265769                  ...\n",
       "other_floor_typej                      0.0087900355                  ...\n",
       "other_floor_typeq                      0.0867449432                  ...\n",
       "other_floor_types                      0.0354504531                  ...\n",
       "other_floor_typex                      0.1235622343                  ...\n",
       "positionj                              0.0020123078                  ...\n",
       "positiono                              0.0080763205                  ...\n",
       "positions                              0.0162220662                  ...\n",
       "positiont                              0.0191118515                  ...\n",
       "plan_configurationa                    0.0024760155                  ...\n",
       "plan_configurationc                    0.0048714490                  ...\n",
       "plan_configurationd                    0.0030521472                  ...\n",
       "plan_configurationf                    0.0017325207                  ...\n",
       "plan_configurationm                    0.0006674208                  ...\n",
       "plan_configurationn                    0.0005316792                  ...\n",
       "plan_configurationo                    0.0055826154                  ...\n",
       "plan_configurationq                    0.0117625293                  ...\n",
       "plan_configurations                    0.0035426230                  ...\n",
       "plan_configurationu                    0.0095558954                  ...\n",
       "legal_ownership_statusa                0.0083835268                  ...\n",
       "legal_ownership_statusr                0.0049394746                  ...\n",
       "legal_ownership_statusv                0.0055453273                  ...\n",
       "legal_ownership_statusw                0.0052446171                  ...\n",
       "damage_grade                           0.0660394488                  ...\n",
       "                                       plan_configurationn plan_configurationo\n",
       "geo_level_1_id                         8.222888e-04        0.0081792905       \n",
       "geo_level_2_id                         4.151702e-04        0.0057857317       \n",
       "geo_level_3_id                         3.123084e-03        0.0028035078       \n",
       "count_floors_pre_eq                    7.872794e-04        0.0048608371       \n",
       "age                                    2.344991e-03        0.0003816959       \n",
       "area_percentage                        2.579424e-03        0.0260175307       \n",
       "height_percentage                      1.665183e-03        0.0033387299       \n",
       "has_superstructure_adobe_mud           1.530135e-03        0.0027853664       \n",
       "has_superstructure_mud_mortar_stone    3.467759e-05        0.0208515104       \n",
       "has_superstructure_stone_flag          5.316792e-04        0.0055826154       \n",
       "has_superstructure_cement_mortar_stone 1.645818e-03        0.0059240573       \n",
       "has_superstructure_mud_mortar_brick    7.438358e-04        0.0044172738       \n",
       "has_superstructure_cement_mortar_brick 1.684057e-04        0.0153336341       \n",
       "has_superstructure_timber              9.555188e-04        0.0055109886       \n",
       "has_superstructure_bamboo              1.402042e-03        0.0047267301       \n",
       "has_superstructure_rc_non_engineered   2.547067e-03        0.0109494589       \n",
       "has_superstructure_rc_engineered       3.554516e-03        0.0030827171       \n",
       "has_superstructure_other               1.126334e-03        0.0007897752       \n",
       "count_families                         2.391347e-03        0.0001554733       \n",
       "has_secondary_use                      2.534921e-04        0.0060198972       \n",
       "has_secondary_use_agriculture          5.779973e-04        0.0020490435       \n",
       "has_secondary_use_hotel                1.273218e-03        0.0109079673       \n",
       "has_secondary_use_rental               1.091334e-03        0.0012343773       \n",
       "has_secondary_use_institution          3.704543e-04        0.0007579530       \n",
       "has_secondary_use_school               2.293980e-04        0.0158979997       \n",
       "has_secondary_use_industry             3.953503e-04        0.0008088905       \n",
       "has_secondary_use_health_post          1.656099e-04        0.0003388394       \n",
       "has_secondary_use_gov_office           1.458381e-04        0.0002983860       \n",
       "has_secondary_use_use_police           1.134568e-04        0.0002321336       \n",
       "has_secondary_use_other                8.662430e-04        0.0004052205       \n",
       "...                                    ...                 ...                \n",
       "roof_typeq                             0.0037564242        0.0063764438       \n",
       "roof_typex                             0.0008431005        0.0103839009       \n",
       "ground_floor_typef                     0.0020556799        0.0168034837       \n",
       "ground_floor_typem                     0.0005337071        0.0010919697       \n",
       "ground_floor_typev                     0.0004499698        0.0191335917       \n",
       "ground_floor_typex                     0.0014843775        0.0030788006       \n",
       "ground_floor_typez                     0.0043789057        0.0034803011       \n",
       "other_floor_typej                      0.0007150884        0.0050480887       \n",
       "other_floor_typeq                      0.0007263890        0.0138229698       \n",
       "other_floor_types                      0.0003727722        0.0093773327       \n",
       "other_floor_typex                      0.0014192456        0.0077093576       \n",
       "positionj                              0.0027985845        0.0027530334       \n",
       "positiono                              0.0056000702        0.0042508077       \n",
       "positions                              0.0011181409        0.0027189478       \n",
       "positiont                              0.0014955175        0.0003469607       \n",
       "plan_configurationa                    0.0003757143        0.0007687150       \n",
       "plan_configurationc                    0.0004267367        0.0008731074       \n",
       "plan_configurationd                    0.0588537847        0.1204153971       \n",
       "plan_configurationf                    0.0001109627        0.0002270308       \n",
       "plan_configurationm                    0.0001604592        0.0003283010       \n",
       "plan_configurationn                    1.0000000000        0.0002983860       \n",
       "plan_configurationo                    0.0002983860        1.0000000000       \n",
       "plan_configurationq                    0.0018045765        0.0036921804       \n",
       "plan_configurations                    0.0004403256        0.0009009103       \n",
       "plan_configurationu                    0.0014391178        0.0029444486       \n",
       "legal_ownership_statusa                0.0026421182        0.0071678950       \n",
       "legal_ownership_statusr                0.0033285587        0.0002099387       \n",
       "legal_ownership_statusv                0.0026761642        0.0050209506       \n",
       "legal_ownership_statusw                0.0012303077        0.0009760461       \n",
       "damage_grade                           0.0015865435        0.0139406698       \n",
       "                                       plan_configurationq plan_configurations\n",
       "geo_level_1_id                         0.0093826688        0.0085588975       \n",
       "geo_level_2_id                         0.0043257875        0.0059284248       \n",
       "geo_level_3_id                         0.0018949999        0.0033985366       \n",
       "count_floors_pre_eq                    0.0497166509        0.0027085921       \n",
       "age                                    0.0148621917        0.0052148631       \n",
       "area_percentage                        0.0166290177        0.0201812988       \n",
       "height_percentage                      0.0219589151        0.0003233412       \n",
       "has_superstructure_adobe_mud           0.0173120256        0.0053125257       \n",
       "has_superstructure_mud_mortar_stone    0.0509111924        0.0174759834       \n",
       "has_superstructure_stone_flag          0.0117625293        0.0035426230       \n",
       "has_superstructure_cement_mortar_stone 0.0124019729        0.0060572871       \n",
       "has_superstructure_mud_mortar_brick    0.0063616090        0.0018477399       \n",
       "has_superstructure_cement_mortar_brick 0.0297105777        0.0159603732       \n",
       "has_superstructure_timber              0.0159851421        0.0117926774       \n",
       "has_superstructure_bamboo              0.0055427323        0.0134461279       \n",
       "has_superstructure_rc_non_engineered   0.0199664158        0.0064000972       \n",
       "has_superstructure_rc_engineered       0.0251591874        0.0038064268       \n",
       "has_superstructure_other               0.0087964510        0.0033094102       \n",
       "count_families                         0.0039988193        0.0012820498       \n",
       "has_secondary_use                      0.0007345750        0.0037742280       \n",
       "has_secondary_use_agriculture          0.0142738909        0.0026942930       \n",
       "has_secondary_use_hotel                0.0123206912        0.0078132589       \n",
       "has_secondary_use_rental               0.0069973902        0.0025831344       \n",
       "has_secondary_use_institution          0.0056954034        0.0023200162       \n",
       "has_secondary_use_school               0.0013090834        0.0006926163       \n",
       "has_secondary_use_industry             0.0023329686        0.0020287387       \n",
       "has_secondary_use_health_post          0.0056096594        0.0005000223       \n",
       "has_secondary_use_gov_office           0.0003696405        0.0004403256       \n",
       "has_secondary_use_use_police           0.0069798771        0.0108751909       \n",
       "has_secondary_use_other                0.0033612633        0.0011387463       \n",
       "...                                    ...                 ...                \n",
       "roof_typeq                             0.0205753330        9.239599e-03       \n",
       "roof_typex                             0.0441145682        7.210911e-03       \n",
       "ground_floor_typef                     0.0376207523        8.317911e-03       \n",
       "ground_floor_typem                     0.0058949631        7.777339e-04       \n",
       "ground_floor_typev                     0.0354574599        1.166044e-02       \n",
       "ground_floor_typex                     0.0125649934        1.086339e-03       \n",
       "ground_floor_typez                     0.0097768119        2.835662e-03       \n",
       "other_floor_typej                      0.0499520019        2.957635e-03       \n",
       "other_floor_typeq                      0.0624677316        1.410019e-02       \n",
       "other_floor_types                      0.0251850151        7.046696e-03       \n",
       "other_floor_typex                      0.0183140483        1.139797e-02       \n",
       "positionj                              0.0083435105        1.751252e-04       \n",
       "positiono                              0.0011268494        1.009674e-03       \n",
       "positions                              0.0276208827        3.320864e-04       \n",
       "positiont                              0.0258457139        1.334863e-05       \n",
       "plan_configurationa                    0.0046490281        1.134386e-03       \n",
       "plan_configurationc                    0.0052803715        1.288437e-03       \n",
       "plan_configurationd                    0.7282472142        1.776959e-01       \n",
       "plan_configurationf                    0.0013730346        3.350273e-04       \n",
       "plan_configurationm                    0.0019854962        4.844709e-04       \n",
       "plan_configurationn                    0.0018045765        4.403256e-04       \n",
       "plan_configurationo                    0.0036921804        9.009103e-04       \n",
       "plan_configurationq                    1.0000000000        5.448518e-03       \n",
       "plan_configurations                    0.0054485177        1.000000e+00       \n",
       "plan_configurationu                    0.0178074114        4.345097e-03       \n",
       "legal_ownership_statusa                0.0117878918        2.696425e-03       \n",
       "legal_ownership_statusr                0.0035623907        5.684903e-03       \n",
       "legal_ownership_statusv                0.0074979117        3.999877e-03       \n",
       "legal_ownership_statusw                0.0001225145        5.792644e-04       \n",
       "damage_grade                           0.0080994024        1.127203e-02       \n",
       "                                       plan_configurationu\n",
       "geo_level_1_id                         0.0330521678       \n",
       "geo_level_2_id                         0.0255317097       \n",
       "geo_level_3_id                         0.0032398945       \n",
       "count_floors_pre_eq                    0.0301012707       \n",
       "age                                    0.0128945102       \n",
       "area_percentage                        0.0992829378       \n",
       "height_percentage                      0.0005518607       \n",
       "has_superstructure_adobe_mud           0.0190196841       \n",
       "has_superstructure_mud_mortar_stone    0.0985564267       \n",
       "has_superstructure_stone_flag          0.0095558954       \n",
       "has_superstructure_cement_mortar_stone 0.0206153590       \n",
       "has_superstructure_mud_mortar_brick    0.0411194876       \n",
       "has_superstructure_cement_mortar_brick 0.0941205132       \n",
       "has_superstructure_timber              0.0159260519       \n",
       "has_superstructure_bamboo              0.0147299644       \n",
       "has_superstructure_rc_non_engineered   0.0292062366       \n",
       "has_superstructure_rc_engineered       0.0141495132       \n",
       "has_superstructure_other               0.0105698798       \n",
       "count_families                         0.0075953503       \n",
       "has_secondary_use                      0.0157219072       \n",
       "has_secondary_use_agriculture          0.0078396919       \n",
       "has_secondary_use_hotel                0.0234244233       \n",
       "has_secondary_use_rental               0.0212920106       \n",
       "has_secondary_use_institution          0.0070004387       \n",
       "has_secondary_use_school               0.0080553944       \n",
       "has_secondary_use_industry             0.0040877741       \n",
       "has_secondary_use_health_post          0.0007476445       \n",
       "has_secondary_use_gov_office           0.0014391178       \n",
       "has_secondary_use_use_police           0.0011195822       \n",
       "has_secondary_use_other                0.0015197793       \n",
       "...                                    ...                \n",
       "roof_typeq                             0.0215872284       \n",
       "roof_typex                             0.0498526851       \n",
       "ground_floor_typef                     0.0719646256       \n",
       "ground_floor_typem                     0.0036182340       \n",
       "ground_floor_typev                     0.0927915181       \n",
       "ground_floor_typex                     0.0032970241       \n",
       "ground_floor_typez                     0.0047137724       \n",
       "other_floor_typej                      0.0312265631       \n",
       "other_floor_typeq                      0.0562996828       \n",
       "other_floor_types                      0.0404028761       \n",
       "other_floor_typex                      0.0198569850       \n",
       "positionj                              0.0160404082       \n",
       "positiono                              0.0129437615       \n",
       "positions                              0.0056910522       \n",
       "positiont                              0.0063973354       \n",
       "plan_configurationa                    0.0037075178       \n",
       "plan_configurationc                    0.0042110030       \n",
       "plan_configurationd                    0.5807642856       \n",
       "plan_configurationf                    0.0010949709       \n",
       "plan_configurationm                    0.0015833982       \n",
       "plan_configurationn                    0.0014391178       \n",
       "plan_configurationo                    0.0029444486       \n",
       "plan_configurationq                    0.0178074114       \n",
       "plan_configurations                    0.0043450966       \n",
       "plan_configurationu                    1.0000000000       \n",
       "legal_ownership_statusa                0.0185703486       \n",
       "legal_ownership_statusr                0.0053906216       \n",
       "legal_ownership_statusv                0.0163697723       \n",
       "legal_ownership_statusw                0.0001671192       \n",
       "damage_grade                           0.0623173754       \n",
       "                                       legal_ownership_statusa\n",
       "geo_level_1_id                         0.1003929898           \n",
       "geo_level_2_id                         0.0258932511           \n",
       "geo_level_3_id                         0.0341990799           \n",
       "count_floors_pre_eq                    0.0972693393           \n",
       "age                                    0.0850105671           \n",
       "area_percentage                        0.0313130099           \n",
       "height_percentage                      0.0889136194           \n",
       "has_superstructure_adobe_mud           0.0301759065           \n",
       "has_superstructure_mud_mortar_stone    0.1387459777           \n",
       "has_superstructure_stone_flag          0.0083835268           \n",
       "has_superstructure_cement_mortar_stone 0.0090669418           \n",
       "has_superstructure_mud_mortar_brick    0.0192243941           \n",
       "has_superstructure_cement_mortar_brick 0.0763312015           \n",
       "has_superstructure_timber              0.1028862778           \n",
       "has_superstructure_bamboo              0.0804573227           \n",
       "has_superstructure_rc_non_engineered   0.0018167436           \n",
       "has_superstructure_rc_engineered       0.0094815803           \n",
       "has_superstructure_other               0.0169912024           \n",
       "count_families                         0.0022352456           \n",
       "has_secondary_use                      0.0175398284           \n",
       "has_secondary_use_agriculture          0.0061777039           \n",
       "has_secondary_use_hotel                0.0382653612           \n",
       "has_secondary_use_rental               0.0030792886           \n",
       "has_secondary_use_institution          0.0027689294           \n",
       "has_secondary_use_school               0.0027923057           \n",
       "has_secondary_use_industry             0.0041580482           \n",
       "has_secondary_use_health_post          0.0018742400           \n",
       "has_secondary_use_gov_office           0.0004334655           \n",
       "has_secondary_use_use_police           0.0013810321           \n",
       "has_secondary_use_other                0.0026964678           \n",
       "...                                    ...                    \n",
       "roof_typeq                             0.0283510640           \n",
       "roof_typex                             0.0125188631           \n",
       "ground_floor_typef                     0.0355418444           \n",
       "ground_floor_typem                     0.0025727831           \n",
       "ground_floor_typev                     0.0516170366           \n",
       "ground_floor_typex                     0.0072764535           \n",
       "ground_floor_typez                     0.0166874785           \n",
       "other_floor_typej                      0.0994679843           \n",
       "other_floor_typeq                      0.0873678960           \n",
       "other_floor_types                      0.0116178135           \n",
       "other_floor_typex                      0.0233986570           \n",
       "positionj                              0.0020700152           \n",
       "positiono                              0.0051941363           \n",
       "positions                              0.0099429963           \n",
       "positiont                              0.0110966823           \n",
       "plan_configurationa                    0.0037152944           \n",
       "plan_configurationc                    0.0008507711           \n",
       "plan_configurationd                    0.0207630719           \n",
       "plan_configurationf                    0.0013506735           \n",
       "plan_configurationm                    0.0019531606           \n",
       "plan_configurationn                    0.0026421182           \n",
       "plan_configurationo                    0.0071678950           \n",
       "plan_configurationq                    0.0117878918           \n",
       "plan_configurations                    0.0026964251           \n",
       "plan_configurationu                    0.0185703486           \n",
       "legal_ownership_statusa                1.0000000000           \n",
       "legal_ownership_statusr                0.0110828879           \n",
       "legal_ownership_statusv                0.7491336471           \n",
       "legal_ownership_statusw                0.0149756971           \n",
       "damage_grade                           0.0827047153           \n",
       "                                       legal_ownership_statusr\n",
       "geo_level_1_id                         0.0078735782           \n",
       "geo_level_2_id                         0.0270114837           \n",
       "geo_level_3_id                         0.0013094153           \n",
       "count_floors_pre_eq                    0.0250799492           \n",
       "age                                    0.0001595599           \n",
       "area_percentage                        0.0186556730           \n",
       "height_percentage                      0.0124799573           \n",
       "has_superstructure_adobe_mud           0.0251080746           \n",
       "has_superstructure_mud_mortar_stone    0.0478715860           \n",
       "has_superstructure_stone_flag          0.0049394746           \n",
       "has_superstructure_cement_mortar_stone 0.0064497131           \n",
       "has_superstructure_mud_mortar_brick    0.0279493081           \n",
       "has_superstructure_cement_mortar_brick 0.0048754627           \n",
       "has_superstructure_timber              0.0112037670           \n",
       "has_superstructure_bamboo              0.0326268255           \n",
       "has_superstructure_rc_non_engineered   0.0051366892           \n",
       "has_superstructure_rc_engineered       0.0009673210           \n",
       "has_superstructure_other               0.0092382652           \n",
       "count_families                         0.0007697875           \n",
       "has_secondary_use                      0.0068525506           \n",
       "has_secondary_use_agriculture          0.0046238984           \n",
       "has_secondary_use_hotel                0.0086513687           \n",
       "has_secondary_use_rental               0.0051003793           \n",
       "has_secondary_use_institution          0.0006426970           \n",
       "has_secondary_use_school               0.0014321827           \n",
       "has_secondary_use_industry             0.0006620693           \n",
       "has_secondary_use_health_post          0.0010339393           \n",
       "has_secondary_use_gov_office           0.0009104993           \n",
       "has_secondary_use_use_police           0.0007083359           \n",
       "has_secondary_use_other                0.0018219348           \n",
       "...                                    ...                    \n",
       "roof_typeq                             0.0054164500           \n",
       "roof_typex                             0.0128375303           \n",
       "ground_floor_typef                     0.0015268834           \n",
       "ground_floor_typem                     0.0013096940           \n",
       "ground_floor_typev                     0.0052512335           \n",
       "ground_floor_typex                     0.0041130410           \n",
       "ground_floor_typez                     0.0035735030           \n",
       "other_floor_typej                      0.0259984093           \n",
       "other_floor_typeq                      0.0175588059           \n",
       "other_floor_types                      0.0156159416           \n",
       "other_floor_typex                      0.0112032454           \n",
       "positionj                              0.0365217582           \n",
       "positiono                              0.0134836224           \n",
       "positions                              0.0199059889           \n",
       "positiont                              0.0026863320           \n",
       "plan_configurationa                    0.0009479204           \n",
       "plan_configurationc                    0.0016866972           \n",
       "plan_configurationd                    0.0022061343           \n",
       "plan_configurationf                    0.0006927648           \n",
       "plan_configurationm                    0.0010017824           \n",
       "plan_configurationn                    0.0033285587           \n",
       "plan_configurationo                    0.0002099387           \n",
       "plan_configurationq                    0.0035623907           \n",
       "plan_configurations                    0.0056849029           \n",
       "plan_configurationu                    0.0053906216           \n",
       "legal_ownership_statusa                0.0110828879           \n",
       "legal_ownership_statusr                1.0000000000           \n",
       "legal_ownership_statusv                0.3842330930           \n",
       "legal_ownership_statusw                0.0076810839           \n",
       "damage_grade                           0.0025914085           \n",
       "                                       legal_ownership_statusv\n",
       "geo_level_1_id                         0.0820548764           \n",
       "geo_level_2_id                         0.0231892461           \n",
       "geo_level_3_id                         0.0185331138           \n",
       "count_floors_pre_eq                    0.0797932308           \n",
       "age                                    0.0569515747           \n",
       "area_percentage                        0.0325607629           \n",
       "height_percentage                      0.0715128724           \n",
       "has_superstructure_adobe_mud           0.0046808661           \n",
       "has_superstructure_mud_mortar_stone    0.1266407426           \n",
       "has_superstructure_stone_flag          0.0055453273           \n",
       "has_superstructure_cement_mortar_stone 0.0011862936           \n",
       "has_superstructure_mud_mortar_brick    0.0008458464           \n",
       "has_superstructure_cement_mortar_brick 0.0524805434           \n",
       "has_superstructure_timber              0.0722370348           \n",
       "has_superstructure_bamboo              0.0713337358           \n",
       "has_superstructure_rc_non_engineered   0.0028667915           \n",
       "has_superstructure_rc_engineered       0.0122299822           \n",
       "has_superstructure_other               0.0140782206           \n",
       "count_families                         0.0029578150           \n",
       "has_secondary_use                      0.0246767843           \n",
       "has_secondary_use_agriculture          0.0022324619           \n",
       "has_secondary_use_hotel                0.0406821859           \n",
       "has_secondary_use_rental               0.0008457460           \n",
       "has_secondary_use_institution          0.0027060306           \n",
       "has_secondary_use_school               0.0016201701           \n",
       "has_secondary_use_industry             0.0016493132           \n",
       "has_secondary_use_health_post          0.0002714800           \n",
       "has_secondary_use_gov_office           0.0006877143           \n",
       "has_secondary_use_use_police           0.0018435057           \n",
       "has_secondary_use_other                0.0055609636           \n",
       "...                                    ...                    \n",
       "roof_typeq                             0.0115703673           \n",
       "roof_typex                             0.0089199228           \n",
       "ground_floor_typef                     0.0222087434           \n",
       "ground_floor_typem                     0.0028387611           \n",
       "ground_floor_typev                     0.0364845576           \n",
       "ground_floor_typex                     0.0101136403           \n",
       "ground_floor_typez                     0.0159899361           \n",
       "other_floor_typej                      0.0820963382           \n",
       "other_floor_typeq                      0.0708786606           \n",
       "other_floor_types                      0.0039634115           \n",
       "other_floor_typex                      0.0145549868           \n",
       "positionj                              0.0250762038           \n",
       "positiono                              0.0020478332           \n",
       "positions                              0.0156065294           \n",
       "positiont                              0.0032090458           \n",
       "plan_configurationa                    0.0028377959           \n",
       "plan_configurationc                    0.0005468709           \n",
       "plan_configurationd                    0.0163611436           \n",
       "plan_configurationf                    0.0004074527           \n",
       "plan_configurationm                    0.0026072258           \n",
       "plan_configurationn                    0.0026761642           \n",
       "plan_configurationo                    0.0050209506           \n",
       "plan_configurationq                    0.0074979117           \n",
       "plan_configurations                    0.0039998774           \n",
       "plan_configurationu                    0.0163697723           \n",
       "legal_ownership_statusa                0.7491336471           \n",
       "legal_ownership_statusr                0.3842330930           \n",
       "legal_ownership_statusv                1.0000000000           \n",
       "legal_ownership_statusw                0.5191930530           \n",
       "damage_grade                           0.0482375901           \n",
       "                                       legal_ownership_statusw damage_grade\n",
       "geo_level_1_id                         0.0046460055            0.072346634 \n",
       "geo_level_2_id                         0.0135791615            0.043160757 \n",
       "geo_level_3_id                         0.0130999509            0.007931779 \n",
       "count_floors_pre_eq                    0.0079277459            0.137381378 \n",
       "age                                    0.0144714096            0.153339609 \n",
       "area_percentage                        0.0024607117            0.128231354 \n",
       "height_percentage                      0.0021523050            0.085304688 \n",
       "has_superstructure_adobe_mud           0.0331649780            0.055313602 \n",
       "has_superstructure_mud_mortar_stone    0.0037261188            0.291325239 \n",
       "has_superstructure_stone_flag          0.0052446171            0.066039449 \n",
       "has_superstructure_cement_mortar_stone 0.0059202717            0.060295341 \n",
       "has_superstructure_mud_mortar_brick    0.0082379825            0.014560545 \n",
       "has_superstructure_cement_mortar_brick 0.0142076625            0.254130981 \n",
       "has_superstructure_timber              0.0197857086            0.069852437 \n",
       "has_superstructure_bamboo              0.0054001313            0.063050545 \n",
       "has_superstructure_rc_non_engineered   0.0065987574            0.158145085 \n",
       "has_superstructure_rc_engineered       0.0086681919            0.179013953 \n",
       "has_superstructure_other               0.0047343282            0.030224138 \n",
       "count_families                         0.0017805743            0.064616912 \n",
       "has_secondary_use                      0.0161172804            0.079630274 \n",
       "has_secondary_use_agriculture          0.0095612073            0.011308502 \n",
       "has_secondary_use_hotel                0.0151966621            0.097942235 \n",
       "has_secondary_use_rental               0.0009828352            0.083754329 \n",
       "has_secondary_use_institution          0.0006416695            0.028728301 \n",
       "has_secondary_use_school               0.0080855702            0.011691813 \n",
       "has_secondary_use_industry             0.0033352237            0.011023655 \n",
       "has_secondary_use_health_post          0.0013971053            0.008542894 \n",
       "has_secondary_use_gov_office           0.0012303077            0.009378110 \n",
       "has_secondary_use_use_police           0.0009571353            0.001655948 \n",
       "has_secondary_use_other                0.0156232650            0.016334468 \n",
       "...                                    ...                     ...         \n",
       "roof_typeq                             0.0228030005            0.0744600951\n",
       "roof_typex                             0.0083952731            0.2801058556\n",
       "ground_floor_typef                     0.0102371487            0.2347546273\n",
       "ground_floor_typem                     0.0006743781            0.0193445920\n",
       "ground_floor_typev                     0.0091943726            0.3187201555\n",
       "ground_floor_typex                     0.0055102478            0.0066060430\n",
       "ground_floor_typez                     0.0034932888            0.0167279145\n",
       "other_floor_typej                      0.0074323417            0.1356679474\n",
       "other_floor_typeq                      0.0049111668            0.1667587106\n",
       "other_floor_types                      0.0024588439            0.2268202695\n",
       "other_floor_typex                      0.0022140391            0.0431879693\n",
       "positionj                              0.0168820677            0.0322749139\n",
       "positiono                              0.0064505490            0.0047868869\n",
       "positions                              0.0286336583            0.0277691815\n",
       "positiont                              0.0238459690            0.0516049628\n",
       "plan_configurationa                    0.0007207468            0.0195828068\n",
       "plan_configurationc                    0.0014433655            0.0231808177\n",
       "plan_configurationd                    0.0006104055            0.0428035949\n",
       "plan_configurationf                    0.0032060468            0.0005174582\n",
       "plan_configurationm                    0.0013536535            0.0070631746\n",
       "plan_configurationn                    0.0012303077            0.0015865435\n",
       "plan_configurationo                    0.0009760461            0.0139406698\n",
       "plan_configurationq                    0.0001225145            0.0080994024\n",
       "plan_configurations                    0.0005792644            0.0112720294\n",
       "plan_configurationu                    0.0001671192            0.0623173754\n",
       "legal_ownership_statusa                0.0149756971            0.0827047153\n",
       "legal_ownership_statusr                0.0076810839            0.0025914085\n",
       "legal_ownership_statusv                0.5191930530            0.0482375901\n",
       "legal_ownership_statusw                1.0000000000            0.0295554686\n",
       "damage_grade                           0.0295554686            1.0000000000"
      ]
     },
     "metadata": {},
     "output_type": "display_data"
    }
   ],
   "source": [
    "numeric_data = c()\n",
    "for (i in 1:ncol(trainCleaned)) {\n",
    "    if (class(trainCleaned[, i]) != \"character\") {\n",
    "        numeric_data <- append(numeric_data, i)\n",
    "    }\n",
    "}\n",
    "cormat <- abs(cor(trainCleaned[, numeric_data]))\n",
    "cormat"
   ]
  },
  {
   "attachments": {},
   "cell_type": "markdown",
   "metadata": {},
   "source": [
    "Graphical view of our correlation matrix "
   ]
  },
  {
   "cell_type": "code",
   "execution_count": null,
   "metadata": {
    "vscode": {
     "languageId": "r"
    }
   },
   "outputs": [],
   "source": [
    "cormat <- abs(cor(trainCleaned))\n",
    "corrplot(cormat, tl.cex = 0.1, method = \"color\")\n"
   ]
  },
  {
   "attachments": {},
   "cell_type": "markdown",
   "metadata": {},
   "source": [
    "The large number of variables makes the matrix and the graph not very readable (even if the graph gives us some points of strong correlation)\n",
    "We will now, from a preprocessing perspective, remove all variables for which the correlation factor is > 0.5 and then we will keep the best feature between the two.\n",
    "For this we calculate the best feature is the feature for which the correlation with our target feature (damage_grade) is the highest.\n",
    "\n",
    "Then we will remove them from our dataset. One of the other reasons is that by leaving all the variables present in our dataset, the too big number will systematically lead to an error because of the too big load of the operation (limit of technique of my computer I think)"
   ]
  },
  {
   "cell_type": "code",
   "execution_count": 21,
   "metadata": {
    "vscode": {
     "languageId": "r"
    }
   },
   "outputs": [
    {
     "data": {
      "text/html": [
       "<style>\n",
       ".list-inline {list-style: none; margin:0; padding: 0}\n",
       ".list-inline>li {display: inline-block}\n",
       ".list-inline>li:not(:last-child)::after {content: \"\\00b7\"; padding: 0 .5ex}\n",
       "</style>\n",
       "<ol class=list-inline><li>7</li><li>47</li><li>21</li><li>31</li><li>35</li><li>49</li><li>40</li><li>41</li><li>42</li><li>45</li><li>53</li><li>62</li><li>67</li></ol>\n"
      ],
      "text/latex": [
       "\\begin{enumerate*}\n",
       "\\item 7\n",
       "\\item 47\n",
       "\\item 21\n",
       "\\item 31\n",
       "\\item 35\n",
       "\\item 49\n",
       "\\item 40\n",
       "\\item 41\n",
       "\\item 42\n",
       "\\item 45\n",
       "\\item 53\n",
       "\\item 62\n",
       "\\item 67\n",
       "\\end{enumerate*}\n"
      ],
      "text/markdown": [
       "1. 7\n",
       "2. 47\n",
       "3. 21\n",
       "4. 31\n",
       "5. 35\n",
       "6. 49\n",
       "7. 40\n",
       "8. 41\n",
       "9. 42\n",
       "10. 45\n",
       "11. 53\n",
       "12. 62\n",
       "13. 67\n",
       "\n",
       "\n"
      ],
      "text/plain": [
       " [1]  7 47 21 31 35 49 40 41 42 45 53 62 67"
      ]
     },
     "metadata": {},
     "output_type": "display_data"
    }
   ],
   "source": [
    "to_delete_DG = c()\n",
    "for (i in 1:(nrow(cormat)-1)) {\n",
    "    for (j in i:(nrow(cormat)-1)) {\n",
    "        if (cormat[i,j] > 0.6 &  i!=j) {\n",
    "            if (abs(cormat[i,69]) < abs(cormat[j,69])) {\n",
    "                to_delete_DG <- c(to_delete_DG, i)\n",
    "            } else {\n",
    "                to_delete_DG <- c(to_delete_DG, j)\n",
    "            }\n",
    "        }\n",
    "    }\n",
    "}\n",
    "to_delete_DG <- to_delete_DG[!duplicated(to_delete_DG)]\n",
    "to_delete_DG\n"
   ]
  },
  {
   "cell_type": "code",
   "execution_count": 23,
   "metadata": {
    "vscode": {
     "languageId": "r"
    }
   },
   "outputs": [
    {
     "data": {
      "text/html": [
       "<table class=\"dataframe\">\n",
       "<caption>A data.frame: 6 x 56</caption>\n",
       "<thead>\n",
       "\t<tr><th></th><th scope=col>geo_level_1_id</th><th scope=col>geo_level_2_id</th><th scope=col>geo_level_3_id</th><th scope=col>count_floors_pre_eq</th><th scope=col>age</th><th scope=col>area_percentage</th><th scope=col>has_superstructure_adobe_mud</th><th scope=col>has_superstructure_mud_mortar_stone</th><th scope=col>has_superstructure_stone_flag</th><th scope=col>has_superstructure_cement_mortar_stone</th><th scope=col>...</th><th scope=col>plan_configurationf</th><th scope=col>plan_configurationm</th><th scope=col>plan_configurationn</th><th scope=col>plan_configurationo</th><th scope=col>plan_configurations</th><th scope=col>plan_configurationu</th><th scope=col>legal_ownership_statusa</th><th scope=col>legal_ownership_statusr</th><th scope=col>legal_ownership_statusw</th><th scope=col>damage_grade</th></tr>\n",
       "\t<tr><th></th><th scope=col>&lt;dbl&gt;</th><th scope=col>&lt;dbl&gt;</th><th scope=col>&lt;dbl&gt;</th><th scope=col>&lt;dbl&gt;</th><th scope=col>&lt;dbl&gt;</th><th scope=col>&lt;dbl&gt;</th><th scope=col>&lt;int&gt;</th><th scope=col>&lt;int&gt;</th><th scope=col>&lt;int&gt;</th><th scope=col>&lt;int&gt;</th><th scope=col>...</th><th scope=col>&lt;dbl&gt;</th><th scope=col>&lt;dbl&gt;</th><th scope=col>&lt;dbl&gt;</th><th scope=col>&lt;dbl&gt;</th><th scope=col>&lt;dbl&gt;</th><th scope=col>&lt;dbl&gt;</th><th scope=col>&lt;dbl&gt;</th><th scope=col>&lt;dbl&gt;</th><th scope=col>&lt;dbl&gt;</th><th scope=col>&lt;int&gt;</th></tr>\n",
       "</thead>\n",
       "<tbody>\n",
       "\t<tr><th scope=row>1</th><td>-0.9834118</td><td>-0.5187039</td><td> 1.6290515</td><td>2</td><td>30</td><td>6</td><td>1</td><td>1</td><td>0</td><td>0</td><td>...</td><td>0</td><td>0</td><td>0</td><td>0</td><td>0</td><td>0</td><td>0</td><td>0</td><td>0</td><td>3</td></tr>\n",
       "\t<tr><th scope=row>2</th><td>-0.7344579</td><td> 0.4819970</td><td>-0.9450156</td><td>2</td><td>10</td><td>8</td><td>0</td><td>1</td><td>0</td><td>0</td><td>...</td><td>0</td><td>0</td><td>0</td><td>0</td><td>0</td><td>0</td><td>0</td><td>0</td><td>0</td><td>2</td></tr>\n",
       "\t<tr><th scope=row>3</th><td> 0.8837423</td><td>-0.8191565</td><td> 0.7446102</td><td>2</td><td>10</td><td>5</td><td>0</td><td>1</td><td>0</td><td>0</td><td>...</td><td>0</td><td>0</td><td>0</td><td>0</td><td>0</td><td>0</td><td>0</td><td>0</td><td>0</td><td>3</td></tr>\n",
       "\t<tr><th scope=row>4</th><td> 1.0082192</td><td>-0.6858913</td><td> 1.2165864</td><td>2</td><td>10</td><td>6</td><td>0</td><td>1</td><td>0</td><td>0</td><td>...</td><td>0</td><td>0</td><td>0</td><td>0</td><td>0</td><td>0</td><td>0</td><td>0</td><td>0</td><td>2</td></tr>\n",
       "\t<tr><th scope=row>5</th><td>-0.3610271</td><td>-1.3812936</td><td>-1.3081165</td><td>2</td><td>30</td><td>8</td><td>1</td><td>0</td><td>0</td><td>0</td><td>...</td><td>0</td><td>0</td><td>0</td><td>0</td><td>0</td><td>0</td><td>0</td><td>0</td><td>0</td><td>3</td></tr>\n",
       "\t<tr><th scope=row>6</th><td>-0.7344579</td><td>-0.3466706</td><td>-0.0463135</td><td>2</td><td>10</td><td>9</td><td>0</td><td>1</td><td>0</td><td>0</td><td>...</td><td>0</td><td>0</td><td>0</td><td>0</td><td>0</td><td>0</td><td>0</td><td>0</td><td>0</td><td>2</td></tr>\n",
       "</tbody>\n",
       "</table>\n"
      ],
      "text/latex": [
       "A data.frame: 6 x 56\n",
       "\\begin{tabular}{r|lllllllllllllllllllll}\n",
       "  & geo\\_level\\_1\\_id & geo\\_level\\_2\\_id & geo\\_level\\_3\\_id & count\\_floors\\_pre\\_eq & age & area\\_percentage & has\\_superstructure\\_adobe\\_mud & has\\_superstructure\\_mud\\_mortar\\_stone & has\\_superstructure\\_stone\\_flag & has\\_superstructure\\_cement\\_mortar\\_stone & ... & plan\\_configurationf & plan\\_configurationm & plan\\_configurationn & plan\\_configurationo & plan\\_configurations & plan\\_configurationu & legal\\_ownership\\_statusa & legal\\_ownership\\_statusr & legal\\_ownership\\_statusw & damage\\_grade\\\\\n",
       "  & <dbl> & <dbl> & <dbl> & <dbl> & <dbl> & <dbl> & <int> & <int> & <int> & <int> & ... & <dbl> & <dbl> & <dbl> & <dbl> & <dbl> & <dbl> & <dbl> & <dbl> & <dbl> & <int>\\\\\n",
       "\\hline\n",
       "\t1 & -0.9834118 & -0.5187039 &  1.6290515 & 2 & 30 & 6 & 1 & 1 & 0 & 0 & ... & 0 & 0 & 0 & 0 & 0 & 0 & 0 & 0 & 0 & 3\\\\\n",
       "\t2 & -0.7344579 &  0.4819970 & -0.9450156 & 2 & 10 & 8 & 0 & 1 & 0 & 0 & ... & 0 & 0 & 0 & 0 & 0 & 0 & 0 & 0 & 0 & 2\\\\\n",
       "\t3 &  0.8837423 & -0.8191565 &  0.7446102 & 2 & 10 & 5 & 0 & 1 & 0 & 0 & ... & 0 & 0 & 0 & 0 & 0 & 0 & 0 & 0 & 0 & 3\\\\\n",
       "\t4 &  1.0082192 & -0.6858913 &  1.2165864 & 2 & 10 & 6 & 0 & 1 & 0 & 0 & ... & 0 & 0 & 0 & 0 & 0 & 0 & 0 & 0 & 0 & 2\\\\\n",
       "\t5 & -0.3610271 & -1.3812936 & -1.3081165 & 2 & 30 & 8 & 1 & 0 & 0 & 0 & ... & 0 & 0 & 0 & 0 & 0 & 0 & 0 & 0 & 0 & 3\\\\\n",
       "\t6 & -0.7344579 & -0.3466706 & -0.0463135 & 2 & 10 & 9 & 0 & 1 & 0 & 0 & ... & 0 & 0 & 0 & 0 & 0 & 0 & 0 & 0 & 0 & 2\\\\\n",
       "\\end{tabular}\n"
      ],
      "text/markdown": [
       "\n",
       "A data.frame: 6 x 56\n",
       "\n",
       "| <!--/--> | geo_level_1_id &lt;dbl&gt; | geo_level_2_id &lt;dbl&gt; | geo_level_3_id &lt;dbl&gt; | count_floors_pre_eq &lt;dbl&gt; | age &lt;dbl&gt; | area_percentage &lt;dbl&gt; | has_superstructure_adobe_mud &lt;int&gt; | has_superstructure_mud_mortar_stone &lt;int&gt; | has_superstructure_stone_flag &lt;int&gt; | has_superstructure_cement_mortar_stone &lt;int&gt; | ... ... | plan_configurationf &lt;dbl&gt; | plan_configurationm &lt;dbl&gt; | plan_configurationn &lt;dbl&gt; | plan_configurationo &lt;dbl&gt; | plan_configurations &lt;dbl&gt; | plan_configurationu &lt;dbl&gt; | legal_ownership_statusa &lt;dbl&gt; | legal_ownership_statusr &lt;dbl&gt; | legal_ownership_statusw &lt;dbl&gt; | damage_grade &lt;int&gt; |\n",
       "|---|---|---|---|---|---|---|---|---|---|---|---|---|---|---|---|---|---|---|---|---|---|\n",
       "| 1 | -0.9834118 | -0.5187039 |  1.6290515 | 2 | 30 | 6 | 1 | 1 | 0 | 0 | ... | 0 | 0 | 0 | 0 | 0 | 0 | 0 | 0 | 0 | 3 |\n",
       "| 2 | -0.7344579 |  0.4819970 | -0.9450156 | 2 | 10 | 8 | 0 | 1 | 0 | 0 | ... | 0 | 0 | 0 | 0 | 0 | 0 | 0 | 0 | 0 | 2 |\n",
       "| 3 |  0.8837423 | -0.8191565 |  0.7446102 | 2 | 10 | 5 | 0 | 1 | 0 | 0 | ... | 0 | 0 | 0 | 0 | 0 | 0 | 0 | 0 | 0 | 3 |\n",
       "| 4 |  1.0082192 | -0.6858913 |  1.2165864 | 2 | 10 | 6 | 0 | 1 | 0 | 0 | ... | 0 | 0 | 0 | 0 | 0 | 0 | 0 | 0 | 0 | 2 |\n",
       "| 5 | -0.3610271 | -1.3812936 | -1.3081165 | 2 | 30 | 8 | 1 | 0 | 0 | 0 | ... | 0 | 0 | 0 | 0 | 0 | 0 | 0 | 0 | 0 | 3 |\n",
       "| 6 | -0.7344579 | -0.3466706 | -0.0463135 | 2 | 10 | 9 | 0 | 1 | 0 | 0 | ... | 0 | 0 | 0 | 0 | 0 | 0 | 0 | 0 | 0 | 2 |\n",
       "\n"
      ],
      "text/plain": [
       "  geo_level_1_id geo_level_2_id geo_level_3_id count_floors_pre_eq age\n",
       "1 -0.9834118     -0.5187039      1.6290515     2                   30 \n",
       "2 -0.7344579      0.4819970     -0.9450156     2                   10 \n",
       "3  0.8837423     -0.8191565      0.7446102     2                   10 \n",
       "4  1.0082192     -0.6858913      1.2165864     2                   10 \n",
       "5 -0.3610271     -1.3812936     -1.3081165     2                   30 \n",
       "6 -0.7344579     -0.3466706     -0.0463135     2                   10 \n",
       "  area_percentage has_superstructure_adobe_mud\n",
       "1 6               1                           \n",
       "2 8               0                           \n",
       "3 5               0                           \n",
       "4 6               0                           \n",
       "5 8               1                           \n",
       "6 9               0                           \n",
       "  has_superstructure_mud_mortar_stone has_superstructure_stone_flag\n",
       "1 1                                   0                            \n",
       "2 1                                   0                            \n",
       "3 1                                   0                            \n",
       "4 1                                   0                            \n",
       "5 0                                   0                            \n",
       "6 1                                   0                            \n",
       "  has_superstructure_cement_mortar_stone ... plan_configurationf\n",
       "1 0                                      ... 0                  \n",
       "2 0                                      ... 0                  \n",
       "3 0                                      ... 0                  \n",
       "4 0                                      ... 0                  \n",
       "5 0                                      ... 0                  \n",
       "6 0                                      ... 0                  \n",
       "  plan_configurationm plan_configurationn plan_configurationo\n",
       "1 0                   0                   0                  \n",
       "2 0                   0                   0                  \n",
       "3 0                   0                   0                  \n",
       "4 0                   0                   0                  \n",
       "5 0                   0                   0                  \n",
       "6 0                   0                   0                  \n",
       "  plan_configurations plan_configurationu legal_ownership_statusa\n",
       "1 0                   0                   0                      \n",
       "2 0                   0                   0                      \n",
       "3 0                   0                   0                      \n",
       "4 0                   0                   0                      \n",
       "5 0                   0                   0                      \n",
       "6 0                   0                   0                      \n",
       "  legal_ownership_statusr legal_ownership_statusw damage_grade\n",
       "1 0                       0                       3           \n",
       "2 0                       0                       2           \n",
       "3 0                       0                       3           \n",
       "4 0                       0                       2           \n",
       "5 0                       0                       3           \n",
       "6 0                       0                       2           "
      ]
     },
     "metadata": {},
     "output_type": "display_data"
    }
   ],
   "source": [
    "trainCleanedD <- select(trainCleaned,-c(to_delete_DG))\n",
    "head(trainCleanedD)"
   ]
  },
  {
   "cell_type": "code",
   "execution_count": 24,
   "metadata": {
    "vscode": {
     "languageId": "r"
    }
   },
   "outputs": [
    {
     "data": {
      "text/html": [
       "<table class=\"dataframe\">\n",
       "<caption>A data.frame: 6 x 55</caption>\n",
       "<thead>\n",
       "\t<tr><th></th><th scope=col>geo_level_1_id</th><th scope=col>geo_level_2_id</th><th scope=col>geo_level_3_id</th><th scope=col>count_floors_pre_eq</th><th scope=col>age</th><th scope=col>area_percentage</th><th scope=col>has_superstructure_adobe_mud</th><th scope=col>has_superstructure_mud_mortar_stone</th><th scope=col>has_superstructure_stone_flag</th><th scope=col>has_superstructure_cement_mortar_stone</th><th scope=col>...</th><th scope=col>plan_configurationd</th><th scope=col>plan_configurationf</th><th scope=col>plan_configurationm</th><th scope=col>plan_configurationn</th><th scope=col>plan_configurationo</th><th scope=col>plan_configurations</th><th scope=col>plan_configurationu</th><th scope=col>legal_ownership_statusa</th><th scope=col>legal_ownership_statusr</th><th scope=col>legal_ownership_statusw</th></tr>\n",
       "\t<tr><th></th><th scope=col>&lt;dbl&gt;</th><th scope=col>&lt;dbl&gt;</th><th scope=col>&lt;dbl&gt;</th><th scope=col>&lt;dbl&gt;</th><th scope=col>&lt;dbl&gt;</th><th scope=col>&lt;dbl&gt;</th><th scope=col>&lt;int&gt;</th><th scope=col>&lt;int&gt;</th><th scope=col>&lt;int&gt;</th><th scope=col>&lt;int&gt;</th><th scope=col>...</th><th scope=col>&lt;dbl&gt;</th><th scope=col>&lt;dbl&gt;</th><th scope=col>&lt;dbl&gt;</th><th scope=col>&lt;dbl&gt;</th><th scope=col>&lt;dbl&gt;</th><th scope=col>&lt;dbl&gt;</th><th scope=col>&lt;dbl&gt;</th><th scope=col>&lt;dbl&gt;</th><th scope=col>&lt;dbl&gt;</th><th scope=col>&lt;dbl&gt;</th></tr>\n",
       "</thead>\n",
       "<tbody>\n",
       "\t<tr><th scope=row>1</th><td> 0.3875425</td><td>-0.2615809</td><td> 1.3827458</td><td>2</td><td>20</td><td> 7</td><td>0</td><td>1</td><td>0</td><td>0</td><td>...</td><td>1</td><td>0</td><td>0</td><td>0</td><td>0</td><td>0</td><td>0</td><td>0</td><td>0</td><td>0</td></tr>\n",
       "\t<tr><th scope=row>2</th><td>-0.9823929</td><td>-1.3623056</td><td> 1.5691129</td><td>2</td><td>25</td><td>13</td><td>0</td><td>1</td><td>0</td><td>0</td><td>...</td><td>1</td><td>0</td><td>0</td><td>0</td><td>0</td><td>0</td><td>0</td><td>0</td><td>0</td><td>0</td></tr>\n",
       "\t<tr><th scope=row>3</th><td> 1.0102404</td><td>-1.6574450</td><td> 1.0365963</td><td>2</td><td> 5</td><td> 4</td><td>0</td><td>1</td><td>0</td><td>0</td><td>...</td><td>1</td><td>0</td><td>0</td><td>0</td><td>0</td><td>0</td><td>0</td><td>0</td><td>0</td><td>0</td></tr>\n",
       "\t<tr><th scope=row>4</th><td> 1.5083988</td><td>-1.6090615</td><td>-1.5426699</td><td>1</td><td> 0</td><td>19</td><td>0</td><td>0</td><td>0</td><td>0</td><td>...</td><td>1</td><td>0</td><td>0</td><td>0</td><td>0</td><td>0</td><td>0</td><td>0</td><td>0</td><td>0</td></tr>\n",
       "\t<tr><th scope=row>5</th><td> 0.3875425</td><td>-1.0042677</td><td> 0.4681765</td><td>2</td><td>15</td><td> 8</td><td>0</td><td>1</td><td>0</td><td>0</td><td>...</td><td>1</td><td>0</td><td>0</td><td>0</td><td>0</td><td>0</td><td>0</td><td>0</td><td>0</td><td>0</td></tr>\n",
       "\t<tr><th scope=row>6</th><td> 1.0102404</td><td>-1.2921495</td><td>-0.6119306</td><td>1</td><td>55</td><td> 4</td><td>0</td><td>1</td><td>0</td><td>0</td><td>...</td><td>1</td><td>0</td><td>0</td><td>0</td><td>0</td><td>0</td><td>0</td><td>0</td><td>0</td><td>0</td></tr>\n",
       "</tbody>\n",
       "</table>\n"
      ],
      "text/latex": [
       "A data.frame: 6 x 55\n",
       "\\begin{tabular}{r|lllllllllllllllllllll}\n",
       "  & geo\\_level\\_1\\_id & geo\\_level\\_2\\_id & geo\\_level\\_3\\_id & count\\_floors\\_pre\\_eq & age & area\\_percentage & has\\_superstructure\\_adobe\\_mud & has\\_superstructure\\_mud\\_mortar\\_stone & has\\_superstructure\\_stone\\_flag & has\\_superstructure\\_cement\\_mortar\\_stone & ... & plan\\_configurationd & plan\\_configurationf & plan\\_configurationm & plan\\_configurationn & plan\\_configurationo & plan\\_configurations & plan\\_configurationu & legal\\_ownership\\_statusa & legal\\_ownership\\_statusr & legal\\_ownership\\_statusw\\\\\n",
       "  & <dbl> & <dbl> & <dbl> & <dbl> & <dbl> & <dbl> & <int> & <int> & <int> & <int> & ... & <dbl> & <dbl> & <dbl> & <dbl> & <dbl> & <dbl> & <dbl> & <dbl> & <dbl> & <dbl>\\\\\n",
       "\\hline\n",
       "\t1 &  0.3875425 & -0.2615809 &  1.3827458 & 2 & 20 &  7 & 0 & 1 & 0 & 0 & ... & 1 & 0 & 0 & 0 & 0 & 0 & 0 & 0 & 0 & 0\\\\\n",
       "\t2 & -0.9823929 & -1.3623056 &  1.5691129 & 2 & 25 & 13 & 0 & 1 & 0 & 0 & ... & 1 & 0 & 0 & 0 & 0 & 0 & 0 & 0 & 0 & 0\\\\\n",
       "\t3 &  1.0102404 & -1.6574450 &  1.0365963 & 2 &  5 &  4 & 0 & 1 & 0 & 0 & ... & 1 & 0 & 0 & 0 & 0 & 0 & 0 & 0 & 0 & 0\\\\\n",
       "\t4 &  1.5083988 & -1.6090615 & -1.5426699 & 1 &  0 & 19 & 0 & 0 & 0 & 0 & ... & 1 & 0 & 0 & 0 & 0 & 0 & 0 & 0 & 0 & 0\\\\\n",
       "\t5 &  0.3875425 & -1.0042677 &  0.4681765 & 2 & 15 &  8 & 0 & 1 & 0 & 0 & ... & 1 & 0 & 0 & 0 & 0 & 0 & 0 & 0 & 0 & 0\\\\\n",
       "\t6 &  1.0102404 & -1.2921495 & -0.6119306 & 1 & 55 &  4 & 0 & 1 & 0 & 0 & ... & 1 & 0 & 0 & 0 & 0 & 0 & 0 & 0 & 0 & 0\\\\\n",
       "\\end{tabular}\n"
      ],
      "text/markdown": [
       "\n",
       "A data.frame: 6 x 55\n",
       "\n",
       "| <!--/--> | geo_level_1_id &lt;dbl&gt; | geo_level_2_id &lt;dbl&gt; | geo_level_3_id &lt;dbl&gt; | count_floors_pre_eq &lt;dbl&gt; | age &lt;dbl&gt; | area_percentage &lt;dbl&gt; | has_superstructure_adobe_mud &lt;int&gt; | has_superstructure_mud_mortar_stone &lt;int&gt; | has_superstructure_stone_flag &lt;int&gt; | has_superstructure_cement_mortar_stone &lt;int&gt; | ... ... | plan_configurationd &lt;dbl&gt; | plan_configurationf &lt;dbl&gt; | plan_configurationm &lt;dbl&gt; | plan_configurationn &lt;dbl&gt; | plan_configurationo &lt;dbl&gt; | plan_configurations &lt;dbl&gt; | plan_configurationu &lt;dbl&gt; | legal_ownership_statusa &lt;dbl&gt; | legal_ownership_statusr &lt;dbl&gt; | legal_ownership_statusw &lt;dbl&gt; |\n",
       "|---|---|---|---|---|---|---|---|---|---|---|---|---|---|---|---|---|---|---|---|---|---|\n",
       "| 1 |  0.3875425 | -0.2615809 |  1.3827458 | 2 | 20 |  7 | 0 | 1 | 0 | 0 | ... | 1 | 0 | 0 | 0 | 0 | 0 | 0 | 0 | 0 | 0 |\n",
       "| 2 | -0.9823929 | -1.3623056 |  1.5691129 | 2 | 25 | 13 | 0 | 1 | 0 | 0 | ... | 1 | 0 | 0 | 0 | 0 | 0 | 0 | 0 | 0 | 0 |\n",
       "| 3 |  1.0102404 | -1.6574450 |  1.0365963 | 2 |  5 |  4 | 0 | 1 | 0 | 0 | ... | 1 | 0 | 0 | 0 | 0 | 0 | 0 | 0 | 0 | 0 |\n",
       "| 4 |  1.5083988 | -1.6090615 | -1.5426699 | 1 |  0 | 19 | 0 | 0 | 0 | 0 | ... | 1 | 0 | 0 | 0 | 0 | 0 | 0 | 0 | 0 | 0 |\n",
       "| 5 |  0.3875425 | -1.0042677 |  0.4681765 | 2 | 15 |  8 | 0 | 1 | 0 | 0 | ... | 1 | 0 | 0 | 0 | 0 | 0 | 0 | 0 | 0 | 0 |\n",
       "| 6 |  1.0102404 | -1.2921495 | -0.6119306 | 1 | 55 |  4 | 0 | 1 | 0 | 0 | ... | 1 | 0 | 0 | 0 | 0 | 0 | 0 | 0 | 0 | 0 |\n",
       "\n"
      ],
      "text/plain": [
       "  geo_level_1_id geo_level_2_id geo_level_3_id count_floors_pre_eq age\n",
       "1  0.3875425     -0.2615809      1.3827458     2                   20 \n",
       "2 -0.9823929     -1.3623056      1.5691129     2                   25 \n",
       "3  1.0102404     -1.6574450      1.0365963     2                    5 \n",
       "4  1.5083988     -1.6090615     -1.5426699     1                    0 \n",
       "5  0.3875425     -1.0042677      0.4681765     2                   15 \n",
       "6  1.0102404     -1.2921495     -0.6119306     1                   55 \n",
       "  area_percentage has_superstructure_adobe_mud\n",
       "1  7              0                           \n",
       "2 13              0                           \n",
       "3  4              0                           \n",
       "4 19              0                           \n",
       "5  8              0                           \n",
       "6  4              0                           \n",
       "  has_superstructure_mud_mortar_stone has_superstructure_stone_flag\n",
       "1 1                                   0                            \n",
       "2 1                                   0                            \n",
       "3 1                                   0                            \n",
       "4 0                                   0                            \n",
       "5 1                                   0                            \n",
       "6 1                                   0                            \n",
       "  has_superstructure_cement_mortar_stone ... plan_configurationd\n",
       "1 0                                      ... 1                  \n",
       "2 0                                      ... 1                  \n",
       "3 0                                      ... 1                  \n",
       "4 0                                      ... 1                  \n",
       "5 0                                      ... 1                  \n",
       "6 0                                      ... 1                  \n",
       "  plan_configurationf plan_configurationm plan_configurationn\n",
       "1 0                   0                   0                  \n",
       "2 0                   0                   0                  \n",
       "3 0                   0                   0                  \n",
       "4 0                   0                   0                  \n",
       "5 0                   0                   0                  \n",
       "6 0                   0                   0                  \n",
       "  plan_configurationo plan_configurations plan_configurationu\n",
       "1 0                   0                   0                  \n",
       "2 0                   0                   0                  \n",
       "3 0                   0                   0                  \n",
       "4 0                   0                   0                  \n",
       "5 0                   0                   0                  \n",
       "6 0                   0                   0                  \n",
       "  legal_ownership_statusa legal_ownership_statusr legal_ownership_statusw\n",
       "1 0                       0                       0                      \n",
       "2 0                       0                       0                      \n",
       "3 0                       0                       0                      \n",
       "4 0                       0                       0                      \n",
       "5 0                       0                       0                      \n",
       "6 0                       0                       0                      "
      ]
     },
     "metadata": {},
     "output_type": "display_data"
    }
   ],
   "source": [
    "trainCleanedDT <- select(trainCleanedT,-c(to_delete_DG))\n",
    "head(trainCleanedDT)"
   ]
  },
  {
   "attachments": {},
   "cell_type": "markdown",
   "metadata": {},
   "source": [
    "The previous steps concern feature engineering and data verification, now we will move to the feature selection step.\n",
    "\n",
    "We are going to use methods known as filtering as stated in the tp of the course they are methods of preprocessing. \n",
    "\n",
    "They seek to evaluate the benefits of data features without considering the effects of the selected feature subset on the performance of the learning algorithm. These methods select variables by ordering them using compression techniques such as principal component analysis (PCA) or by computing their correlation or a more advanced similarity measure such as minimum redundancy and maximum relevance (mRMR) to the output.\n",
    "\n",
    "We will use the last two methods to make our feature selection\n",
    "\n",
    "Concerning the script of the \"Correlation with the output\" and \"mRMR\" we use the same as the TP 5 of the courses "
   ]
  },
  {
   "cell_type": "code",
   "execution_count": 27,
   "metadata": {
    "vscode": {
     "languageId": "r"
    }
   },
   "outputs": [],
   "source": [
    "X<-trainCleanedD[,setdiff(colnames(trainCleanedD),\"damage_grade\")]\n",
    "Y<-trainCleanedD[,\"damage_grade\"]\n",
    "N <-nrow(X)\n",
    "n <-ncol(X)"
   ]
  },
  {
   "cell_type": "code",
   "execution_count": 132,
   "metadata": {
    "vscode": {
     "languageId": "r"
    }
   },
   "outputs": [
    {
     "data": {
      "image/png": "[encoded data removed]",
      "text/plain": [
       "Plot with title \"Histogram of Y\""
      ]
     },
     "metadata": {
      "image/png": {
       "height": 420,
       "width": 420
      }
     },
     "output_type": "display_data"
    }
   ],
   "source": [
    "hist(Y)"
   ]
  },
  {
   "attachments": {},
   "cell_type": "markdown",
   "metadata": {},
   "source": [
    "Correlation with the output"
   ]
  },
  {
   "cell_type": "code",
   "execution_count": 243,
   "metadata": {
    "vscode": {
     "languageId": "r"
    }
   },
   "outputs": [
    {
     "name": "stdout",
     "output_type": "stream",
     "text": [
      " [1] \"#Features:  1  ; CV error= 0.3302  ; std dev= 0.0022\" \n",
      " [2] \"#Features:  2  ; CV error= 0.3199  ; std dev= 0.0019\" \n",
      " [3] \"#Features:  3  ; CV error= 0.3174  ; std dev= 0.0019\" \n",
      " [4] \"#Features:  4  ; CV error= 0.3169  ; std dev= 0.0019\" \n",
      " [5] \"#Features:  5  ; CV error= 0.3161  ; std dev= 0.0018\" \n",
      " [6] \"#Features:  6  ; CV error= 0.3146  ; std dev= 0.0019\" \n",
      " [7] \"#Features:  7  ; CV error= 0.3146  ; std dev= 0.0018\" \n",
      " [8] \"#Features:  8  ; CV error= 0.3138  ; std dev= 0.0018\" \n",
      " [9] \"#Features:  9  ; CV error= 0.3122  ; std dev= 0.0018\" \n",
      "[10] \"#Features:  10  ; CV error= 0.3119  ; std dev= 0.0018\"\n",
      "[11] \"#Features:  11  ; CV error= 0.3112  ; std dev= 0.0019\"\n",
      "[12] \"#Features:  12  ; CV error= 0.3112  ; std dev= 0.0019\"\n",
      "[13] \"#Features:  13  ; CV error= 0.3111  ; std dev= 0.0019\"\n",
      "[14] \"#Features:  14  ; CV error= 0.311  ; std dev= 0.0019\" \n",
      "[15] \"#Features:  15  ; CV error= 0.311  ; std dev= 0.0019\" \n",
      "[16] \"#Features:  16  ; CV error= 0.3106  ; std dev= 0.0016\"\n",
      "[17] \"#Features:  17  ; CV error= 0.3102  ; std dev= 0.0017\"\n",
      "[18] \"#Features:  18  ; CV error= 0.3102  ; std dev= 0.0017\"\n",
      "[19] \"#Features:  19  ; CV error= 0.3091  ; std dev= 0.0017\"\n",
      "[20] \"#Features:  20  ; CV error= 0.3079  ; std dev= 0.0015\"\n",
      "[21] \"#Features:  21  ; CV error= 0.3074  ; std dev= 0.0016\"\n",
      "[22] \"#Features:  22  ; CV error= 0.3073  ; std dev= 0.0016\"\n",
      "[23] \"#Features:  23  ; CV error= 0.3071  ; std dev= 0.0017\"\n",
      "[24] \"#Features:  24  ; CV error= 0.3071  ; std dev= 0.0017\"\n",
      "[25] \"#Features:  25  ; CV error= 0.3063  ; std dev= 0.0016\"\n",
      "[26] \"#Features:  26  ; CV error= 0.3051  ; std dev= 0.0017\"\n",
      "[27] \"#Features:  27  ; CV error= 0.305  ; std dev= 0.0016\" \n",
      "[28] \"#Features:  28  ; CV error= 0.305  ; std dev= 0.0016\" \n",
      "[29] \"#Features:  29  ; CV error= 0.3049  ; std dev= 0.0016\"\n",
      "[30] \"#Features:  30  ; CV error= 0.3048  ; std dev= 0.0016\"\n",
      "[31] \"#Features:  31  ; CV error= 0.3047  ; std dev= 0.0016\"\n",
      "[32] \"#Features:  32  ; CV error= 0.3046  ; std dev= 0.0015\"\n",
      "[33] \"#Features:  33  ; CV error= 0.3045  ; std dev= 0.0016\"\n",
      "[34] \"#Features:  34  ; CV error= 0.3044  ; std dev= 0.0016\"\n",
      "[35] \"#Features:  35  ; CV error= 0.3044  ; std dev= 0.0016\"\n",
      "[36] \"#Features:  36  ; CV error= 0.3043  ; std dev= 0.0016\"\n",
      "[37] \"#Features:  37  ; CV error= 0.3043  ; std dev= 0.0015\"\n",
      "[38] \"#Features:  38  ; CV error= 0.3042  ; std dev= 0.0016\"\n",
      "[39] \"#Features:  39  ; CV error= 0.3041  ; std dev= 0.0016\"\n",
      "[40] \"#Features:  40  ; CV error= 0.304  ; std dev= 0.0016\" \n",
      "[41] \"#Features:  41  ; CV error= 0.304  ; std dev= 0.0016\" \n",
      "[42] \"#Features:  42  ; CV error= 0.3038  ; std dev= 0.0016\"\n",
      "[43] \"#Features:  43  ; CV error= 0.3038  ; std dev= 0.0016\"\n",
      "[44] \"#Features:  44  ; CV error= 0.3038  ; std dev= 0.0016\"\n",
      "[45] \"#Features:  45  ; CV error= 0.3038  ; std dev= 0.0016\"\n",
      "[46] \"#Features:  46  ; CV error= 0.3038  ; std dev= 0.0016\"\n",
      "[47] \"#Features:  47  ; CV error= 0.3038  ; std dev= 0.0016\"\n",
      "[48] \"#Features:  48  ; CV error= 0.3038  ; std dev= 0.0016\"\n",
      "[49] \"#Features:  49  ; CV error= 0.3038  ; std dev= 0.0016\"\n",
      "[50] \"#Features:  50  ; CV error= 0.3038  ; std dev= 0.0016\"\n",
      "[51] \"#Features:  51  ; CV error= 0.3038  ; std dev= 0.0016\"\n",
      "[52] \"#Features:  52  ; CV error= 0.3037  ; std dev= 0.0016\"\n",
      "[53] \"#Features:  53  ; CV error= 0.3037  ; std dev= 0.0016\"\n",
      "[54] \"#Features:  54  ; CV error= 0.3037  ; std dev= 0.0016\"\n",
      "[55] \"#Features:  55  ; CV error= 0.3037  ; std dev= 0.0016\"\n"
     ]
    }
   ],
   "source": [
    "CV_folds <- 10\n",
    "\n",
    "size_CV <-floor(N/CV_folds)\n",
    "\n",
    "CV_err<-matrix(0,nrow=n,ncol=CV_folds)\n",
    "\n",
    "for (i in 1:CV_folds) {\n",
    "    \n",
    "    idx_ts<-(((i-1)*size_CV+1):(i*size_CV))  ### idx_ts represents the indices of the test set the i-th fold\n",
    "    X_ts<-X[idx_ts,]  \n",
    "    Y_ts<-Y[idx_ts]  \n",
    "     \n",
    "    idx_tr<-setdiff(1:N,idx_ts) ### idx_tr represents  indices of the training sefor the i-th fold\n",
    "    X_tr<-X[idx_tr,]\n",
    "    Y_tr<-Y[idx_tr]                          \n",
    "    \n",
    "    # Compute correlation across all the input variables and the target variable\n",
    "    correlation_vector <-abs(cor(X_tr,Y_tr))\n",
    "    # Rank variables according to correlation with the output\n",
    "    correlation_ranking_idx <-sort(correlation_vector,dec=T,index.return=T)$ix\n",
    "     \n",
    "    for (nb_features in 1:n) {\n",
    "        # Create a dataset including only the nb_features most correlated variables with the output\n",
    "        DS<-cbind(X_tr[,correlation_ranking_idx[1:nb_features],drop=F],damage_grade=Y_tr)\n",
    "        \n",
    "        # Model fit (using lm function)\n",
    "        model<- lm(damage_grade~.,DS)\n",
    "        \n",
    "        # Model prediction\n",
    "        Y_hat_ts<- predict(model,X_ts[,correlation_ranking_idx[1:nb_features],drop=F])\n",
    "        \n",
    "        # Cross validation error = MSE\n",
    "        CV_err[nb_features,i] <- mean((Y_hat_ts-Y_ts)^2)\n",
    "    }\n",
    "}  \n",
    "\n",
    "print(paste(\"#Features: \",c(1:n),\" ; CV error=\",round(apply(CV_err,1,mean),digits=4), \" ; std dev=\",round(apply(CV_err,1,sd),digits=4)))"
   ]
  },
  {
   "cell_type": "code",
   "execution_count": 244,
   "metadata": {
    "vscode": {
     "languageId": "r"
    }
   },
   "outputs": [
    {
     "data": {
      "text/html": [
       "<style>\n",
       ".list-inline {list-style: none; margin:0; padding: 0}\n",
       ".list-inline>li {display: inline-block}\n",
       ".list-inline>li:not(:last-child)::after {content: \"\\00b7\"; padding: 0 .5ex}\n",
       "</style>\n",
       "<ol class=list-inline><li>32</li><li>37</li><li>8</li><li>12</li><li>16</li><li>34</li><li>39</li><li>15</li><li>5</li><li>33</li><li>4</li><li>6</li><li>20</li><li>21</li><li>53</li><li>35</li><li>19</li><li>1</li><li>13</li><li>9</li><li>18</li><li>14</li><li>52</li><li>10</li><li>7</li><li>43</li><li>40</li><li>46</li><li>2</li><li>41</li><li>17</li><li>55</li><li>22</li><li>45</li><li>44</li><li>36</li><li>38</li><li>28</li><li>30</li><li>29</li><li>31</li><li>11</li><li>50</li><li>24</li><li>51</li><li>23</li><li>26</li><li>25</li><li>3</li><li>48</li><li>42</li><li>54</li><li>49</li><li>27</li><li>47</li></ol>\n"
      ],
      "text/latex": [
       "\\begin{enumerate*}\n",
       "\\item 32\n",
       "\\item 37\n",
       "\\item 8\n",
       "\\item 12\n",
       "\\item 16\n",
       "\\item 34\n",
       "\\item 39\n",
       "\\item 15\n",
       "\\item 5\n",
       "\\item 33\n",
       "\\item 4\n",
       "\\item 6\n",
       "\\item 20\n",
       "\\item 21\n",
       "\\item 53\n",
       "\\item 35\n",
       "\\item 19\n",
       "\\item 1\n",
       "\\item 13\n",
       "\\item 9\n",
       "\\item 18\n",
       "\\item 14\n",
       "\\item 52\n",
       "\\item 10\n",
       "\\item 7\n",
       "\\item 43\n",
       "\\item 40\n",
       "\\item 46\n",
       "\\item 2\n",
       "\\item 41\n",
       "\\item 17\n",
       "\\item 55\n",
       "\\item 22\n",
       "\\item 45\n",
       "\\item 44\n",
       "\\item 36\n",
       "\\item 38\n",
       "\\item 28\n",
       "\\item 30\n",
       "\\item 29\n",
       "\\item 31\n",
       "\\item 11\n",
       "\\item 50\n",
       "\\item 24\n",
       "\\item 51\n",
       "\\item 23\n",
       "\\item 26\n",
       "\\item 25\n",
       "\\item 3\n",
       "\\item 48\n",
       "\\item 42\n",
       "\\item 54\n",
       "\\item 49\n",
       "\\item 27\n",
       "\\item 47\n",
       "\\end{enumerate*}\n"
      ],
      "text/markdown": [
       "1. 32\n",
       "2. 37\n",
       "3. 8\n",
       "4. 12\n",
       "5. 16\n",
       "6. 34\n",
       "7. 39\n",
       "8. 15\n",
       "9. 5\n",
       "10. 33\n",
       "11. 4\n",
       "12. 6\n",
       "13. 20\n",
       "14. 21\n",
       "15. 53\n",
       "16. 35\n",
       "17. 19\n",
       "18. 1\n",
       "19. 13\n",
       "20. 9\n",
       "21. 18\n",
       "22. 14\n",
       "23. 52\n",
       "24. 10\n",
       "25. 7\n",
       "26. 43\n",
       "27. 40\n",
       "28. 46\n",
       "29. 2\n",
       "30. 41\n",
       "31. 17\n",
       "32. 55\n",
       "33. 22\n",
       "34. 45\n",
       "35. 44\n",
       "36. 36\n",
       "37. 38\n",
       "38. 28\n",
       "39. 30\n",
       "40. 29\n",
       "41. 31\n",
       "42. 11\n",
       "43. 50\n",
       "44. 24\n",
       "45. 51\n",
       "46. 23\n",
       "47. 26\n",
       "48. 25\n",
       "49. 3\n",
       "50. 48\n",
       "51. 42\n",
       "52. 54\n",
       "53. 49\n",
       "54. 27\n",
       "55. 47\n",
       "\n",
       "\n"
      ],
      "text/plain": [
       " [1] 32 37  8 12 16 34 39 15  5 33  4  6 20 21 53 35 19  1 13  9 18 14 52 10  7\n",
       "[26] 43 40 46  2 41 17 55 22 45 44 36 38 28 30 29 31 11 50 24 51 23 26 25  3 48\n",
       "[51] 42 54 49 27 47"
      ]
     },
     "metadata": {},
     "output_type": "display_data"
    },
    {
     "data": {
      "text/html": [
       "<style>\n",
       ".list-inline {list-style: none; margin:0; padding: 0}\n",
       ".list-inline>li {display: inline-block}\n",
       ".list-inline>li:not(:last-child)::after {content: \"\\00b7\"; padding: 0 .5ex}\n",
       "</style>\n",
       "<ol class=list-inline><li>'foundation_typer'</li><li>'ground_floor_typev'</li><li>'has_superstructure_mud_mortar_stone'</li><li>'has_superstructure_cement_mortar_brick'</li><li>'has_superstructure_rc_engineered'</li><li>'foundation_typew'</li><li>'other_floor_typeq'</li><li>'has_superstructure_rc_non_engineered'</li><li>'age'</li><li>'foundation_typeu'</li><li>'count_floors_pre_eq'</li><li>'area_percentage'</li><li>'has_secondary_use_hotel'</li><li>'has_secondary_use_rental'</li><li>'legal_ownership_statusa'</li><li>'roof_typen'</li><li>'has_secondary_use'</li><li>'geo_level_1_id'</li><li>'has_superstructure_timber'</li><li>'has_superstructure_stone_flag'</li><li>'count_families'</li><li>'has_superstructure_bamboo'</li><li>'plan_configurationu'</li><li>'has_superstructure_cement_mortar_stone'</li><li>'has_superstructure_adobe_mud'</li><li>'positiont'</li><li>'other_floor_typex'</li><li>'plan_configurationd'</li><li>'geo_level_2_id'</li><li>'positionj'</li><li>'has_superstructure_other'</li><li>'legal_ownership_statusw'</li><li>'has_secondary_use_institution'</li><li>'plan_configurationc'</li><li>'plan_configurationa'</li><li>'ground_floor_typem'</li><li>'ground_floor_typez'</li><li>'has_secondary_use_other'</li><li>'land_surface_conditiont'</li><li>'land_surface_conditiono'</li><li>'foundation_typeh'</li><li>'has_superstructure_mud_mortar_brick'</li><li>'plan_configurationo'</li><li>'has_secondary_use_industry'</li><li>'plan_configurations'</li><li>'has_secondary_use_school'</li><li>'has_secondary_use_gov_office'</li><li>'has_secondary_use_health_post'</li><li>'geo_level_3_id'</li><li>'plan_configurationm'</li><li>'positiono'</li><li>'legal_ownership_statusr'</li><li>'plan_configurationn'</li><li>'has_secondary_use_use_police'</li><li>'plan_configurationf'</li></ol>\n"
      ],
      "text/latex": [
       "\\begin{enumerate*}\n",
       "\\item 'foundation\\_typer'\n",
       "\\item 'ground\\_floor\\_typev'\n",
       "\\item 'has\\_superstructure\\_mud\\_mortar\\_stone'\n",
       "\\item 'has\\_superstructure\\_cement\\_mortar\\_brick'\n",
       "\\item 'has\\_superstructure\\_rc\\_engineered'\n",
       "\\item 'foundation\\_typew'\n",
       "\\item 'other\\_floor\\_typeq'\n",
       "\\item 'has\\_superstructure\\_rc\\_non\\_engineered'\n",
       "\\item 'age'\n",
       "\\item 'foundation\\_typeu'\n",
       "\\item 'count\\_floors\\_pre\\_eq'\n",
       "\\item 'area\\_percentage'\n",
       "\\item 'has\\_secondary\\_use\\_hotel'\n",
       "\\item 'has\\_secondary\\_use\\_rental'\n",
       "\\item 'legal\\_ownership\\_statusa'\n",
       "\\item 'roof\\_typen'\n",
       "\\item 'has\\_secondary\\_use'\n",
       "\\item 'geo\\_level\\_1\\_id'\n",
       "\\item 'has\\_superstructure\\_timber'\n",
       "\\item 'has\\_superstructure\\_stone\\_flag'\n",
       "\\item 'count\\_families'\n",
       "\\item 'has\\_superstructure\\_bamboo'\n",
       "\\item 'plan\\_configurationu'\n",
       "\\item 'has\\_superstructure\\_cement\\_mortar\\_stone'\n",
       "\\item 'has\\_superstructure\\_adobe\\_mud'\n",
       "\\item 'positiont'\n",
       "\\item 'other\\_floor\\_typex'\n",
       "\\item 'plan\\_configurationd'\n",
       "\\item 'geo\\_level\\_2\\_id'\n",
       "\\item 'positionj'\n",
       "\\item 'has\\_superstructure\\_other'\n",
       "\\item 'legal\\_ownership\\_statusw'\n",
       "\\item 'has\\_secondary\\_use\\_institution'\n",
       "\\item 'plan\\_configurationc'\n",
       "\\item 'plan\\_configurationa'\n",
       "\\item 'ground\\_floor\\_typem'\n",
       "\\item 'ground\\_floor\\_typez'\n",
       "\\item 'has\\_secondary\\_use\\_other'\n",
       "\\item 'land\\_surface\\_conditiont'\n",
       "\\item 'land\\_surface\\_conditiono'\n",
       "\\item 'foundation\\_typeh'\n",
       "\\item 'has\\_superstructure\\_mud\\_mortar\\_brick'\n",
       "\\item 'plan\\_configurationo'\n",
       "\\item 'has\\_secondary\\_use\\_industry'\n",
       "\\item 'plan\\_configurations'\n",
       "\\item 'has\\_secondary\\_use\\_school'\n",
       "\\item 'has\\_secondary\\_use\\_gov\\_office'\n",
       "\\item 'has\\_secondary\\_use\\_health\\_post'\n",
       "\\item 'geo\\_level\\_3\\_id'\n",
       "\\item 'plan\\_configurationm'\n",
       "\\item 'positiono'\n",
       "\\item 'legal\\_ownership\\_statusr'\n",
       "\\item 'plan\\_configurationn'\n",
       "\\item 'has\\_secondary\\_use\\_use\\_police'\n",
       "\\item 'plan\\_configurationf'\n",
       "\\end{enumerate*}\n"
      ],
      "text/markdown": [
       "1. 'foundation_typer'\n",
       "2. 'ground_floor_typev'\n",
       "3. 'has_superstructure_mud_mortar_stone'\n",
       "4. 'has_superstructure_cement_mortar_brick'\n",
       "5. 'has_superstructure_rc_engineered'\n",
       "6. 'foundation_typew'\n",
       "7. 'other_floor_typeq'\n",
       "8. 'has_superstructure_rc_non_engineered'\n",
       "9. 'age'\n",
       "10. 'foundation_typeu'\n",
       "11. 'count_floors_pre_eq'\n",
       "12. 'area_percentage'\n",
       "13. 'has_secondary_use_hotel'\n",
       "14. 'has_secondary_use_rental'\n",
       "15. 'legal_ownership_statusa'\n",
       "16. 'roof_typen'\n",
       "17. 'has_secondary_use'\n",
       "18. 'geo_level_1_id'\n",
       "19. 'has_superstructure_timber'\n",
       "20. 'has_superstructure_stone_flag'\n",
       "21. 'count_families'\n",
       "22. 'has_superstructure_bamboo'\n",
       "23. 'plan_configurationu'\n",
       "24. 'has_superstructure_cement_mortar_stone'\n",
       "25. 'has_superstructure_adobe_mud'\n",
       "26. 'positiont'\n",
       "27. 'other_floor_typex'\n",
       "28. 'plan_configurationd'\n",
       "29. 'geo_level_2_id'\n",
       "30. 'positionj'\n",
       "31. 'has_superstructure_other'\n",
       "32. 'legal_ownership_statusw'\n",
       "33. 'has_secondary_use_institution'\n",
       "34. 'plan_configurationc'\n",
       "35. 'plan_configurationa'\n",
       "36. 'ground_floor_typem'\n",
       "37. 'ground_floor_typez'\n",
       "38. 'has_secondary_use_other'\n",
       "39. 'land_surface_conditiont'\n",
       "40. 'land_surface_conditiono'\n",
       "41. 'foundation_typeh'\n",
       "42. 'has_superstructure_mud_mortar_brick'\n",
       "43. 'plan_configurationo'\n",
       "44. 'has_secondary_use_industry'\n",
       "45. 'plan_configurations'\n",
       "46. 'has_secondary_use_school'\n",
       "47. 'has_secondary_use_gov_office'\n",
       "48. 'has_secondary_use_health_post'\n",
       "49. 'geo_level_3_id'\n",
       "50. 'plan_configurationm'\n",
       "51. 'positiono'\n",
       "52. 'legal_ownership_statusr'\n",
       "53. 'plan_configurationn'\n",
       "54. 'has_secondary_use_use_police'\n",
       "55. 'plan_configurationf'\n",
       "\n",
       "\n"
      ],
      "text/plain": [
       " [1] \"foundation_typer\"                      \n",
       " [2] \"ground_floor_typev\"                    \n",
       " [3] \"has_superstructure_mud_mortar_stone\"   \n",
       " [4] \"has_superstructure_cement_mortar_brick\"\n",
       " [5] \"has_superstructure_rc_engineered\"      \n",
       " [6] \"foundation_typew\"                      \n",
       " [7] \"other_floor_typeq\"                     \n",
       " [8] \"has_superstructure_rc_non_engineered\"  \n",
       " [9] \"age\"                                   \n",
       "[10] \"foundation_typeu\"                      \n",
       "[11] \"count_floors_pre_eq\"                   \n",
       "[12] \"area_percentage\"                       \n",
       "[13] \"has_secondary_use_hotel\"               \n",
       "[14] \"has_secondary_use_rental\"              \n",
       "[15] \"legal_ownership_statusa\"               \n",
       "[16] \"roof_typen\"                            \n",
       "[17] \"has_secondary_use\"                     \n",
       "[18] \"geo_level_1_id\"                        \n",
       "[19] \"has_superstructure_timber\"             \n",
       "[20] \"has_superstructure_stone_flag\"         \n",
       "[21] \"count_families\"                        \n",
       "[22] \"has_superstructure_bamboo\"             \n",
       "[23] \"plan_configurationu\"                   \n",
       "[24] \"has_superstructure_cement_mortar_stone\"\n",
       "[25] \"has_superstructure_adobe_mud\"          \n",
       "[26] \"positiont\"                             \n",
       "[27] \"other_floor_typex\"                     \n",
       "[28] \"plan_configurationd\"                   \n",
       "[29] \"geo_level_2_id\"                        \n",
       "[30] \"positionj\"                             \n",
       "[31] \"has_superstructure_other\"              \n",
       "[32] \"legal_ownership_statusw\"               \n",
       "[33] \"has_secondary_use_institution\"         \n",
       "[34] \"plan_configurationc\"                   \n",
       "[35] \"plan_configurationa\"                   \n",
       "[36] \"ground_floor_typem\"                    \n",
       "[37] \"ground_floor_typez\"                    \n",
       "[38] \"has_secondary_use_other\"               \n",
       "[39] \"land_surface_conditiont\"               \n",
       "[40] \"land_surface_conditiono\"               \n",
       "[41] \"foundation_typeh\"                      \n",
       "[42] \"has_superstructure_mud_mortar_brick\"   \n",
       "[43] \"plan_configurationo\"                   \n",
       "[44] \"has_secondary_use_industry\"            \n",
       "[45] \"plan_configurations\"                   \n",
       "[46] \"has_secondary_use_school\"              \n",
       "[47] \"has_secondary_use_gov_office\"          \n",
       "[48] \"has_secondary_use_health_post\"         \n",
       "[49] \"geo_level_3_id\"                        \n",
       "[50] \"plan_configurationm\"                   \n",
       "[51] \"positiono\"                             \n",
       "[52] \"legal_ownership_statusr\"               \n",
       "[53] \"plan_configurationn\"                   \n",
       "[54] \"has_secondary_use_use_police\"          \n",
       "[55] \"plan_configurationf\"                   "
      ]
     },
     "metadata": {},
     "output_type": "display_data"
    }
   ],
   "source": [
    "NuF1 <- correlation_ranking_idx\n",
    "NaF1 <- colnames(X)[correlation_ranking_idx]\n",
    "NuF1\n",
    "NaF1"
   ]
  },
  {
   "attachments": {},
   "cell_type": "markdown",
   "metadata": {},
   "source": [
    "mRMR"
   ]
  },
  {
   "cell_type": "code",
   "execution_count": 28,
   "metadata": {
    "vscode": {
     "languageId": "r"
    }
   },
   "outputs": [
    {
     "name": "stdout",
     "output_type": "stream",
     "text": [
      " [1] \"#Features:  1  ; CV error= 0.3302  ; std dev= 0.0022\" \n",
      " [2] \"#Features:  2  ; CV error= 0.3199  ; std dev= 0.0019\" \n",
      " [3] \"#Features:  3  ; CV error= 0.3189  ; std dev= 0.002\"  \n",
      " [4] \"#Features:  4  ; CV error= 0.3166  ; std dev= 0.0019\" \n",
      " [5] \"#Features:  5  ; CV error= 0.3159  ; std dev= 0.002\"  \n",
      " [6] \"#Features:  6  ; CV error= 0.3142  ; std dev= 0.002\"  \n",
      " [7] \"#Features:  7  ; CV error= 0.313  ; std dev= 0.0019\"  \n",
      " [8] \"#Features:  8  ; CV error= 0.3129  ; std dev= 0.0019\" \n",
      " [9] \"#Features:  9  ; CV error= 0.3122  ; std dev= 0.0018\" \n",
      "[10] \"#Features:  10  ; CV error= 0.3119  ; std dev= 0.0018\"\n",
      "[11] \"#Features:  11  ; CV error= 0.3112  ; std dev= 0.0017\"\n",
      "[12] \"#Features:  12  ; CV error= 0.3106  ; std dev= 0.0018\"\n",
      "[13] \"#Features:  13  ; CV error= 0.3106  ; std dev= 0.0018\"\n",
      "[14] \"#Features:  14  ; CV error= 0.3104  ; std dev= 0.0018\"\n",
      "[15] \"#Features:  15  ; CV error= 0.3095  ; std dev= 0.0017\"\n",
      "[16] \"#Features:  16  ; CV error= 0.3095  ; std dev= 0.0017\"\n",
      "[17] \"#Features:  17  ; CV error= 0.3082  ; std dev= 0.0016\"\n",
      "[18] \"#Features:  18  ; CV error= 0.3079  ; std dev= 0.0016\"\n",
      "[19] \"#Features:  19  ; CV error= 0.3075  ; std dev= 0.0016\"\n",
      "[20] \"#Features:  20  ; CV error= 0.3067  ; std dev= 0.0016\"\n",
      "[21] \"#Features:  21  ; CV error= 0.3067  ; std dev= 0.0016\"\n",
      "[22] \"#Features:  22  ; CV error= 0.3066  ; std dev= 0.0016\"\n",
      "[23] \"#Features:  23  ; CV error= 0.3064  ; std dev= 0.0016\"\n",
      "[24] \"#Features:  24  ; CV error= 0.3064  ; std dev= 0.0016\"\n",
      "[25] \"#Features:  25  ; CV error= 0.3064  ; std dev= 0.0016\"\n",
      "[26] \"#Features:  26  ; CV error= 0.3061  ; std dev= 0.0016\"\n",
      "[27] \"#Features:  27  ; CV error= 0.3058  ; std dev= 0.0018\"\n",
      "[28] \"#Features:  28  ; CV error= 0.305  ; std dev= 0.0017\" \n",
      "[29] \"#Features:  29  ; CV error= 0.3049  ; std dev= 0.0016\"\n",
      "[30] \"#Features:  30  ; CV error= 0.3048  ; std dev= 0.0016\"\n",
      "[31] \"#Features:  31  ; CV error= 0.3047  ; std dev= 0.0016\"\n",
      "[32] \"#Features:  32  ; CV error= 0.3047  ; std dev= 0.0016\"\n",
      "[33] \"#Features:  33  ; CV error= 0.3046  ; std dev= 0.0016\"\n",
      "[34] \"#Features:  34  ; CV error= 0.3045  ; std dev= 0.0015\"\n",
      "[35] \"#Features:  35  ; CV error= 0.3044  ; std dev= 0.0016\"\n",
      "[36] \"#Features:  36  ; CV error= 0.3044  ; std dev= 0.0015\"\n",
      "[37] \"#Features:  37  ; CV error= 0.3043  ; std dev= 0.0016\"\n",
      "[38] \"#Features:  38  ; CV error= 0.3042  ; std dev= 0.0016\"\n",
      "[39] \"#Features:  39  ; CV error= 0.3042  ; std dev= 0.0015\"\n",
      "[40] \"#Features:  40  ; CV error= 0.3041  ; std dev= 0.0015\"\n",
      "[41] \"#Features:  41  ; CV error= 0.3041  ; std dev= 0.0016\"\n",
      "[42] \"#Features:  42  ; CV error= 0.304  ; std dev= 0.0015\" \n",
      "[43] \"#Features:  43  ; CV error= 0.3039  ; std dev= 0.0015\"\n",
      "[44] \"#Features:  44  ; CV error= 0.3039  ; std dev= 0.0015\"\n",
      "[45] \"#Features:  45  ; CV error= 0.3039  ; std dev= 0.0015\"\n",
      "[46] \"#Features:  46  ; CV error= 0.3039  ; std dev= 0.0015\"\n",
      "[47] \"#Features:  47  ; CV error= 0.3039  ; std dev= 0.0015\"\n",
      "[48] \"#Features:  48  ; CV error= 0.3039  ; std dev= 0.0015\"\n",
      "[49] \"#Features:  49  ; CV error= 0.3039  ; std dev= 0.0015\"\n",
      "[50] \"#Features:  50  ; CV error= 0.3039  ; std dev= 0.0016\"\n",
      "[51] \"#Features:  51  ; CV error= 0.3039  ; std dev= 0.0016\"\n",
      "[52] \"#Features:  52  ; CV error= 0.3038  ; std dev= 0.0015\"\n",
      "[53] \"#Features:  53  ; CV error= 0.3037  ; std dev= 0.0016\"\n",
      "[54] \"#Features:  54  ; CV error= 0.3037  ; std dev= 0.0016\"\n",
      "[55] \"#Features:  55  ; CV error= 0.3037  ; std dev= 0.0016\"\n"
     ]
    }
   ],
   "source": [
    "CV_folds <- 10\n",
    "\n",
    "size_CV <-floor(N/CV_folds)\n",
    "\n",
    "CV_err<-matrix(0,nrow=n,ncol=CV_folds)\n",
    "\n",
    "for (i in 1:CV_folds) {\n",
    "    \n",
    "    idx_ts<-(((i-1)*size_CV+1):(i*size_CV))  ### idx_ts represents the indices of the test set the i-th fold\n",
    "    X_ts<-X[idx_ts,]  \n",
    "    Y_ts<-Y[idx_ts]  \n",
    "     \n",
    "    idx_tr<-setdiff(1:N,idx_ts) ### idx_tr represents  indices of the training sefor the i-th fold\n",
    "    X_tr<-X[idx_tr,]\n",
    "    Y_tr<-Y[idx_tr]                          \n",
    "    \n",
    "    # Computing the correlation between input variables and output variable on the training set\n",
    "    correlation<-abs(cor(X_tr,Y_tr))\n",
    "    \n",
    "    # Initialization : No variables are selected and all the variables are candidates\n",
    "    selected<-c()\n",
    "    candidates<-1:n\n",
    "    \n",
    "    #mRMR ranks the variables by taking account not only the correlation with the output, but also by avoiding redudant variables\n",
    "    for (j in 1:n) {\n",
    "        redundancy_score<-numeric(length(candidates))\n",
    "        \n",
    "        if (length(selected)>0) {\n",
    "            # Compute the correlation between the selected variables and the candidates on the training set\n",
    "            cor_selected_candidates<-cor(X_tr[,selected,drop=F],X_tr[,candidates,drop=F])\n",
    "            # Compute the mean correlation for each candidate variable, across the selected variables\n",
    "            redundancy_score<-apply(cor_selected_candidates,2,mean)\n",
    "        }\n",
    "        \n",
    "        # mRMR: minimum Redundancy Maximum Relevancy\n",
    "        mRMR_score<-correlation[candidates]-redundancy_score\n",
    "        \n",
    "        # Select the candidate variable that maximises the mRMR score\n",
    "        selected_current<-candidates[which.max(mRMR_score)]\n",
    "        selected<-c(selected,selected_current)\n",
    "        \n",
    "        # Remove the selected variables from the candidates\n",
    "        candidates<-setdiff(candidates,selected_current)\n",
    "    }\n",
    "    \n",
    "    ranking <- selected\n",
    "     \n",
    "    for (nb_features in 1:n) {\n",
    "        # Create a dataset including only the first nb_features selected variables\n",
    "        DS<-cbind(X_tr[,ranking[1:nb_features],drop=F],damage_grade=Y_tr)\n",
    "        \n",
    "        # Model fit (using lm function)\n",
    "        model<- lm(damage_grade~.,DS)\n",
    "        \n",
    "        # Model prediction\n",
    "        Y_hat_ts<- predict(model,X_ts[,ranking[1:nb_features],drop=F])\n",
    "        \n",
    "        # Cross-validation error = MSE\n",
    "        CV_err[nb_features,i]<-mean((Y_hat_ts-Y_ts)^2)\n",
    "    }\n",
    "}  \n",
    "\n",
    "print(paste(\"#Features: \",c(1:n),\" ; CV error=\",round(apply(CV_err,1,mean),digits=4), \" ; std dev=\",round(apply(CV_err,1,sd),digits=4)))"
   ]
  },
  {
   "cell_type": "code",
   "execution_count": 29,
   "metadata": {
    "vscode": {
     "languageId": "r"
    }
   },
   "outputs": [
    {
     "data": {
      "text/html": [
       "<style>\n",
       ".list-inline {list-style: none; margin:0; padding: 0}\n",
       ".list-inline>li {display: inline-block}\n",
       ".list-inline>li:not(:last-child)::after {content: \"\\00b7\"; padding: 0 .5ex}\n",
       "</style>\n",
       "<ol class=list-inline><li>32</li><li>37</li><li>34</li><li>8</li><li>12</li><li>5</li><li>16</li><li>39</li><li>15</li><li>33</li><li>35</li><li>4</li><li>6</li><li>53</li><li>13</li><li>20</li><li>9</li><li>21</li><li>18</li><li>7</li><li>1</li><li>52</li><li>46</li><li>2</li><li>40</li><li>10</li><li>14</li><li>43</li><li>19</li><li>55</li><li>45</li><li>44</li><li>22</li><li>17</li><li>30</li><li>29</li><li>36</li><li>38</li><li>41</li><li>50</li><li>51</li><li>31</li><li>28</li><li>24</li><li>23</li><li>26</li><li>3</li><li>25</li><li>48</li><li>49</li><li>54</li><li>27</li><li>11</li><li>47</li><li>42</li></ol>\n"
      ],
      "text/latex": [
       "\\begin{enumerate*}\n",
       "\\item 32\n",
       "\\item 37\n",
       "\\item 34\n",
       "\\item 8\n",
       "\\item 12\n",
       "\\item 5\n",
       "\\item 16\n",
       "\\item 39\n",
       "\\item 15\n",
       "\\item 33\n",
       "\\item 35\n",
       "\\item 4\n",
       "\\item 6\n",
       "\\item 53\n",
       "\\item 13\n",
       "\\item 20\n",
       "\\item 9\n",
       "\\item 21\n",
       "\\item 18\n",
       "\\item 7\n",
       "\\item 1\n",
       "\\item 52\n",
       "\\item 46\n",
       "\\item 2\n",
       "\\item 40\n",
       "\\item 10\n",
       "\\item 14\n",
       "\\item 43\n",
       "\\item 19\n",
       "\\item 55\n",
       "\\item 45\n",
       "\\item 44\n",
       "\\item 22\n",
       "\\item 17\n",
       "\\item 30\n",
       "\\item 29\n",
       "\\item 36\n",
       "\\item 38\n",
       "\\item 41\n",
       "\\item 50\n",
       "\\item 51\n",
       "\\item 31\n",
       "\\item 28\n",
       "\\item 24\n",
       "\\item 23\n",
       "\\item 26\n",
       "\\item 3\n",
       "\\item 25\n",
       "\\item 48\n",
       "\\item 49\n",
       "\\item 54\n",
       "\\item 27\n",
       "\\item 11\n",
       "\\item 47\n",
       "\\item 42\n",
       "\\end{enumerate*}\n"
      ],
      "text/markdown": [
       "1. 32\n",
       "2. 37\n",
       "3. 34\n",
       "4. 8\n",
       "5. 12\n",
       "6. 5\n",
       "7. 16\n",
       "8. 39\n",
       "9. 15\n",
       "10. 33\n",
       "11. 35\n",
       "12. 4\n",
       "13. 6\n",
       "14. 53\n",
       "15. 13\n",
       "16. 20\n",
       "17. 9\n",
       "18. 21\n",
       "19. 18\n",
       "20. 7\n",
       "21. 1\n",
       "22. 52\n",
       "23. 46\n",
       "24. 2\n",
       "25. 40\n",
       "26. 10\n",
       "27. 14\n",
       "28. 43\n",
       "29. 19\n",
       "30. 55\n",
       "31. 45\n",
       "32. 44\n",
       "33. 22\n",
       "34. 17\n",
       "35. 30\n",
       "36. 29\n",
       "37. 36\n",
       "38. 38\n",
       "39. 41\n",
       "40. 50\n",
       "41. 51\n",
       "42. 31\n",
       "43. 28\n",
       "44. 24\n",
       "45. 23\n",
       "46. 26\n",
       "47. 3\n",
       "48. 25\n",
       "49. 48\n",
       "50. 49\n",
       "51. 54\n",
       "52. 27\n",
       "53. 11\n",
       "54. 47\n",
       "55. 42\n",
       "\n",
       "\n"
      ],
      "text/plain": [
       " [1] 32 37 34  8 12  5 16 39 15 33 35  4  6 53 13 20  9 21 18  7  1 52 46  2 40\n",
       "[26] 10 14 43 19 55 45 44 22 17 30 29 36 38 41 50 51 31 28 24 23 26  3 25 48 49\n",
       "[51] 54 27 11 47 42"
      ]
     },
     "metadata": {},
     "output_type": "display_data"
    },
    {
     "data": {
      "text/html": [
       "<style>\n",
       ".list-inline {list-style: none; margin:0; padding: 0}\n",
       ".list-inline>li {display: inline-block}\n",
       ".list-inline>li:not(:last-child)::after {content: \"\\00b7\"; padding: 0 .5ex}\n",
       "</style>\n",
       "<ol class=list-inline><li>'foundation_typer'</li><li>'ground_floor_typev'</li><li>'foundation_typew'</li><li>'has_superstructure_mud_mortar_stone'</li><li>'has_superstructure_cement_mortar_brick'</li><li>'age'</li><li>'has_superstructure_rc_engineered'</li><li>'other_floor_typeq'</li><li>'has_superstructure_rc_non_engineered'</li><li>'foundation_typeu'</li><li>'roof_typen'</li><li>'count_floors_pre_eq'</li><li>'area_percentage'</li><li>'legal_ownership_statusa'</li><li>'has_superstructure_timber'</li><li>'has_secondary_use_hotel'</li><li>'has_superstructure_stone_flag'</li><li>'has_secondary_use_rental'</li><li>'count_families'</li><li>'has_superstructure_adobe_mud'</li><li>'geo_level_1_id'</li><li>'plan_configurationu'</li><li>'plan_configurationd'</li><li>'geo_level_2_id'</li><li>'other_floor_typex'</li><li>'has_superstructure_cement_mortar_stone'</li><li>'has_superstructure_bamboo'</li><li>'positiont'</li><li>'has_secondary_use'</li><li>'legal_ownership_statusw'</li><li>'plan_configurationc'</li><li>'plan_configurationa'</li><li>'has_secondary_use_institution'</li><li>'has_superstructure_other'</li><li>'land_surface_conditiont'</li><li>'land_surface_conditiono'</li><li>'ground_floor_typem'</li><li>'ground_floor_typez'</li><li>'positionj'</li><li>'plan_configurationo'</li><li>'plan_configurations'</li><li>'foundation_typeh'</li><li>'has_secondary_use_other'</li><li>'has_secondary_use_industry'</li><li>'has_secondary_use_school'</li><li>'has_secondary_use_gov_office'</li><li>'geo_level_3_id'</li><li>'has_secondary_use_health_post'</li><li>'plan_configurationm'</li><li>'plan_configurationn'</li><li>'legal_ownership_statusr'</li><li>'has_secondary_use_use_police'</li><li>'has_superstructure_mud_mortar_brick'</li><li>'plan_configurationf'</li><li>'positiono'</li></ol>\n"
      ],
      "text/latex": [
       "\\begin{enumerate*}\n",
       "\\item 'foundation\\_typer'\n",
       "\\item 'ground\\_floor\\_typev'\n",
       "\\item 'foundation\\_typew'\n",
       "\\item 'has\\_superstructure\\_mud\\_mortar\\_stone'\n",
       "\\item 'has\\_superstructure\\_cement\\_mortar\\_brick'\n",
       "\\item 'age'\n",
       "\\item 'has\\_superstructure\\_rc\\_engineered'\n",
       "\\item 'other\\_floor\\_typeq'\n",
       "\\item 'has\\_superstructure\\_rc\\_non\\_engineered'\n",
       "\\item 'foundation\\_typeu'\n",
       "\\item 'roof\\_typen'\n",
       "\\item 'count\\_floors\\_pre\\_eq'\n",
       "\\item 'area\\_percentage'\n",
       "\\item 'legal\\_ownership\\_statusa'\n",
       "\\item 'has\\_superstructure\\_timber'\n",
       "\\item 'has\\_secondary\\_use\\_hotel'\n",
       "\\item 'has\\_superstructure\\_stone\\_flag'\n",
       "\\item 'has\\_secondary\\_use\\_rental'\n",
       "\\item 'count\\_families'\n",
       "\\item 'has\\_superstructure\\_adobe\\_mud'\n",
       "\\item 'geo\\_level\\_1\\_id'\n",
       "\\item 'plan\\_configurationu'\n",
       "\\item 'plan\\_configurationd'\n",
       "\\item 'geo\\_level\\_2\\_id'\n",
       "\\item 'other\\_floor\\_typex'\n",
       "\\item 'has\\_superstructure\\_cement\\_mortar\\_stone'\n",
       "\\item 'has\\_superstructure\\_bamboo'\n",
       "\\item 'positiont'\n",
       "\\item 'has\\_secondary\\_use'\n",
       "\\item 'legal\\_ownership\\_statusw'\n",
       "\\item 'plan\\_configurationc'\n",
       "\\item 'plan\\_configurationa'\n",
       "\\item 'has\\_secondary\\_use\\_institution'\n",
       "\\item 'has\\_superstructure\\_other'\n",
       "\\item 'land\\_surface\\_conditiont'\n",
       "\\item 'land\\_surface\\_conditiono'\n",
       "\\item 'ground\\_floor\\_typem'\n",
       "\\item 'ground\\_floor\\_typez'\n",
       "\\item 'positionj'\n",
       "\\item 'plan\\_configurationo'\n",
       "\\item 'plan\\_configurations'\n",
       "\\item 'foundation\\_typeh'\n",
       "\\item 'has\\_secondary\\_use\\_other'\n",
       "\\item 'has\\_secondary\\_use\\_industry'\n",
       "\\item 'has\\_secondary\\_use\\_school'\n",
       "\\item 'has\\_secondary\\_use\\_gov\\_office'\n",
       "\\item 'geo\\_level\\_3\\_id'\n",
       "\\item 'has\\_secondary\\_use\\_health\\_post'\n",
       "\\item 'plan\\_configurationm'\n",
       "\\item 'plan\\_configurationn'\n",
       "\\item 'legal\\_ownership\\_statusr'\n",
       "\\item 'has\\_secondary\\_use\\_use\\_police'\n",
       "\\item 'has\\_superstructure\\_mud\\_mortar\\_brick'\n",
       "\\item 'plan\\_configurationf'\n",
       "\\item 'positiono'\n",
       "\\end{enumerate*}\n"
      ],
      "text/markdown": [
       "1. 'foundation_typer'\n",
       "2. 'ground_floor_typev'\n",
       "3. 'foundation_typew'\n",
       "4. 'has_superstructure_mud_mortar_stone'\n",
       "5. 'has_superstructure_cement_mortar_brick'\n",
       "6. 'age'\n",
       "7. 'has_superstructure_rc_engineered'\n",
       "8. 'other_floor_typeq'\n",
       "9. 'has_superstructure_rc_non_engineered'\n",
       "10. 'foundation_typeu'\n",
       "11. 'roof_typen'\n",
       "12. 'count_floors_pre_eq'\n",
       "13. 'area_percentage'\n",
       "14. 'legal_ownership_statusa'\n",
       "15. 'has_superstructure_timber'\n",
       "16. 'has_secondary_use_hotel'\n",
       "17. 'has_superstructure_stone_flag'\n",
       "18. 'has_secondary_use_rental'\n",
       "19. 'count_families'\n",
       "20. 'has_superstructure_adobe_mud'\n",
       "21. 'geo_level_1_id'\n",
       "22. 'plan_configurationu'\n",
       "23. 'plan_configurationd'\n",
       "24. 'geo_level_2_id'\n",
       "25. 'other_floor_typex'\n",
       "26. 'has_superstructure_cement_mortar_stone'\n",
       "27. 'has_superstructure_bamboo'\n",
       "28. 'positiont'\n",
       "29. 'has_secondary_use'\n",
       "30. 'legal_ownership_statusw'\n",
       "31. 'plan_configurationc'\n",
       "32. 'plan_configurationa'\n",
       "33. 'has_secondary_use_institution'\n",
       "34. 'has_superstructure_other'\n",
       "35. 'land_surface_conditiont'\n",
       "36. 'land_surface_conditiono'\n",
       "37. 'ground_floor_typem'\n",
       "38. 'ground_floor_typez'\n",
       "39. 'positionj'\n",
       "40. 'plan_configurationo'\n",
       "41. 'plan_configurations'\n",
       "42. 'foundation_typeh'\n",
       "43. 'has_secondary_use_other'\n",
       "44. 'has_secondary_use_industry'\n",
       "45. 'has_secondary_use_school'\n",
       "46. 'has_secondary_use_gov_office'\n",
       "47. 'geo_level_3_id'\n",
       "48. 'has_secondary_use_health_post'\n",
       "49. 'plan_configurationm'\n",
       "50. 'plan_configurationn'\n",
       "51. 'legal_ownership_statusr'\n",
       "52. 'has_secondary_use_use_police'\n",
       "53. 'has_superstructure_mud_mortar_brick'\n",
       "54. 'plan_configurationf'\n",
       "55. 'positiono'\n",
       "\n",
       "\n"
      ],
      "text/plain": [
       " [1] \"foundation_typer\"                      \n",
       " [2] \"ground_floor_typev\"                    \n",
       " [3] \"foundation_typew\"                      \n",
       " [4] \"has_superstructure_mud_mortar_stone\"   \n",
       " [5] \"has_superstructure_cement_mortar_brick\"\n",
       " [6] \"age\"                                   \n",
       " [7] \"has_superstructure_rc_engineered\"      \n",
       " [8] \"other_floor_typeq\"                     \n",
       " [9] \"has_superstructure_rc_non_engineered\"  \n",
       "[10] \"foundation_typeu\"                      \n",
       "[11] \"roof_typen\"                            \n",
       "[12] \"count_floors_pre_eq\"                   \n",
       "[13] \"area_percentage\"                       \n",
       "[14] \"legal_ownership_statusa\"               \n",
       "[15] \"has_superstructure_timber\"             \n",
       "[16] \"has_secondary_use_hotel\"               \n",
       "[17] \"has_superstructure_stone_flag\"         \n",
       "[18] \"has_secondary_use_rental\"              \n",
       "[19] \"count_families\"                        \n",
       "[20] \"has_superstructure_adobe_mud\"          \n",
       "[21] \"geo_level_1_id\"                        \n",
       "[22] \"plan_configurationu\"                   \n",
       "[23] \"plan_configurationd\"                   \n",
       "[24] \"geo_level_2_id\"                        \n",
       "[25] \"other_floor_typex\"                     \n",
       "[26] \"has_superstructure_cement_mortar_stone\"\n",
       "[27] \"has_superstructure_bamboo\"             \n",
       "[28] \"positiont\"                             \n",
       "[29] \"has_secondary_use\"                     \n",
       "[30] \"legal_ownership_statusw\"               \n",
       "[31] \"plan_configurationc\"                   \n",
       "[32] \"plan_configurationa\"                   \n",
       "[33] \"has_secondary_use_institution\"         \n",
       "[34] \"has_superstructure_other\"              \n",
       "[35] \"land_surface_conditiont\"               \n",
       "[36] \"land_surface_conditiono\"               \n",
       "[37] \"ground_floor_typem\"                    \n",
       "[38] \"ground_floor_typez\"                    \n",
       "[39] \"positionj\"                             \n",
       "[40] \"plan_configurationo\"                   \n",
       "[41] \"plan_configurations\"                   \n",
       "[42] \"foundation_typeh\"                      \n",
       "[43] \"has_secondary_use_other\"               \n",
       "[44] \"has_secondary_use_industry\"            \n",
       "[45] \"has_secondary_use_school\"              \n",
       "[46] \"has_secondary_use_gov_office\"          \n",
       "[47] \"geo_level_3_id\"                        \n",
       "[48] \"has_secondary_use_health_post\"         \n",
       "[49] \"plan_configurationm\"                   \n",
       "[50] \"plan_configurationn\"                   \n",
       "[51] \"legal_ownership_statusr\"               \n",
       "[52] \"has_secondary_use_use_police\"          \n",
       "[53] \"has_superstructure_mud_mortar_brick\"   \n",
       "[54] \"plan_configurationf\"                   \n",
       "[55] \"positiono\"                             "
      ]
     },
     "metadata": {},
     "output_type": "display_data"
    }
   ],
   "source": [
    "NuF2 <- selected\n",
    "NaF2 <- colnames(X)[selected]\n",
    "NuF2\n",
    "NaF2"
   ]
  },
  {
   "attachments": {},
   "cell_type": "markdown",
   "metadata": {},
   "source": [
    "Here the feature selection of the 2 methods shows more or less similar results even if the MRMR method seems a little bit better probably thanks to its function of regulating the concern of the rendering variables so we decided to choose the latter for the continuation of our tasks "
   ]
  },
  {
   "cell_type": "code",
   "execution_count": 30,
   "metadata": {
    "vscode": {
     "languageId": "r"
    }
   },
   "outputs": [],
   "source": [
    "NaF2 <- 34\n",
    "selected_features <- ranking[1:NaF2] \n",
    "New_Train <- trainCleanedD[, selected_features, drop = FALSE]\n",
    "New_Train <- cbind(New_Train, damage_grade = Y)\n"
   ]
  },
  {
   "cell_type": "code",
   "execution_count": 31,
   "metadata": {
    "vscode": {
     "languageId": "r"
    }
   },
   "outputs": [],
   "source": [
    "NaF2 <- 34\n",
    "selected_features <- ranking[1:NaF2] \n",
    "New_TrainT <- trainCleanedDT[, selected_features, drop = FALSE]\n"
   ]
  },
  {
   "cell_type": "code",
   "execution_count": 250,
   "metadata": {
    "vscode": {
     "languageId": "r"
    }
   },
   "outputs": [
    {
     "data": {
      "text/html": [
       "<table class=\"dataframe\">\n",
       "<caption>A data.frame: 6 x 35</caption>\n",
       "<thead>\n",
       "\t<tr><th></th><th scope=col>foundation_typer</th><th scope=col>ground_floor_typev</th><th scope=col>foundation_typew</th><th scope=col>has_superstructure_mud_mortar_stone</th><th scope=col>has_superstructure_cement_mortar_brick</th><th scope=col>age</th><th scope=col>has_superstructure_rc_engineered</th><th scope=col>other_floor_typeq</th><th scope=col>has_superstructure_rc_non_engineered</th><th scope=col>foundation_typeu</th><th scope=col>...</th><th scope=col>has_superstructure_cement_mortar_stone</th><th scope=col>has_superstructure_bamboo</th><th scope=col>positiont</th><th scope=col>has_secondary_use</th><th scope=col>legal_ownership_statusw</th><th scope=col>plan_configurationc</th><th scope=col>plan_configurationa</th><th scope=col>has_secondary_use_institution</th><th scope=col>has_superstructure_other</th><th scope=col>damage_grade</th></tr>\n",
       "\t<tr><th></th><th scope=col>&lt;dbl&gt;</th><th scope=col>&lt;dbl&gt;</th><th scope=col>&lt;dbl&gt;</th><th scope=col>&lt;int&gt;</th><th scope=col>&lt;int&gt;</th><th scope=col>&lt;dbl&gt;</th><th scope=col>&lt;int&gt;</th><th scope=col>&lt;dbl&gt;</th><th scope=col>&lt;int&gt;</th><th scope=col>&lt;dbl&gt;</th><th scope=col>...</th><th scope=col>&lt;int&gt;</th><th scope=col>&lt;int&gt;</th><th scope=col>&lt;dbl&gt;</th><th scope=col>&lt;int&gt;</th><th scope=col>&lt;dbl&gt;</th><th scope=col>&lt;dbl&gt;</th><th scope=col>&lt;dbl&gt;</th><th scope=col>&lt;int&gt;</th><th scope=col>&lt;int&gt;</th><th scope=col>&lt;int&gt;</th></tr>\n",
       "</thead>\n",
       "<tbody>\n",
       "\t<tr><th scope=row>1</th><td>1</td><td>0</td><td>0</td><td>1</td><td>0</td><td>30</td><td>0</td><td>1</td><td>0</td><td>0</td><td>...</td><td>0</td><td>0</td><td>1</td><td>0</td><td>0</td><td>0</td><td>0</td><td>0</td><td>0</td><td>3</td></tr>\n",
       "\t<tr><th scope=row>2</th><td>1</td><td>0</td><td>0</td><td>1</td><td>0</td><td>10</td><td>0</td><td>1</td><td>0</td><td>0</td><td>...</td><td>0</td><td>0</td><td>0</td><td>0</td><td>0</td><td>0</td><td>0</td><td>0</td><td>0</td><td>2</td></tr>\n",
       "\t<tr><th scope=row>3</th><td>1</td><td>0</td><td>0</td><td>1</td><td>0</td><td>10</td><td>0</td><td>0</td><td>0</td><td>0</td><td>...</td><td>0</td><td>0</td><td>1</td><td>0</td><td>0</td><td>0</td><td>0</td><td>0</td><td>0</td><td>3</td></tr>\n",
       "\t<tr><th scope=row>4</th><td>1</td><td>0</td><td>0</td><td>1</td><td>0</td><td>10</td><td>0</td><td>0</td><td>0</td><td>0</td><td>...</td><td>0</td><td>1</td><td>0</td><td>0</td><td>0</td><td>0</td><td>0</td><td>0</td><td>0</td><td>2</td></tr>\n",
       "\t<tr><th scope=row>5</th><td>1</td><td>0</td><td>0</td><td>0</td><td>0</td><td>30</td><td>0</td><td>0</td><td>0</td><td>0</td><td>...</td><td>0</td><td>0</td><td>0</td><td>0</td><td>0</td><td>0</td><td>0</td><td>0</td><td>0</td><td>3</td></tr>\n",
       "\t<tr><th scope=row>6</th><td>1</td><td>0</td><td>0</td><td>1</td><td>0</td><td>10</td><td>0</td><td>1</td><td>0</td><td>0</td><td>...</td><td>0</td><td>0</td><td>0</td><td>1</td><td>0</td><td>0</td><td>0</td><td>0</td><td>0</td><td>2</td></tr>\n",
       "</tbody>\n",
       "</table>\n"
      ],
      "text/latex": [
       "A data.frame: 6 x 35\n",
       "\\begin{tabular}{r|lllllllllllllllllllll}\n",
       "  & foundation\\_typer & ground\\_floor\\_typev & foundation\\_typew & has\\_superstructure\\_mud\\_mortar\\_stone & has\\_superstructure\\_cement\\_mortar\\_brick & age & has\\_superstructure\\_rc\\_engineered & other\\_floor\\_typeq & has\\_superstructure\\_rc\\_non\\_engineered & foundation\\_typeu & ... & has\\_superstructure\\_cement\\_mortar\\_stone & has\\_superstructure\\_bamboo & positiont & has\\_secondary\\_use & legal\\_ownership\\_statusw & plan\\_configurationc & plan\\_configurationa & has\\_secondary\\_use\\_institution & has\\_superstructure\\_other & damage\\_grade\\\\\n",
       "  & <dbl> & <dbl> & <dbl> & <int> & <int> & <dbl> & <int> & <dbl> & <int> & <dbl> & ... & <int> & <int> & <dbl> & <int> & <dbl> & <dbl> & <dbl> & <int> & <int> & <int>\\\\\n",
       "\\hline\n",
       "\t1 & 1 & 0 & 0 & 1 & 0 & 30 & 0 & 1 & 0 & 0 & ... & 0 & 0 & 1 & 0 & 0 & 0 & 0 & 0 & 0 & 3\\\\\n",
       "\t2 & 1 & 0 & 0 & 1 & 0 & 10 & 0 & 1 & 0 & 0 & ... & 0 & 0 & 0 & 0 & 0 & 0 & 0 & 0 & 0 & 2\\\\\n",
       "\t3 & 1 & 0 & 0 & 1 & 0 & 10 & 0 & 0 & 0 & 0 & ... & 0 & 0 & 1 & 0 & 0 & 0 & 0 & 0 & 0 & 3\\\\\n",
       "\t4 & 1 & 0 & 0 & 1 & 0 & 10 & 0 & 0 & 0 & 0 & ... & 0 & 1 & 0 & 0 & 0 & 0 & 0 & 0 & 0 & 2\\\\\n",
       "\t5 & 1 & 0 & 0 & 0 & 0 & 30 & 0 & 0 & 0 & 0 & ... & 0 & 0 & 0 & 0 & 0 & 0 & 0 & 0 & 0 & 3\\\\\n",
       "\t6 & 1 & 0 & 0 & 1 & 0 & 10 & 0 & 1 & 0 & 0 & ... & 0 & 0 & 0 & 1 & 0 & 0 & 0 & 0 & 0 & 2\\\\\n",
       "\\end{tabular}\n"
      ],
      "text/markdown": [
       "\n",
       "A data.frame: 6 x 35\n",
       "\n",
       "| <!--/--> | foundation_typer &lt;dbl&gt; | ground_floor_typev &lt;dbl&gt; | foundation_typew &lt;dbl&gt; | has_superstructure_mud_mortar_stone &lt;int&gt; | has_superstructure_cement_mortar_brick &lt;int&gt; | age &lt;dbl&gt; | has_superstructure_rc_engineered &lt;int&gt; | other_floor_typeq &lt;dbl&gt; | has_superstructure_rc_non_engineered &lt;int&gt; | foundation_typeu &lt;dbl&gt; | ... ... | has_superstructure_cement_mortar_stone &lt;int&gt; | has_superstructure_bamboo &lt;int&gt; | positiont &lt;dbl&gt; | has_secondary_use &lt;int&gt; | legal_ownership_statusw &lt;dbl&gt; | plan_configurationc &lt;dbl&gt; | plan_configurationa &lt;dbl&gt; | has_secondary_use_institution &lt;int&gt; | has_superstructure_other &lt;int&gt; | damage_grade &lt;int&gt; |\n",
       "|---|---|---|---|---|---|---|---|---|---|---|---|---|---|---|---|---|---|---|---|---|---|\n",
       "| 1 | 1 | 0 | 0 | 1 | 0 | 30 | 0 | 1 | 0 | 0 | ... | 0 | 0 | 1 | 0 | 0 | 0 | 0 | 0 | 0 | 3 |\n",
       "| 2 | 1 | 0 | 0 | 1 | 0 | 10 | 0 | 1 | 0 | 0 | ... | 0 | 0 | 0 | 0 | 0 | 0 | 0 | 0 | 0 | 2 |\n",
       "| 3 | 1 | 0 | 0 | 1 | 0 | 10 | 0 | 0 | 0 | 0 | ... | 0 | 0 | 1 | 0 | 0 | 0 | 0 | 0 | 0 | 3 |\n",
       "| 4 | 1 | 0 | 0 | 1 | 0 | 10 | 0 | 0 | 0 | 0 | ... | 0 | 1 | 0 | 0 | 0 | 0 | 0 | 0 | 0 | 2 |\n",
       "| 5 | 1 | 0 | 0 | 0 | 0 | 30 | 0 | 0 | 0 | 0 | ... | 0 | 0 | 0 | 0 | 0 | 0 | 0 | 0 | 0 | 3 |\n",
       "| 6 | 1 | 0 | 0 | 1 | 0 | 10 | 0 | 1 | 0 | 0 | ... | 0 | 0 | 0 | 1 | 0 | 0 | 0 | 0 | 0 | 2 |\n",
       "\n"
      ],
      "text/plain": [
       "  foundation_typer ground_floor_typev foundation_typew\n",
       "1 1                0                  0               \n",
       "2 1                0                  0               \n",
       "3 1                0                  0               \n",
       "4 1                0                  0               \n",
       "5 1                0                  0               \n",
       "6 1                0                  0               \n",
       "  has_superstructure_mud_mortar_stone has_superstructure_cement_mortar_brick\n",
       "1 1                                   0                                     \n",
       "2 1                                   0                                     \n",
       "3 1                                   0                                     \n",
       "4 1                                   0                                     \n",
       "5 0                                   0                                     \n",
       "6 1                                   0                                     \n",
       "  age has_superstructure_rc_engineered other_floor_typeq\n",
       "1 30  0                                1                \n",
       "2 10  0                                1                \n",
       "3 10  0                                0                \n",
       "4 10  0                                0                \n",
       "5 30  0                                0                \n",
       "6 10  0                                1                \n",
       "  has_superstructure_rc_non_engineered foundation_typeu ...\n",
       "1 0                                    0                ...\n",
       "2 0                                    0                ...\n",
       "3 0                                    0                ...\n",
       "4 0                                    0                ...\n",
       "5 0                                    0                ...\n",
       "6 0                                    0                ...\n",
       "  has_superstructure_cement_mortar_stone has_superstructure_bamboo positiont\n",
       "1 0                                      0                         1        \n",
       "2 0                                      0                         0        \n",
       "3 0                                      0                         1        \n",
       "4 0                                      1                         0        \n",
       "5 0                                      0                         0        \n",
       "6 0                                      0                         0        \n",
       "  has_secondary_use legal_ownership_statusw plan_configurationc\n",
       "1 0                 0                       0                  \n",
       "2 0                 0                       0                  \n",
       "3 0                 0                       0                  \n",
       "4 0                 0                       0                  \n",
       "5 0                 0                       0                  \n",
       "6 1                 0                       0                  \n",
       "  plan_configurationa has_secondary_use_institution has_superstructure_other\n",
       "1 0                   0                             0                       \n",
       "2 0                   0                             0                       \n",
       "3 0                   0                             0                       \n",
       "4 0                   0                             0                       \n",
       "5 0                   0                             0                       \n",
       "6 0                   0                             0                       \n",
       "  damage_grade\n",
       "1 3           \n",
       "2 2           \n",
       "3 3           \n",
       "4 2           \n",
       "5 3           \n",
       "6 2           "
      ]
     },
     "metadata": {},
     "output_type": "display_data"
    }
   ],
   "source": [
    "head(New_Train)"
   ]
  },
  {
   "cell_type": "code",
   "execution_count": null,
   "metadata": {
    "vscode": {
     "languageId": "r"
    }
   },
   "outputs": [],
   "source": [
    "X<-New_Train[,setdiff(colnames(New_Train),\"damage_grade\")]\n",
    "Y<-New_Train[,\"damage_grade\"]\n",
    "\n",
    "\n",
    "N <-nrow(X)\n",
    "n <-ncol(X)"
   ]
  },
  {
   "attachments": {},
   "cell_type": "markdown",
   "metadata": {},
   "source": [
    "## QUESTION 2"
   ]
  },
  {
   "cell_type": "code",
   "execution_count": 32,
   "metadata": {
    "vscode": {
     "languageId": "r"
    }
   },
   "outputs": [],
   "source": [
    "# from https://pastebin.com/b6WufBNq\n",
    "\n",
    "ConfusionMatrix <- function(y_pred, y_true) {\n",
    "  Confusion_Mat <- table(y_true, y_pred)\n",
    "  return(Confusion_Mat)\n",
    "}\n",
    " \n",
    "ConfusionDF <- function(y_pred, y_true) {\n",
    "  Confusion_DF <- transform(as.data.frame(ConfusionMatrix(y_pred, y_true)),\n",
    "                            y_true = as.character(y_true),\n",
    "                            y_pred = as.character(y_pred),\n",
    "                            Freq = as.integer(Freq))\n",
    "  return(Confusion_DF)\n",
    "}\n",
    " \n",
    "Precision_micro <- function(y_true, y_pred, labels = NULL) {\n",
    "  Confusion_DF <- ConfusionDF(y_pred, y_true)\n",
    " \n",
    "  if (is.null(labels) == TRUE) labels <- unique(c(y_true, y_pred))\n",
    "  # this is not bulletproof since there might be labels missing (in strange cases)\n",
    "  # in strange cases where they existed in training set but are missing from test ground truth and predictions.\n",
    " \n",
    "  TP <- c()\n",
    "  FP <- c()\n",
    "  for (i in c(1:length(labels))) {\n",
    "    positive <- labels[i]\n",
    "   \n",
    "    # it may happen that a label is never predicted (missing from y_pred) but exists in y_true\n",
    "    # in this case ConfusionDF will not have these lines and thus the simplified code crashes\n",
    "    # TP[i] <- as.integer(Confusion_DF[which(Confusion_DF$y_true==positive & Confusion_DF$y_pred==positive), \"Freq\"])\n",
    "    # FP[i] <- as.integer(sum(Confusion_DF[which(Confusion_DF$y_true!=positive & Confusion_DF$y_pred==positive), \"Freq\"]))\n",
    "   \n",
    "    # workaround:\n",
    "    # i don't want to change ConfusionDF since i don't know if the current behaviour is a feature or a bug.\n",
    "    tmp <- Confusion_DF[which(Confusion_DF$y_true==positive & Confusion_DF$y_pred==positive), \"Freq\"]\n",
    "    TP[i] <- if (length(tmp)==0) 0 else as.integer(tmp)\n",
    "   \n",
    "    tmp <- Confusion_DF[which(Confusion_DF$y_true!=positive & Confusion_DF$y_pred==positive), \"Freq\"]\n",
    "    FP[i] <- if (length(tmp)==0) 0 else as.integer(sum(tmp))\n",
    "  }\n",
    "  Precision_micro <- sum(TP) / (sum(TP) + sum(FP))\n",
    "  return(Precision_micro)\n",
    "}\n",
    " \n",
    "Recall_micro <- function(y_true, y_pred, labels = NULL) {\n",
    "  Confusion_DF <- ConfusionDF(y_pred, y_true)\n",
    " \n",
    "  if (is.null(labels) == TRUE) labels <- unique(c(y_true, y_pred))\n",
    "  # this is not bulletproof since there might be labels missing (in strange cases)\n",
    "  # in strange cases where they existed in training set but are missing from test ground truth and predictions.\n",
    " \n",
    "  TP <- c()\n",
    "  FN <- c()\n",
    "  for (i in c(1:length(labels))) {\n",
    "    positive <- labels[i]\n",
    "   \n",
    "    # short version, comment out due to bug or feature of Confusion_DF\n",
    "    # TP[i] <- as.integer(Confusion_DF[which(Confusion_DF$y_true==positive & Confusion_DF$y_pred==positive), \"Freq\"])\n",
    "    # FP[i] <- as.integer(sum(Confusion_DF[which(Confusion_DF$y_true==positive & Confusion_DF$y_pred!=positive), \"Freq\"]))\n",
    "   \n",
    "    # workaround:\n",
    "    tmp <- Confusion_DF[which(Confusion_DF$y_true==positive & Confusion_DF$y_pred==positive), \"Freq\"]\n",
    "    TP[i] <- if (length(tmp)==0) 0 else as.integer(tmp)\n",
    " \n",
    "    tmp <- Confusion_DF[which(Confusion_DF$y_true==positive & Confusion_DF$y_pred!=positive), \"Freq\"]\n",
    "    FN[i] <- if (length(tmp)==0) 0 else as.integer(sum(tmp))\n",
    "  }\n",
    "  Recall_micro <- sum(TP) / (sum(TP) + sum(FN))\n",
    "  return(Recall_micro)\n",
    "}\n",
    " \n",
    "F1_Score_micro <- function(y_true, y_pred, labels = NULL) {\n",
    "  if (is.null(labels) == TRUE) labels <- unique(c(y_true, y_pred)) # possible problems if labels are missing from y_*\n",
    "  Precision <- Precision_micro(y_true, y_pred, labels)\n",
    "  Recall <- Recall_micro(y_true, y_pred, labels)\n",
    "  F1_Score_micro <- 2 * (Precision * Recall) / (Precision + Recall)\n",
    "  return(F1_Score_micro)\n",
    "}"
   ]
  },
  {
   "attachments": {},
   "cell_type": "markdown",
   "metadata": {},
   "source": [
    "MODEL 1 : Decision Tree"
   ]
  },
  {
   "cell_type": "code",
   "execution_count": 290,
   "metadata": {
    "vscode": {
     "languageId": "r"
    }
   },
   "outputs": [],
   "source": [
    "set.seed(10)"
   ]
  },
  {
   "cell_type": "code",
   "execution_count": 292,
   "metadata": {
    "vscode": {
     "languageId": "r"
    }
   },
   "outputs": [],
   "source": [
    "DTM <- New_Train"
   ]
  },
  {
   "cell_type": "code",
   "execution_count": 291,
   "metadata": {
    "vscode": {
     "languageId": "r"
    }
   },
   "outputs": [
    {
     "name": "stdout",
     "output_type": "stream",
     "text": [
      "[1] \"Training Set Size :  156360 Test set Size :  104241\"\n"
     ]
    },
    {
     "data": {
      "text/html": [
       "<table class=\"dataframe\">\n",
       "<caption>A data.frame: 16 x 1</caption>\n",
       "<thead>\n",
       "\t<tr><th></th><th scope=col>model.variable.importance</th></tr>\n",
       "\t<tr><th></th><th scope=col>&lt;dbl&gt;</th></tr>\n",
       "</thead>\n",
       "<tbody>\n",
       "\t<tr><th scope=row>geo_level_1_id</th><td>8175.22368</td></tr>\n",
       "\t<tr><th scope=row>foundation_typer</th><td>3411.24049</td></tr>\n",
       "\t<tr><th scope=row>foundation_typew</th><td>1246.04175</td></tr>\n",
       "\t<tr><th scope=row>foundation_typeu</th><td>1177.80318</td></tr>\n",
       "\t<tr><th scope=row>ground_floor_typev</th><td>1017.00657</td></tr>\n",
       "\t<tr><th scope=row>has_superstructure_cement_mortar_brick</th><td> 636.42758</td></tr>\n",
       "\t<tr><th scope=row>geo_level_2_id</th><td> 377.22388</td></tr>\n",
       "\t<tr><th scope=row>has_superstructure_rc_engineered</th><td> 329.12338</td></tr>\n",
       "\t<tr><th scope=row>has_superstructure_timber</th><td> 319.46450</td></tr>\n",
       "\t<tr><th scope=row>has_superstructure_bamboo</th><td> 230.07041</td></tr>\n",
       "\t<tr><th scope=row>positiont</th><td> 158.89154</td></tr>\n",
       "\t<tr><th scope=row>roof_typen</th><td> 152.12420</td></tr>\n",
       "\t<tr><th scope=row>area_percentage</th><td> 121.67116</td></tr>\n",
       "\t<tr><th scope=row>has_superstructure_mud_mortar_stone</th><td> 114.34941</td></tr>\n",
       "\t<tr><th scope=row>count_floors_pre_eq</th><td>  32.99041</td></tr>\n",
       "\t<tr><th scope=row>legal_ownership_statusw</th><td>  19.81143</td></tr>\n",
       "</tbody>\n",
       "</table>\n"
      ],
      "text/latex": [
       "A data.frame: 16 x 1\n",
       "\\begin{tabular}{r|l}\n",
       "  & model.variable.importance\\\\\n",
       "  & <dbl>\\\\\n",
       "\\hline\n",
       "\tgeo\\_level\\_1\\_id & 8175.22368\\\\\n",
       "\tfoundation\\_typer & 3411.24049\\\\\n",
       "\tfoundation\\_typew & 1246.04175\\\\\n",
       "\tfoundation\\_typeu & 1177.80318\\\\\n",
       "\tground\\_floor\\_typev & 1017.00657\\\\\n",
       "\thas\\_superstructure\\_cement\\_mortar\\_brick &  636.42758\\\\\n",
       "\tgeo\\_level\\_2\\_id &  377.22388\\\\\n",
       "\thas\\_superstructure\\_rc\\_engineered &  329.12338\\\\\n",
       "\thas\\_superstructure\\_timber &  319.46450\\\\\n",
       "\thas\\_superstructure\\_bamboo &  230.07041\\\\\n",
       "\tpositiont &  158.89154\\\\\n",
       "\troof\\_typen &  152.12420\\\\\n",
       "\tarea\\_percentage &  121.67116\\\\\n",
       "\thas\\_superstructure\\_mud\\_mortar\\_stone &  114.34941\\\\\n",
       "\tcount\\_floors\\_pre\\_eq &   32.99041\\\\\n",
       "\tlegal\\_ownership\\_statusw &   19.81143\\\\\n",
       "\\end{tabular}\n"
      ],
      "text/markdown": [
       "\n",
       "A data.frame: 16 x 1\n",
       "\n",
       "| <!--/--> | model.variable.importance &lt;dbl&gt; |\n",
       "|---|---|\n",
       "| geo_level_1_id | 8175.22368 |\n",
       "| foundation_typer | 3411.24049 |\n",
       "| foundation_typew | 1246.04175 |\n",
       "| foundation_typeu | 1177.80318 |\n",
       "| ground_floor_typev | 1017.00657 |\n",
       "| has_superstructure_cement_mortar_brick |  636.42758 |\n",
       "| geo_level_2_id |  377.22388 |\n",
       "| has_superstructure_rc_engineered |  329.12338 |\n",
       "| has_superstructure_timber |  319.46450 |\n",
       "| has_superstructure_bamboo |  230.07041 |\n",
       "| positiont |  158.89154 |\n",
       "| roof_typen |  152.12420 |\n",
       "| area_percentage |  121.67116 |\n",
       "| has_superstructure_mud_mortar_stone |  114.34941 |\n",
       "| count_floors_pre_eq |   32.99041 |\n",
       "| legal_ownership_statusw |   19.81143 |\n",
       "\n"
      ],
      "text/plain": [
       "                                       model.variable.importance\n",
       "geo_level_1_id                         8175.22368               \n",
       "foundation_typer                       3411.24049               \n",
       "foundation_typew                       1246.04175               \n",
       "foundation_typeu                       1177.80318               \n",
       "ground_floor_typev                     1017.00657               \n",
       "has_superstructure_cement_mortar_brick  636.42758               \n",
       "geo_level_2_id                          377.22388               \n",
       "has_superstructure_rc_engineered        329.12338               \n",
       "has_superstructure_timber               319.46450               \n",
       "has_superstructure_bamboo               230.07041               \n",
       "positiont                               158.89154               \n",
       "roof_typen                              152.12420               \n",
       "area_percentage                         121.67116               \n",
       "has_superstructure_mud_mortar_stone     114.34941               \n",
       "count_floors_pre_eq                      32.99041               \n",
       "legal_ownership_statusw                  19.81143               "
      ]
     },
     "metadata": {},
     "output_type": "display_data"
    },
    {
     "name": "stdout",
     "output_type": "stream",
     "text": [
      "[1] \"F1 Score: 0.607937375888566\"\n",
      "[1] \"Misclassification_rate On Damage Grade Prediction =  0.392062624111434\"\n",
      "[1] \"Accuracy On Damage Grade Prediction =  0.607937375888566\"\n"
     ]
    },
    {
     "data": {
      "image/png": "[encoded data removed]",
      "text/plain": [
       "plot without title"
      ]
     },
     "metadata": {
      "image/png": {
       "height": 420,
       "width": 420
      }
     },
     "output_type": "display_data"
    }
   ],
   "source": [
    "shuffled_index <- sample(1:nrow(DTM))\n",
    "train_data_idx <- sample(1:nrow(DTM), floor(0.6 * nrow(DTM)))\n",
    "train_data <- DTM[train_data_idx, ]\n",
    "test_data <- DTM[-train_data_idx, ]\n",
    "print(paste(\"Training Set Size : \",nrow(train_data) ,\"Test set Size : \",nrow(test_data) ))\n",
    "model <- rpart(damage_grade ~ . , method=\"class\", data=train_data)\n",
    "data.frame(model$variable.importance)\n",
    "rpart.plot(model, type=1 , fallen.leaves = F ,cex =0.9)\n",
    "Y_pred_probs <- predict(model, test_data[,-ncol(test_data)], type = \"prob\")\n",
    "Y <- test_data[,ncol(test_data)]\n",
    "Y_pred <- ifelse(Y_pred_probs[,1] > 0.3, \"1\", \n",
    "            ifelse(Y_pred_probs[,2] > 0.5, \"2\", \"3\"))\n",
    "confusion_matrix <- table(Y_pred, Y)\n",
    "Y_pred <- as.factor(Y_pred)\n",
    "Y <- as.factor(Y)\n",
    "f1_score <- F1_Score_micro(Y, Y_pred)\n",
    "print(paste(\"F1 Score:\", f1_score))\n",
    "accuracy = sum(diag(confusion_matrix))/sum(confusion_matrix)\n",
    "misclassification_rate = 1 - accuracy\n",
    "print(paste(\"Misclassification_rate On Damage Grade Prediction = \" , misclassification_rate))\n",
    "print(paste( \"Accuracy On Damage Grade Prediction = \" , accuracy))"
   ]
  },
  {
   "attachments": {},
   "cell_type": "markdown",
   "metadata": {},
   "source": [
    "MODEL 2 : Random Forest\n"
   ]
  },
  {
   "cell_type": "code",
   "execution_count": 33,
   "metadata": {
    "vscode": {
     "languageId": "r"
    }
   },
   "outputs": [
    {
     "name": "stdout",
     "output_type": "stream",
     "text": [
      "\n",
      "Les packages binaires t'el'echarg'es sont dans\n",
      "\t/var/folders/7j/n3q0pxkj3fvc8pf6rq5cpq680000gn/T//RtmpQXcQKs/downloaded_packages\n"
     ]
    },
    {
     "name": "stderr",
     "output_type": "stream",
     "text": [
      "randomForest 4.7-1.1\n",
      "\n",
      "Type rfNews() to see new features/changes/bug fixes.\n",
      "\n",
      "\n",
      "Attachement du package : 'randomForest'\n",
      "\n",
      "\n",
      "L'objet suivant est masqu'e depuis 'package:dplyr':\n",
      "\n",
      "    combine\n",
      "\n",
      "\n",
      "L'objet suivant est masqu'e depuis 'package:ggplot2':\n",
      "\n",
      "    margin\n",
      "\n",
      "\n"
     ]
    }
   ],
   "source": [
    "install.packages(\"randomForest\")\n",
    "library(\"randomForest\")"
   ]
  },
  {
   "cell_type": "code",
   "execution_count": 34,
   "metadata": {
    "vscode": {
     "languageId": "r"
    }
   },
   "outputs": [],
   "source": [
    "set.seed(11)"
   ]
  },
  {
   "cell_type": "code",
   "execution_count": 352,
   "metadata": {
    "vscode": {
     "languageId": "r"
    }
   },
   "outputs": [],
   "source": [
    "RFM <- New_Train"
   ]
  },
  {
   "cell_type": "code",
   "execution_count": 354,
   "metadata": {
    "vscode": {
     "languageId": "r"
    }
   },
   "outputs": [
    {
     "name": "stdout",
     "output_type": "stream",
     "text": [
      "[1] 0.6944526\n",
      "                                       MeanDecreaseGini\n",
      "foundation_typer                             1756.10325\n",
      "ground_floor_typev                           1432.68168\n",
      "foundation_typew                              414.78698\n",
      "has_superstructure_mud_mortar_stone          1364.51789\n",
      "has_superstructure_cement_mortar_brick        787.38762\n",
      "age                                          2732.08867\n",
      "has_superstructure_rc_engineered              391.46779\n",
      "other_floor_typeq                             643.48546\n",
      "has_superstructure_rc_non_engineered          392.86554\n",
      "foundation_typeu                              287.83407\n",
      "roof_typen                                    712.13320\n",
      "count_floors_pre_eq                           481.57076\n",
      "area_percentage                              2828.32755\n",
      "legal_ownership_statusa                       249.90562\n",
      "has_superstructure_timber                     644.31798\n",
      "has_secondary_use_hotel                       253.93180\n",
      "has_superstructure_stone_flag                 424.19204\n",
      "has_secondary_use_rental                      109.97569\n",
      "count_families                                508.60095\n",
      "has_superstructure_adobe_mud                  517.84425\n",
      "geo_level_1_id                              10016.21603\n",
      "plan_configurationu                           182.53180\n",
      "plan_configurationd                           346.12138\n",
      "geo_level_2_id                               5524.19836\n",
      "other_floor_typex                             369.32765\n",
      "has_superstructure_cement_mortar_stone        267.86444\n",
      "has_superstructure_bamboo                     425.31111\n",
      "positiont                                     571.51389\n",
      "has_secondary_use                             504.39930\n",
      "legal_ownership_statusw                       154.16652\n",
      "plan_configurationc                            32.71331\n",
      "plan_configurationa                            24.95592\n",
      "has_secondary_use_institution                  21.31029\n",
      "has_superstructure_other                      256.82183\n"
     ]
    },
    {
     "data": {
      "image/png": "[encoded data removed]",
      "text/plain": [
       "Plot with title \"Number of trees influence\""
      ]
     },
     "metadata": {
      "image/png": {
       "height": 420,
       "width": 420
      }
     },
     "output_type": "display_data"
    },
    {
     "name": "stdout",
     "output_type": "stream",
     "text": [
      "[1] \"F1 Score: 0.69445261636459\"\n"
     ]
    },
    {
     "data": {
      "image/png": "[encoded data removed]",
      "text/plain": [
       "Plot with title \"Number of trees influence\""
      ]
     },
     "metadata": {
      "image/png": {
       "height": 420,
       "width": 420
      }
     },
     "output_type": "display_data"
    }
   ],
   "source": [
    "n_trees <- 70\n",
    "accuracy_vec <- rep(0, n_trees)\n",
    "f1_score_vec <- rep(0, n_trees)\n",
    "\n",
    "class_weights <- table(RFM$damage_grade) / nrow(RFM)  # Computation of class weights\n",
    "\n",
    "for (i in 1:n_trees) {\n",
    "  # Creation of training and test sets\n",
    "  train_data_idx <- sample(1:nrow(RFM), floor(0.7 * nrow(RFM)))\n",
    "  train_data <- RFM[train_data_idx, ]\n",
    "  test_data <- RFM[-train_data_idx, ]\n",
    "  \n",
    "  # Random forest model\n",
    "  model <- randomForest(\n",
    "    x = train_data[, -which(names(train_data) == \"damage_grade\")],\n",
    "    y = as.factor(train_data$damage_grade),\n",
    "    ntree = i,\n",
    "    classwt = class_weights\n",
    "  )\n",
    "  \n",
    "  # Predict part\n",
    "  predictions <- predict(model, newdata = test_data[, -which(names(test_data) == \"damage_grade\")])\n",
    "  \n",
    "  # Accuracy\n",
    "  correct_predictions <- sum(predictions == test_data$damage_grade)\n",
    "  accuracy <- correct_predictions / nrow(test_data)\n",
    "  accuracy_vec[i] <- accuracy\n",
    "  \n",
    "  # F1-score\n",
    "  f1_score <- F1_Score_micro(test_data$damage_grade, predictions)  # Adjust positive class label if needed\n",
    "  f1_score_vec[i] <- f1_score\n",
    "}\n",
    "var_importance <- importance(model)\n",
    "print(accuracy)\n",
    "print(var_importance)\n",
    "plot(accuracy_vec, main = \"Number of trees influence\", xlab = \"Number of trees\", ylab = \"Classification rate\")\n",
    "plot(f1_score_vec, main = \"Number of trees influence\", xlab = \"Number of trees\", ylab = \"F1-score\")\n",
    "print(paste(\"F1 Score:\", f1_score))\n"
   ]
  },
  {
   "attachments": {},
   "cell_type": "markdown",
   "metadata": {},
   "source": [
    "MODEL 3 : Rigde "
   ]
  },
  {
   "cell_type": "code",
   "execution_count": 330,
   "metadata": {
    "vscode": {
     "languageId": "r"
    }
   },
   "outputs": [
    {
     "name": "stderr",
     "output_type": "stream",
     "text": [
      "installation de la d'ependance 'RcppEigen'\n",
      "\n",
      "\n"
     ]
    },
    {
     "name": "stdout",
     "output_type": "stream",
     "text": [
      "\n",
      "Les packages binaires t'el'echarg'es sont dans\n",
      "\t/var/folders/7j/n3q0pxkj3fvc8pf6rq5cpq680000gn/T//RtmpvzmHz1/downloaded_packages\n",
      "\n",
      "Les packages binaires t'el'echarg'es sont dans\n",
      "\t/var/folders/7j/n3q0pxkj3fvc8pf6rq5cpq680000gn/T//RtmpvzmHz1/downloaded_packages\n"
     ]
    },
    {
     "name": "stderr",
     "output_type": "stream",
     "text": [
      "Le chargement a n'ecessit'e le package : Matrix\n",
      "\n",
      "\n",
      "Attachement du package : 'Matrix'\n",
      "\n",
      "\n",
      "Les objets suivants sont masqu'es depuis 'package:tidyr':\n",
      "\n",
      "    expand, pack, unpack\n",
      "\n",
      "\n",
      "Loaded glmnet 4.1-7\n",
      "\n"
     ]
    }
   ],
   "source": [
    "install.packages(\"glmnet\")\n",
    "library(ridge)"
   ]
  },
  {
   "cell_type": "code",
   "execution_count": 324,
   "metadata": {
    "vscode": {
     "languageId": "r"
    }
   },
   "outputs": [],
   "source": [
    "set.seed(14)"
   ]
  },
  {
   "cell_type": "code",
   "execution_count": null,
   "metadata": {
    "vscode": {
     "languageId": "r"
    }
   },
   "outputs": [],
   "source": [
    "RRM <- New_Train"
   ]
  },
  {
   "cell_type": "code",
   "execution_count": 349,
   "metadata": {
    "vscode": {
     "languageId": "r"
    }
   },
   "outputs": [
    {
     "name": "stdout",
     "output_type": "stream",
     "text": [
      "[1] \"Training Set Size: 182420 Test Set Size: 78181\"\n",
      "[1] \"F1 Score: 0.573745539197503\"\n",
      "[1] \"Misclassification Rate on Damage Grade Prediction: 0.426254460802497\"\n",
      "[1] \"Accuracy on Damage Grade Prediction: 0.573745539197503\"\n",
      "                           (Intercept)       has_superstructure_rc_engineered \n",
      "                          1.9022189567                           0.2844242904 \n",
      "                   plan_configurationa                       foundation_typer \n",
      "                          0.2708087833                           0.2606022806 \n",
      "                    ground_floor_typev          has_superstructure_stone_flag \n",
      "                          0.2311994263                           0.2119682756 \n",
      "                   plan_configurationu                    plan_configurationc \n",
      "                          0.1902476688                           0.1860522219 \n",
      "   has_superstructure_mud_mortar_stone has_superstructure_cement_mortar_brick \n",
      "                          0.1687445198                           0.1617277167 \n",
      "                      foundation_typeu   has_superstructure_rc_non_engineered \n",
      "                          0.1553336749                           0.1165271825 \n",
      "               legal_ownership_statusw           has_superstructure_adobe_mud \n",
      "                          0.1096287371                           0.1041060378 \n",
      "              has_superstructure_other                              positiont \n",
      "                          0.1036989186                           0.0961716572 \n",
      "                   plan_configurationd               has_secondary_use_rental \n",
      "                          0.0863587379                           0.0859238493 \n",
      "             has_superstructure_timber                             roof_typen \n",
      "                          0.0793906558                           0.0667874416 \n",
      "                        count_families                       foundation_typew \n",
      "                          0.0665185220                           0.0657265717 \n",
      "                     other_floor_typex          has_secondary_use_institution \n",
      "                          0.0528192542                           0.0524914838 \n",
      "               legal_ownership_statusa has_superstructure_cement_mortar_stone \n",
      "                          0.0482952338                           0.0392690224 \n",
      "                   count_floors_pre_eq                      has_secondary_use \n",
      "                          0.0373954272                           0.0354671941 \n",
      "             has_superstructure_bamboo                has_secondary_use_hotel \n",
      "                          0.0326489182                           0.0098485305 \n",
      "                        geo_level_1_id                      other_floor_typeq \n",
      "                          0.0091879058                           0.0071239818 \n",
      "                       area_percentage                                    age \n",
      "                          0.0031989801                           0.0018293664 \n",
      "                        geo_level_2_id \n",
      "                          0.0003383831 \n"
     ]
    }
   ],
   "source": [
    "shuffled_index <- sample(1:nrow(RRM))\n",
    "half_index <- floor(nrow(RRM) * 0.7)\n",
    "train_data <- RRM[shuffled_index[1:half_index], ]\n",
    "test_data <- RRM[shuffled_index[(half_index+1):nrow(RRM)], ]\n",
    "print(paste(\"Training Set Size:\", half_index, \"Test Set Size:\", nrow(RRM) - half_index))\n",
    "\n",
    "\n",
    "model <- linearRidge(damage_grade ~ ., data = train_data, alpha = 0) \n",
    "\n",
    "\n",
    "# Predict test\n",
    "Y_pred <- predict(model, newdata = test_data)\n",
    "\n",
    "Y_pred <- as.factor(round(Y_pred))\n",
    "\n",
    "Y <- test_data$damage_grade \n",
    "confusion_matrix <- table(Y, Y_pred)\n",
    "\n",
    "# F1 Score\n",
    "f1_score <- F1_Score_micro(Y, Y_pred)\n",
    "print(paste(\"F1 Score:\", f1_score))\n",
    "\n",
    "accuracy <- sum(diag(confusion_matrix)) / sum(confusion_matrix)\n",
    "misclassification_rate <- 1 - accuracy\n",
    "print(paste(\"Misclassification Rate on Damage Grade Prediction:\", misclassification_rate))\n",
    "print(paste(\"Accuracy on Damage Grade Prediction:\", accuracy))\n",
    "coefficients <- coef(model)\n",
    "importance <- abs(coefficients)\n",
    "importance <- importance[order(importance, decreasing = TRUE)]\n",
    "print(importance)\n",
    "\n"
   ]
  },
  {
   "attachments": {},
   "cell_type": "markdown",
   "metadata": {},
   "source": [
    "What can we conclude about these results ?\n",
    "\n",
    "In our case the model that seems to be the most accurate is the random forest because it has the highest F1 score.\n",
    "The Random forest presents several advantages in our context such as its robustness to outliers and noise, because by building several independent decision trees, it is less sensitive to outliers and random errors, which can contribute to better performance\n",
    "Moreover, this model allows good results even when the classes are unbalanced.\n",
    "Finally, this model is able to capture complex and non-linear relationships between the input variables and the target variable. In a multiclass classification problem, it can be crucial to take into account complex interactions between the different classes"
   ]
  },
  {
   "attachments": {},
   "cell_type": "markdown",
   "metadata": {},
   "source": [
    "## QUESTION 3"
   ]
  },
  {
   "attachments": {},
   "cell_type": "markdown",
   "metadata": {},
   "source": [
    "In order to respond to this question we choose the Graident Descent Tree. The Gradient Descent Tree is by definition an extension of the classical decision trees but uses in addition the gradient descent to optimize the predictions. In our multiclass case, each node of the tree represents a region of the feature space associated with a class. During training, the algorithm adjusts the feature weights using gradient descent to minimize the overall loss. Predictions are obtained by traversing the tree until a leaf is reached and assigning the majority class. This results in a learning model capable of predicting classes in a multiclass problem."
   ]
  },
  {
   "cell_type": "code",
   "execution_count": 297,
   "metadata": {
    "vscode": {
     "languageId": "r"
    }
   },
   "outputs": [
    {
     "name": "stdout",
     "output_type": "stream",
     "text": [
      "\n",
      "Les packages binaires t'el'echarg'es sont dans\n",
      "\t/var/folders/7j/n3q0pxkj3fvc8pf6rq5cpq680000gn/T//RtmpvzmHz1/downloaded_packages\n"
     ]
    }
   ],
   "source": [
    "install.packages(\"xgboost\")\n",
    "library(xgboost)"
   ]
  },
  {
   "cell_type": "code",
   "execution_count": 298,
   "metadata": {
    "vscode": {
     "languageId": "r"
    }
   },
   "outputs": [],
   "source": [
    "set.seed(12)"
   ]
  },
  {
   "cell_type": "code",
   "execution_count": 303,
   "metadata": {
    "vscode": {
     "languageId": "r"
    }
   },
   "outputs": [
    {
     "name": "stdout",
     "output_type": "stream",
     "text": [
      "[1] \"Training Set Size: 182420 Test Set Size: 78181\"\n",
      "[1]\ttrain-mlogloss:1.167855 \n",
      "[2]\ttrain-mlogloss:1.035389 \n",
      "[3]\ttrain-mlogloss:0.947894 \n",
      "[4]\ttrain-mlogloss:0.885902 \n",
      "[5]\ttrain-mlogloss:0.841385 \n",
      "[6]\ttrain-mlogloss:0.808377 \n",
      "[7]\ttrain-mlogloss:0.783592 \n",
      "[8]\ttrain-mlogloss:0.762479 \n",
      "[9]\ttrain-mlogloss:0.746266 \n",
      "[10]\ttrain-mlogloss:0.732785 \n",
      "[11]\ttrain-mlogloss:0.722099 \n",
      "[12]\ttrain-mlogloss:0.712591 \n",
      "[13]\ttrain-mlogloss:0.704453 \n",
      "[14]\ttrain-mlogloss:0.697779 \n",
      "[15]\ttrain-mlogloss:0.691664 \n",
      "[16]\ttrain-mlogloss:0.686832 \n",
      "[17]\ttrain-mlogloss:0.680211 \n",
      "[18]\ttrain-mlogloss:0.675899 \n",
      "[19]\ttrain-mlogloss:0.672302 \n",
      "[20]\ttrain-mlogloss:0.668313 \n",
      "[21]\ttrain-mlogloss:0.665116 \n",
      "[22]\ttrain-mlogloss:0.662625 \n",
      "[23]\ttrain-mlogloss:0.660252 \n",
      "[24]\ttrain-mlogloss:0.658265 \n",
      "[25]\ttrain-mlogloss:0.656386 \n",
      "[26]\ttrain-mlogloss:0.654000 \n",
      "[27]\ttrain-mlogloss:0.652413 \n",
      "[28]\ttrain-mlogloss:0.650602 \n",
      "[29]\ttrain-mlogloss:0.648168 \n",
      "[30]\ttrain-mlogloss:0.646862 \n",
      "[31]\ttrain-mlogloss:0.644974 \n",
      "[32]\ttrain-mlogloss:0.643537 \n",
      "[33]\ttrain-mlogloss:0.642438 \n",
      "[34]\ttrain-mlogloss:0.641186 \n",
      "[35]\ttrain-mlogloss:0.640053 \n",
      "[36]\ttrain-mlogloss:0.638391 \n",
      "[37]\ttrain-mlogloss:0.636391 \n",
      "[38]\ttrain-mlogloss:0.635613 \n",
      "[39]\ttrain-mlogloss:0.634310 \n",
      "[40]\ttrain-mlogloss:0.633255 \n",
      "[41]\ttrain-mlogloss:0.631449 \n",
      "[42]\ttrain-mlogloss:0.630247 \n",
      "[43]\ttrain-mlogloss:0.629656 \n",
      "[44]\ttrain-mlogloss:0.628607 \n",
      "[45]\ttrain-mlogloss:0.627478 \n",
      "[46]\ttrain-mlogloss:0.626356 \n",
      "[47]\ttrain-mlogloss:0.625282 \n",
      "[48]\ttrain-mlogloss:0.623693 \n",
      "[49]\ttrain-mlogloss:0.622592 \n",
      "[50]\ttrain-mlogloss:0.621401 \n"
     ]
    },
    {
     "data": {
      "text/html": [
       "<table class=\"dataframe\">\n",
       "<caption>A data.table: 34 x 4</caption>\n",
       "<thead>\n",
       "\t<tr><th scope=col>Feature</th><th scope=col>Gain</th><th scope=col>Cover</th><th scope=col>Frequency</th></tr>\n",
       "\t<tr><th scope=col>&lt;chr&gt;</th><th scope=col>&lt;dbl&gt;</th><th scope=col>&lt;dbl&gt;</th><th scope=col>&lt;dbl&gt;</th></tr>\n",
       "</thead>\n",
       "<tbody>\n",
       "\t<tr><td>geo_level_1_id                        </td><td>4.262851e-01</td><td>2.361700e-01</td><td>0.1801043396</td></tr>\n",
       "\t<tr><td>foundation_typer                      </td><td>1.639412e-01</td><td>1.594855e-02</td><td>0.0125681764</td></tr>\n",
       "\t<tr><td>geo_level_2_id                        </td><td>1.422806e-01</td><td>3.561932e-01</td><td>0.3013990989</td></tr>\n",
       "\t<tr><td>has_superstructure_mud_mortar_stone   </td><td>4.853051e-02</td><td>2.795519e-02</td><td>0.0256106237</td></tr>\n",
       "\t<tr><td>ground_floor_typev                    </td><td>4.517243e-02</td><td>2.054931e-02</td><td>0.0107896609</td></tr>\n",
       "\t<tr><td>age                                   </td><td>4.250560e-02</td><td>5.955765e-02</td><td>0.0898743182</td></tr>\n",
       "\t<tr><td>has_superstructure_cement_mortar_brick</td><td>1.799307e-02</td><td>2.023005e-02</td><td>0.0131610149</td></tr>\n",
       "\t<tr><td>other_floor_typeq                     </td><td>1.707885e-02</td><td>2.237501e-02</td><td>0.0190894000</td></tr>\n",
       "\t<tr><td>area_percentage                       </td><td>1.259486e-02</td><td>4.038690e-02</td><td>0.0918899692</td></tr>\n",
       "\t<tr><td>has_superstructure_stone_flag         </td><td>9.479657e-03</td><td>1.382142e-02</td><td>0.0141095566</td></tr>\n",
       "\t<tr><td>roof_typen                            </td><td>9.136067e-03</td><td>8.786201e-03</td><td>0.0253734883</td></tr>\n",
       "\t<tr><td>has_superstructure_timber             </td><td>8.226565e-03</td><td>9.655544e-03</td><td>0.0227649988</td></tr>\n",
       "\t<tr><td>foundation_typew                      </td><td>7.555681e-03</td><td>7.529767e-03</td><td>0.0060469528</td></tr>\n",
       "\t<tr><td>count_families                        </td><td>6.159025e-03</td><td>1.134669e-02</td><td>0.0228835665</td></tr>\n",
       "\t<tr><td>has_secondary_use                     </td><td>5.773189e-03</td><td>2.558409e-02</td><td>0.0171923168</td></tr>\n",
       "\t<tr><td>has_superstructure_adobe_mud          </td><td>5.034283e-03</td><td>9.156234e-03</td><td>0.0125681764</td></tr>\n",
       "\t<tr><td>has_superstructure_rc_engineered      </td><td>4.418775e-03</td><td>1.195513e-02</td><td>0.0066397913</td></tr>\n",
       "\t<tr><td>foundation_typeu                      </td><td>3.863273e-03</td><td>1.463755e-03</td><td>0.0078254683</td></tr>\n",
       "\t<tr><td>count_floors_pre_eq                   </td><td>2.964369e-03</td><td>1.405299e-02</td><td>0.0145838274</td></tr>\n",
       "\t<tr><td>other_floor_typex                     </td><td>2.918265e-03</td><td>3.027715e-03</td><td>0.0149395305</td></tr>\n",
       "\t<tr><td>has_superstructure_cement_mortar_stone</td><td>2.789264e-03</td><td>1.354591e-02</td><td>0.0096039839</td></tr>\n",
       "\t<tr><td>has_superstructure_bamboo             </td><td>2.651993e-03</td><td>3.650409e-03</td><td>0.0130424472</td></tr>\n",
       "\t<tr><td>has_superstructure_rc_non_engineered  </td><td>2.632185e-03</td><td>1.969471e-03</td><td>0.0098411193</td></tr>\n",
       "\t<tr><td>has_superstructure_other              </td><td>2.273753e-03</td><td>4.466327e-03</td><td>0.0075883329</td></tr>\n",
       "\t<tr><td>positiont                             </td><td>1.493818e-03</td><td>1.581290e-02</td><td>0.0133981503</td></tr>\n",
       "\t<tr><td>plan_configurationu                   </td><td>1.450108e-03</td><td>1.551282e-02</td><td>0.0045055727</td></tr>\n",
       "\t<tr><td>legal_ownership_statusa               </td><td>9.977304e-04</td><td>1.457618e-03</td><td>0.0048612758</td></tr>\n",
       "\t<tr><td>legal_ownership_statusw               </td><td>9.602283e-04</td><td>2.412837e-03</td><td>0.0054541143</td></tr>\n",
       "\t<tr><td>plan_configurationd                   </td><td>9.543095e-04</td><td>7.869626e-03</td><td>0.0085368746</td></tr>\n",
       "\t<tr><td>has_secondary_use_hotel               </td><td>8.961318e-04</td><td>2.594644e-03</td><td>0.0078254683</td></tr>\n",
       "\t<tr><td>has_secondary_use_rental              </td><td>6.209582e-04</td><td>4.181140e-03</td><td>0.0035570311</td></tr>\n",
       "\t<tr><td>plan_configurationc                   </td><td>2.167481e-04</td><td>8.239734e-03</td><td>0.0014228124</td></tr>\n",
       "\t<tr><td>plan_configurationa                   </td><td>1.286787e-04</td><td>2.516334e-03</td><td>0.0005928385</td></tr>\n",
       "\t<tr><td>has_secondary_use_institution         </td><td>2.266836e-05</td><td>2.486774e-05</td><td>0.0003557031</td></tr>\n",
       "</tbody>\n",
       "</table>\n"
      ],
      "text/latex": [
       "A data.table: 34 x 4\n",
       "\\begin{tabular}{llll}\n",
       " Feature & Gain & Cover & Frequency\\\\\n",
       " <chr> & <dbl> & <dbl> & <dbl>\\\\\n",
       "\\hline\n",
       "\t geo\\_level\\_1\\_id                         & 4.262851e-01 & 2.361700e-01 & 0.1801043396\\\\\n",
       "\t foundation\\_typer                       & 1.639412e-01 & 1.594855e-02 & 0.0125681764\\\\\n",
       "\t geo\\_level\\_2\\_id                         & 1.422806e-01 & 3.561932e-01 & 0.3013990989\\\\\n",
       "\t has\\_superstructure\\_mud\\_mortar\\_stone    & 4.853051e-02 & 2.795519e-02 & 0.0256106237\\\\\n",
       "\t ground\\_floor\\_typev                     & 4.517243e-02 & 2.054931e-02 & 0.0107896609\\\\\n",
       "\t age                                    & 4.250560e-02 & 5.955765e-02 & 0.0898743182\\\\\n",
       "\t has\\_superstructure\\_cement\\_mortar\\_brick & 1.799307e-02 & 2.023005e-02 & 0.0131610149\\\\\n",
       "\t other\\_floor\\_typeq                      & 1.707885e-02 & 2.237501e-02 & 0.0190894000\\\\\n",
       "\t area\\_percentage                        & 1.259486e-02 & 4.038690e-02 & 0.0918899692\\\\\n",
       "\t has\\_superstructure\\_stone\\_flag          & 9.479657e-03 & 1.382142e-02 & 0.0141095566\\\\\n",
       "\t roof\\_typen                             & 9.136067e-03 & 8.786201e-03 & 0.0253734883\\\\\n",
       "\t has\\_superstructure\\_timber              & 8.226565e-03 & 9.655544e-03 & 0.0227649988\\\\\n",
       "\t foundation\\_typew                       & 7.555681e-03 & 7.529767e-03 & 0.0060469528\\\\\n",
       "\t count\\_families                         & 6.159025e-03 & 1.134669e-02 & 0.0228835665\\\\\n",
       "\t has\\_secondary\\_use                      & 5.773189e-03 & 2.558409e-02 & 0.0171923168\\\\\n",
       "\t has\\_superstructure\\_adobe\\_mud           & 5.034283e-03 & 9.156234e-03 & 0.0125681764\\\\\n",
       "\t has\\_superstructure\\_rc\\_engineered       & 4.418775e-03 & 1.195513e-02 & 0.0066397913\\\\\n",
       "\t foundation\\_typeu                       & 3.863273e-03 & 1.463755e-03 & 0.0078254683\\\\\n",
       "\t count\\_floors\\_pre\\_eq                    & 2.964369e-03 & 1.405299e-02 & 0.0145838274\\\\\n",
       "\t other\\_floor\\_typex                      & 2.918265e-03 & 3.027715e-03 & 0.0149395305\\\\\n",
       "\t has\\_superstructure\\_cement\\_mortar\\_stone & 2.789264e-03 & 1.354591e-02 & 0.0096039839\\\\\n",
       "\t has\\_superstructure\\_bamboo              & 2.651993e-03 & 3.650409e-03 & 0.0130424472\\\\\n",
       "\t has\\_superstructure\\_rc\\_non\\_engineered   & 2.632185e-03 & 1.969471e-03 & 0.0098411193\\\\\n",
       "\t has\\_superstructure\\_other               & 2.273753e-03 & 4.466327e-03 & 0.0075883329\\\\\n",
       "\t positiont                              & 1.493818e-03 & 1.581290e-02 & 0.0133981503\\\\\n",
       "\t plan\\_configurationu                    & 1.450108e-03 & 1.551282e-02 & 0.0045055727\\\\\n",
       "\t legal\\_ownership\\_statusa                & 9.977304e-04 & 1.457618e-03 & 0.0048612758\\\\\n",
       "\t legal\\_ownership\\_statusw                & 9.602283e-04 & 2.412837e-03 & 0.0054541143\\\\\n",
       "\t plan\\_configurationd                    & 9.543095e-04 & 7.869626e-03 & 0.0085368746\\\\\n",
       "\t has\\_secondary\\_use\\_hotel                & 8.961318e-04 & 2.594644e-03 & 0.0078254683\\\\\n",
       "\t has\\_secondary\\_use\\_rental               & 6.209582e-04 & 4.181140e-03 & 0.0035570311\\\\\n",
       "\t plan\\_configurationc                    & 2.167481e-04 & 8.239734e-03 & 0.0014228124\\\\\n",
       "\t plan\\_configurationa                    & 1.286787e-04 & 2.516334e-03 & 0.0005928385\\\\\n",
       "\t has\\_secondary\\_use\\_institution          & 2.266836e-05 & 2.486774e-05 & 0.0003557031\\\\\n",
       "\\end{tabular}\n"
      ],
      "text/markdown": [
       "\n",
       "A data.table: 34 x 4\n",
       "\n",
       "| Feature &lt;chr&gt; | Gain &lt;dbl&gt; | Cover &lt;dbl&gt; | Frequency &lt;dbl&gt; |\n",
       "|---|---|---|---|\n",
       "| geo_level_1_id                         | 4.262851e-01 | 2.361700e-01 | 0.1801043396 |\n",
       "| foundation_typer                       | 1.639412e-01 | 1.594855e-02 | 0.0125681764 |\n",
       "| geo_level_2_id                         | 1.422806e-01 | 3.561932e-01 | 0.3013990989 |\n",
       "| has_superstructure_mud_mortar_stone    | 4.853051e-02 | 2.795519e-02 | 0.0256106237 |\n",
       "| ground_floor_typev                     | 4.517243e-02 | 2.054931e-02 | 0.0107896609 |\n",
       "| age                                    | 4.250560e-02 | 5.955765e-02 | 0.0898743182 |\n",
       "| has_superstructure_cement_mortar_brick | 1.799307e-02 | 2.023005e-02 | 0.0131610149 |\n",
       "| other_floor_typeq                      | 1.707885e-02 | 2.237501e-02 | 0.0190894000 |\n",
       "| area_percentage                        | 1.259486e-02 | 4.038690e-02 | 0.0918899692 |\n",
       "| has_superstructure_stone_flag          | 9.479657e-03 | 1.382142e-02 | 0.0141095566 |\n",
       "| roof_typen                             | 9.136067e-03 | 8.786201e-03 | 0.0253734883 |\n",
       "| has_superstructure_timber              | 8.226565e-03 | 9.655544e-03 | 0.0227649988 |\n",
       "| foundation_typew                       | 7.555681e-03 | 7.529767e-03 | 0.0060469528 |\n",
       "| count_families                         | 6.159025e-03 | 1.134669e-02 | 0.0228835665 |\n",
       "| has_secondary_use                      | 5.773189e-03 | 2.558409e-02 | 0.0171923168 |\n",
       "| has_superstructure_adobe_mud           | 5.034283e-03 | 9.156234e-03 | 0.0125681764 |\n",
       "| has_superstructure_rc_engineered       | 4.418775e-03 | 1.195513e-02 | 0.0066397913 |\n",
       "| foundation_typeu                       | 3.863273e-03 | 1.463755e-03 | 0.0078254683 |\n",
       "| count_floors_pre_eq                    | 2.964369e-03 | 1.405299e-02 | 0.0145838274 |\n",
       "| other_floor_typex                      | 2.918265e-03 | 3.027715e-03 | 0.0149395305 |\n",
       "| has_superstructure_cement_mortar_stone | 2.789264e-03 | 1.354591e-02 | 0.0096039839 |\n",
       "| has_superstructure_bamboo              | 2.651993e-03 | 3.650409e-03 | 0.0130424472 |\n",
       "| has_superstructure_rc_non_engineered   | 2.632185e-03 | 1.969471e-03 | 0.0098411193 |\n",
       "| has_superstructure_other               | 2.273753e-03 | 4.466327e-03 | 0.0075883329 |\n",
       "| positiont                              | 1.493818e-03 | 1.581290e-02 | 0.0133981503 |\n",
       "| plan_configurationu                    | 1.450108e-03 | 1.551282e-02 | 0.0045055727 |\n",
       "| legal_ownership_statusa                | 9.977304e-04 | 1.457618e-03 | 0.0048612758 |\n",
       "| legal_ownership_statusw                | 9.602283e-04 | 2.412837e-03 | 0.0054541143 |\n",
       "| plan_configurationd                    | 9.543095e-04 | 7.869626e-03 | 0.0085368746 |\n",
       "| has_secondary_use_hotel                | 8.961318e-04 | 2.594644e-03 | 0.0078254683 |\n",
       "| has_secondary_use_rental               | 6.209582e-04 | 4.181140e-03 | 0.0035570311 |\n",
       "| plan_configurationc                    | 2.167481e-04 | 8.239734e-03 | 0.0014228124 |\n",
       "| plan_configurationa                    | 1.286787e-04 | 2.516334e-03 | 0.0005928385 |\n",
       "| has_secondary_use_institution          | 2.266836e-05 | 2.486774e-05 | 0.0003557031 |\n",
       "\n"
      ],
      "text/plain": [
       "   Feature                                Gain         Cover       \n",
       "1  geo_level_1_id                         4.262851e-01 2.361700e-01\n",
       "2  foundation_typer                       1.639412e-01 1.594855e-02\n",
       "3  geo_level_2_id                         1.422806e-01 3.561932e-01\n",
       "4  has_superstructure_mud_mortar_stone    4.853051e-02 2.795519e-02\n",
       "5  ground_floor_typev                     4.517243e-02 2.054931e-02\n",
       "6  age                                    4.250560e-02 5.955765e-02\n",
       "7  has_superstructure_cement_mortar_brick 1.799307e-02 2.023005e-02\n",
       "8  other_floor_typeq                      1.707885e-02 2.237501e-02\n",
       "9  area_percentage                        1.259486e-02 4.038690e-02\n",
       "10 has_superstructure_stone_flag          9.479657e-03 1.382142e-02\n",
       "11 roof_typen                             9.136067e-03 8.786201e-03\n",
       "12 has_superstructure_timber              8.226565e-03 9.655544e-03\n",
       "13 foundation_typew                       7.555681e-03 7.529767e-03\n",
       "14 count_families                         6.159025e-03 1.134669e-02\n",
       "15 has_secondary_use                      5.773189e-03 2.558409e-02\n",
       "16 has_superstructure_adobe_mud           5.034283e-03 9.156234e-03\n",
       "17 has_superstructure_rc_engineered       4.418775e-03 1.195513e-02\n",
       "18 foundation_typeu                       3.863273e-03 1.463755e-03\n",
       "19 count_floors_pre_eq                    2.964369e-03 1.405299e-02\n",
       "20 other_floor_typex                      2.918265e-03 3.027715e-03\n",
       "21 has_superstructure_cement_mortar_stone 2.789264e-03 1.354591e-02\n",
       "22 has_superstructure_bamboo              2.651993e-03 3.650409e-03\n",
       "23 has_superstructure_rc_non_engineered   2.632185e-03 1.969471e-03\n",
       "24 has_superstructure_other               2.273753e-03 4.466327e-03\n",
       "25 positiont                              1.493818e-03 1.581290e-02\n",
       "26 plan_configurationu                    1.450108e-03 1.551282e-02\n",
       "27 legal_ownership_statusa                9.977304e-04 1.457618e-03\n",
       "28 legal_ownership_statusw                9.602283e-04 2.412837e-03\n",
       "29 plan_configurationd                    9.543095e-04 7.869626e-03\n",
       "30 has_secondary_use_hotel                8.961318e-04 2.594644e-03\n",
       "31 has_secondary_use_rental               6.209582e-04 4.181140e-03\n",
       "32 plan_configurationc                    2.167481e-04 8.239734e-03\n",
       "33 plan_configurationa                    1.286787e-04 2.516334e-03\n",
       "34 has_secondary_use_institution          2.266836e-05 2.486774e-05\n",
       "   Frequency   \n",
       "1  0.1801043396\n",
       "2  0.0125681764\n",
       "3  0.3013990989\n",
       "4  0.0256106237\n",
       "5  0.0107896609\n",
       "6  0.0898743182\n",
       "7  0.0131610149\n",
       "8  0.0190894000\n",
       "9  0.0918899692\n",
       "10 0.0141095566\n",
       "11 0.0253734883\n",
       "12 0.0227649988\n",
       "13 0.0060469528\n",
       "14 0.0228835665\n",
       "15 0.0171923168\n",
       "16 0.0125681764\n",
       "17 0.0066397913\n",
       "18 0.0078254683\n",
       "19 0.0145838274\n",
       "20 0.0149395305\n",
       "21 0.0096039839\n",
       "22 0.0130424472\n",
       "23 0.0098411193\n",
       "24 0.0075883329\n",
       "25 0.0133981503\n",
       "26 0.0045055727\n",
       "27 0.0048612758\n",
       "28 0.0054541143\n",
       "29 0.0085368746\n",
       "30 0.0078254683\n",
       "31 0.0035570311\n",
       "32 0.0014228124\n",
       "33 0.0005928385\n",
       "34 0.0003557031"
      ]
     },
     "metadata": {},
     "output_type": "display_data"
    },
    {
     "name": "stdout",
     "output_type": "stream",
     "text": [
      "[1] \"F1 Score: 0.711042324861539\"\n",
      "[1] \"Misclassification Rate on Damage Grade Prediction: 0.288957675138461\"\n",
      "[1] \"Accuracy on Damage Grade Prediction: 0.711042324861539\"\n"
     ]
    }
   ],
   "source": [
    "# Creation of training and test sets\n",
    "shuffled_index <- sample(1:nrow(New_Train))\n",
    "\n",
    "# We indicate the ration between the test and training set\n",
    "half_index <- floor(nrow(New_Train)*0.7)\n",
    "\n",
    "# Creation of training and test sets\n",
    "train_data <- New_Train[shuffled_index[1:half_index], ]\n",
    "test_data <- New_Train[shuffled_index[(half_index+1):nrow(New_Train)], ]\n",
    "\n",
    "print(paste(\"Training Set Size:\", half_index, \"Test Set Size:\", nrow(New_Train)-half_index))\n",
    "\n",
    "# Gradient boosting tree model (XGBoost) we choose 50 because we have a good resulat with this paramter\n",
    "model <- xgboost(data = as.matrix(train_data[, -ncol(train_data)]),\n",
    "                 label = train_data[, ncol(train_data)],\n",
    "                 nrounds = 50,\n",
    "                 objective = \"multi:softmax\",\n",
    "                 num_class = 4)\n",
    "\n",
    "# Varaibles importance\n",
    "xgb.importance(feature_names = colnames(train_data[, -ncol(train_data)]), model = model)\n",
    "\n",
    "# Predict step\n",
    "Y_pred <- predict(model, as.matrix(test_data[, -ncol(test_data)]))\n",
    "\n",
    "Y <- test_data[, ncol(test_data)]\n",
    "\n",
    "# confusion matrix\n",
    "confusion_matrix <- table(Y, Y_pred)\n",
    "\n",
    "# F1 score\n",
    "library(MLmetrics)\n",
    "f1_score <- F1_Score_micro(Y, Y_pred)\n",
    "print(paste(\"F1 Score:\", f1_score))\n",
    "\n",
    "accuracy <- sum(diag(confusion_matrix)) / sum(confusion_matrix)\n",
    "misclassification_rate <- 1 - accuracy\n",
    "print(paste(\"Misclassification Rate on Damage Grade Prediction:\", misclassification_rate))\n",
    "print(paste(\"Accuracy on Damage Grade Prediction:\", accuracy))\n",
    "\n"
   ]
  },
  {
   "attachments": {},
   "cell_type": "markdown",
   "metadata": {},
   "source": [
    "The Gradient Descent Tree seems to show good performance, like the random forest it has a good ability to capture non-linear relationships, good handling to class imbalance and robustness to outliers.\n",
    "\n",
    "Update: After publishing on DrivenData their results between the random forest and GDT are almost identical probably because of their cleanliness quoted above that are common."
   ]
  },
  {
   "attachments": {},
   "cell_type": "markdown",
   "metadata": {},
   "source": [
    "## QUESTION 4 "
   ]
  },
  {
   "attachments": {},
   "cell_type": "markdown",
   "metadata": {},
   "source": [
    "We use the gradient descent tree"
   ]
  },
  {
   "cell_type": "code",
   "execution_count": 59,
   "metadata": {
    "vscode": {
     "languageId": "r"
    }
   },
   "outputs": [],
   "source": [
    "P <- predict(model, as.matrix(New_TrainT[, -ncol(New_Train)]))\n",
    "result_df  <- data.frame(building_id = test$building_id, damage_grade = P)\n",
    "write.csv(result_df, \"result.csv\", row.names = FALSE)"
   ]
  },
  {
   "attachments": {},
   "cell_type": "markdown",
   "metadata": {},
   "source": [
    "## QUESTION 5"
   ]
  },
  {
   "attachments": {},
   "cell_type": "markdown",
   "metadata": {},
   "source": [
    "The objective here is therefore to evaluate the relevance of the variables in a classification model using entropy. Conditional entropy is a measure of the uncertainty associated with a random variable conditional on another variable.\n",
    "\n",
    "For this we use a Random Forest classifier to predict the target variable \"damage_grade\". The first step is to train the Random Forest model on the full set of variables in the training dataset.\n",
    "\n",
    "Next, we compute the conditional entropy H(y|X), which measures the uncertainty of the target variable \"damage_grade\" given the set of predictor variables X. The conditional entropy is computed from the probabilities predicted by the model on the training data.\n",
    "\n",
    "Using this new model, we seek to calculate the conditional entropy H(y|X-i).\n",
    "\n",
    "The relevance of each variable is then evaluated by computing the difference between the conditional entropy H(y|X-i) and the conditional entropy H(y|X). A larger difference indicates that the variable has a greater contribution to reducing uncertainty in the damage_grade prediction.\n",
    "\n",
    "Finally, the variables are ranked according to their relevance, from most relevant to least relevant. This ranking allows us to identify the variables that have the greatest impact on the damage_grade prediction.\n",
    "\n",
    "\n",
    "\n",
    "URGENT NOT GOOD SCRIPT I THINK IT'S NOT WORKING PLEASE I REALLY SORRY"
   ]
  },
  {
   "attachments": {},
   "cell_type": "markdown",
   "metadata": {},
   "source": [
    "Definition of the entropy function : "
   ]
  },
  {
   "cell_type": "code",
   "execution_count": 52,
   "metadata": {
    "vscode": {
     "languageId": "r"
    }
   },
   "outputs": [],
   "source": [
    "entropy <- function(probabilities) {\n",
    "  -sum(probabilities * log2(probabilities))\n",
    "}"
   ]
  },
  {
   "cell_type": "code",
   "execution_count": 48,
   "metadata": {
    "vscode": {
     "languageId": "r"
    }
   },
   "outputs": [],
   "source": [
    "model <- randomForest(damage_grade ~ ., data = EnT)"
   ]
  },
  {
   "cell_type": "code",
   "execution_count": 47,
   "metadata": {
    "vscode": {
     "languageId": "r"
    }
   },
   "outputs": [],
   "source": [
    "EnT$damage_grade <- as.factor(EnT$damage_grade)"
   ]
  },
  {
   "cell_type": "code",
   "execution_count": 49,
   "metadata": {
    "vscode": {
     "languageId": "r"
    }
   },
   "outputs": [],
   "source": [
    "\n",
    "feature_importance <- importance(model)\n",
    "\n",
    "\n",
    "relevance <- numeric()"
   ]
  },
  {
   "cell_type": "code",
   "execution_count": 46,
   "metadata": {
    "vscode": {
     "languageId": "r"
    }
   },
   "outputs": [],
   "source": [
    "\n",
    "shuffled_index <- sample(1:nrow(EnT))\n",
    "\n",
    "\n",
    "half_index <- floor(nrow(EnT)*0.7)\n",
    "\n",
    "\n",
    "train_data <- EnT[shuffled_index[1:half_index], ]\n",
    "test_data <- EnT[shuffled_index[(half_index+1):nrow(EnT)], ]"
   ]
  },
  {
   "cell_type": "code",
   "execution_count": 53,
   "metadata": {
    "vscode": {
     "languageId": "r"
    }
   },
   "outputs": [],
   "source": [
    "probabilities <- predict(model, newdata = train_data, type = \"prob\")\n",
    "entropy_X <- entropy(probabilities)"
   ]
  },
  {
   "cell_type": "code",
   "execution_count": 57,
   "metadata": {
    "vscode": {
     "languageId": "r"
    }
   },
   "outputs": [],
   "source": [
    "for (i in 1:(ncol(train_data) - 1)) {\n",
    "\n",
    "  Xmi <- train_data[, -i]\n",
    "  \n",
    " \n",
    "  modelmi <- randomForest(formula = damage_grade ~ ., data = Xmi)\n",
    "  \n",
    " \n",
    "  probabilitiesmi <- predict(modelmi, newdata = Xmi, type = \"prob\")\n",
    "  entropyXmi <- entropy(probabilitiesmi)\n",
    "  \n",
    " \n",
    "  pertinence_variable[i] <- entropyXmi - entropy_X\n",
    "}"
   ]
  },
  {
   "cell_type": "code",
   "execution_count": 44,
   "metadata": {
    "vscode": {
     "languageId": "r"
    }
   },
   "outputs": [],
   "source": [
    "EnT <- New_Train"
   ]
  },
  {
   "cell_type": "code",
   "execution_count": 56,
   "metadata": {
    "vscode": {
     "languageId": "r"
    }
   },
   "outputs": [],
   "source": [
    "pertinence_variable <- numeric(ncol(train_data) - 1)"
   ]
  }
 ],
 "metadata": {
  "kernelspec": {
   "display_name": "R",
   "language": "R",
   "name": "ir"
  },
  "language_info": {
   "codemirror_mode": "r",
   "file_extension": ".r",
   "mimetype": "text/x-r-source",
   "name": "R",
   "pygments_lexer": "r",
   "version": "4.2.3"
  },
  "orig_nbformat": 4
 },
 "nbformat": 4,
 "nbformat_minor": 2
}
